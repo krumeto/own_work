{
  "nbformat": 4,
  "nbformat_minor": 0,
  "metadata": {
    "colab": {
      "name": "Patient readmission based on Diabetes data from 130 US hospitals for years 1999-2008.ipynb",
      "version": "0.3.2",
      "provenance": [],
      "include_colab_link": true
    },
    "kernelspec": {
      "display_name": "Python 3",
      "language": "python",
      "name": "python3"
    }
  },
  "cells": [
    {
      "cell_type": "markdown",
      "metadata": {
        "id": "view-in-github",
        "colab_type": "text"
      },
      "source": [
        "<a href=\"https://colab.research.google.com/github/krumeto/own_work/blob/master/Patient_readmission_based_on_Diabetes_data_from_130_US_hospitals_for_years_1999_2008.ipynb\" target=\"_parent\"><img src=\"https://colab.research.google.com/assets/colab-badge.svg\" alt=\"Open In Colab\"/></a>"
      ]
    },
    {
      "metadata": {
        "id": "rVdb-QGQBFZO",
        "colab_type": "code",
        "colab": {}
      },
      "cell_type": "code",
      "source": [
        "%matplotlib inline"
      ],
      "execution_count": 0,
      "outputs": []
    },
    {
      "metadata": {
        "id": "FTmN2LAFBFZV",
        "colab_type": "code",
        "colab": {}
      },
      "cell_type": "code",
      "source": [
        "import pandas as pd\n",
        "import numpy as np\n",
        "import matplotlib.pyplot as plt\n",
        "import re"
      ],
      "execution_count": 0,
      "outputs": []
    },
    {
      "metadata": {
        "id": "pYQlCmEOBFZZ",
        "colab_type": "code",
        "colab": {}
      },
      "cell_type": "code",
      "source": [
        "#SciKit Learn imports\n",
        "from sklearn.model_selection import train_test_split\n",
        "from sklearn.neighbors import KNeighborsClassifier\n",
        "from sklearn.linear_model import LogisticRegression\n",
        "from sklearn.tree import DecisionTreeClassifier\n",
        "from sklearn.ensemble import RandomForestClassifier\n",
        "from sklearn.svm import LinearSVC\n",
        "from sklearn.preprocessing import MinMaxScaler\n",
        "from sklearn.model_selection import GridSearchCV\n",
        "from sklearn.ensemble import GradientBoostingClassifier\n",
        "from sklearn import metrics\n",
        "\n",
        "from sklearn.feature_selection import SelectKBest\n",
        "from sklearn.feature_selection import chi2"
      ],
      "execution_count": 0,
      "outputs": []
    },
    {
      "metadata": {
        "id": "RnAxuXgfBFZd",
        "colab_type": "text"
      },
      "cell_type": "markdown",
      "source": [
        "## Patient readmission prediction based on Diabetes data from 130 US hospitals for years 1999-2008\n",
        "\n",
        "### Autor: Krum Arnaudov for Machine Learning course, October 2018, SoftUni"
      ]
    },
    {
      "metadata": {
        "id": "-9JvGuqjBFZf",
        "colab_type": "text"
      },
      "cell_type": "markdown",
      "source": [
        "This study used the Health Facts database (Cerner Corporation, Kansas City, MO), a national data warehouse that collects comprehensive clinical records across hospitals throughout the United States. The dataset was found in and provided by Kaggle, but very few Kernels have used it so far. \n",
        "\n",
        "The data set represents 10 years (1999-2008) of clinical care at 130 US hospitals and integrated delivery networks. It includes over 50 features representing patient and hospital outcomes. Information was extracted from the database for encounters that satisfied the following criteria.\n",
        "\n",
        "* It is an inpatient encounter (a hospital admission).\n",
        "* It is a diabetic encounter, that is, one during which any kind of diabetes was entered to the system as a diagnosis.\n",
        "* The length of stay was at least 1 day and at most 14 days.\n",
        "* Laboratory tests were performed during the encounter.\n",
        "* Medications were administered during the encounter.\n",
        "\n",
        "The data contains such attributes as patient number, race, gender, age, admission type, time in hospital, medical specialty of admitting physician, number of lab test performed, HbA1c test result, diagnosis, number of medication, diabetic medications, number of outpatient, inpatient, and emergency visits in the year before the hospitalization, etc.\n",
        "\n",
        "The Feature Description file contains information on all features of the dataset.\n",
        "\n",
        "The goal of the study is to model readmission paterns. Due to time constraint, I will use binary classification - \"readmitted\" or \"not\". "
      ]
    },
    {
      "metadata": {
        "id": "cw3sjk39BFZg",
        "colab_type": "text"
      },
      "cell_type": "markdown",
      "source": [
        "## **1. Exploratory Data Analysis and Preprocessing**"
      ]
    },
    {
      "metadata": {
        "id": "HAKILXS2BFZi",
        "colab_type": "code",
        "colab": {}
      },
      "cell_type": "code",
      "source": [
        "data = pd.read_csv(\"diabetic_data.csv\")"
      ],
      "execution_count": 0,
      "outputs": []
    },
    {
      "metadata": {
        "id": "jBYqTXh2BFZp",
        "colab_type": "code",
        "outputId": "955fc48c-595a-456f-8e74-105387e40389",
        "colab": {
          "base_uri": "https://localhost:8080/",
          "height": 952
        }
      },
      "cell_type": "code",
      "source": [
        "data.info()"
      ],
      "execution_count": 0,
      "outputs": [
        {
          "output_type": "stream",
          "text": [
            "<class 'pandas.core.frame.DataFrame'>\n",
            "RangeIndex: 71967 entries, 0 to 71966\n",
            "Data columns (total 50 columns):\n",
            "encounter_id                71967 non-null int64\n",
            "patient_nbr                 71967 non-null int64\n",
            "race                        71967 non-null object\n",
            "gender                      71967 non-null object\n",
            "age                         71967 non-null object\n",
            "weight                      71967 non-null object\n",
            "admission_type_id           71967 non-null int64\n",
            "discharge_disposition_id    71967 non-null int64\n",
            "admission_source_id         71967 non-null int64\n",
            "time_in_hospital            71967 non-null int64\n",
            "payer_code                  71967 non-null object\n",
            "medical_specialty           71967 non-null object\n",
            "num_lab_procedures          71967 non-null int64\n",
            "num_procedures              71967 non-null int64\n",
            "num_medications             71967 non-null int64\n",
            "number_outpatient           71967 non-null int64\n",
            "number_emergency            71967 non-null int64\n",
            "number_inpatient            71967 non-null int64\n",
            "diag_1                      71967 non-null object\n",
            "diag_2                      71967 non-null object\n",
            "diag_3                      71967 non-null object\n",
            "number_diagnoses            71967 non-null int64\n",
            "max_glu_serum               71967 non-null object\n",
            "A1Cresult                   71967 non-null object\n",
            "metformin                   71967 non-null object\n",
            "repaglinide                 71967 non-null object\n",
            "nateglinide                 71967 non-null object\n",
            "chlorpropamide              71967 non-null object\n",
            "glimepiride                 71967 non-null object\n",
            "acetohexamide               71967 non-null object\n",
            "glipizide                   71967 non-null object\n",
            "glyburide                   71966 non-null object\n",
            "tolbutamide                 71966 non-null object\n",
            "pioglitazone                71966 non-null object\n",
            "rosiglitazone               71966 non-null object\n",
            "acarbose                    71966 non-null object\n",
            "miglitol                    71966 non-null object\n",
            "troglitazone                71966 non-null object\n",
            "tolazamide                  71966 non-null object\n",
            "examide                     71966 non-null object\n",
            "citoglipton                 71966 non-null object\n",
            "insulin                     71966 non-null object\n",
            "glyburide-metformin         71966 non-null object\n",
            "glipizide-metformin         71966 non-null object\n",
            "glimepiride-pioglitazone    71966 non-null object\n",
            "metformin-rosiglitazone     71966 non-null object\n",
            "metformin-pioglitazone      71966 non-null object\n",
            "change                      71966 non-null object\n",
            "diabetesMed                 71966 non-null object\n",
            "readmitted                  71966 non-null object\n",
            "dtypes: int64(13), object(37)\n",
            "memory usage: 27.5+ MB\n"
          ],
          "name": "stdout"
        }
      ]
    },
    {
      "metadata": {
        "id": "7zACha4jBFZz",
        "colab_type": "text"
      },
      "cell_type": "markdown",
      "source": [
        "The dataset contains 50 columns and 101765 rows. Suprisingly, it looks like having no missing values. This looks highly suspicious, considering the fact that should-be-numerical columns like 'age' and 'weight' are read as objects. Let us take a closer look at the first rows of data."
      ]
    },
    {
      "metadata": {
        "id": "9Gsi0_fwBFZ1",
        "colab_type": "code",
        "outputId": "e36890d1-e130-445e-d109-b98fa46fdf54",
        "colab": {
          "base_uri": "https://localhost:8080/",
          "height": 355
        }
      },
      "cell_type": "code",
      "source": [
        "data.head()"
      ],
      "execution_count": 0,
      "outputs": [
        {
          "output_type": "execute_result",
          "data": {
            "text/html": [
              "<div>\n",
              "<style scoped>\n",
              "    .dataframe tbody tr th:only-of-type {\n",
              "        vertical-align: middle;\n",
              "    }\n",
              "\n",
              "    .dataframe tbody tr th {\n",
              "        vertical-align: top;\n",
              "    }\n",
              "\n",
              "    .dataframe thead th {\n",
              "        text-align: right;\n",
              "    }\n",
              "</style>\n",
              "<table border=\"1\" class=\"dataframe\">\n",
              "  <thead>\n",
              "    <tr style=\"text-align: right;\">\n",
              "      <th></th>\n",
              "      <th>encounter_id</th>\n",
              "      <th>patient_nbr</th>\n",
              "      <th>race</th>\n",
              "      <th>gender</th>\n",
              "      <th>age</th>\n",
              "      <th>weight</th>\n",
              "      <th>admission_type_id</th>\n",
              "      <th>discharge_disposition_id</th>\n",
              "      <th>admission_source_id</th>\n",
              "      <th>time_in_hospital</th>\n",
              "      <th>...</th>\n",
              "      <th>citoglipton</th>\n",
              "      <th>insulin</th>\n",
              "      <th>glyburide-metformin</th>\n",
              "      <th>glipizide-metformin</th>\n",
              "      <th>glimepiride-pioglitazone</th>\n",
              "      <th>metformin-rosiglitazone</th>\n",
              "      <th>metformin-pioglitazone</th>\n",
              "      <th>change</th>\n",
              "      <th>diabetesMed</th>\n",
              "      <th>readmitted</th>\n",
              "    </tr>\n",
              "  </thead>\n",
              "  <tbody>\n",
              "    <tr>\n",
              "      <th>0</th>\n",
              "      <td>2278392</td>\n",
              "      <td>8222157</td>\n",
              "      <td>Caucasian</td>\n",
              "      <td>Female</td>\n",
              "      <td>[0-10)</td>\n",
              "      <td>?</td>\n",
              "      <td>6</td>\n",
              "      <td>25</td>\n",
              "      <td>1</td>\n",
              "      <td>1</td>\n",
              "      <td>...</td>\n",
              "      <td>No</td>\n",
              "      <td>No</td>\n",
              "      <td>No</td>\n",
              "      <td>No</td>\n",
              "      <td>No</td>\n",
              "      <td>No</td>\n",
              "      <td>No</td>\n",
              "      <td>No</td>\n",
              "      <td>No</td>\n",
              "      <td>NO</td>\n",
              "    </tr>\n",
              "    <tr>\n",
              "      <th>1</th>\n",
              "      <td>149190</td>\n",
              "      <td>55629189</td>\n",
              "      <td>Caucasian</td>\n",
              "      <td>Female</td>\n",
              "      <td>[10-20)</td>\n",
              "      <td>?</td>\n",
              "      <td>1</td>\n",
              "      <td>1</td>\n",
              "      <td>7</td>\n",
              "      <td>3</td>\n",
              "      <td>...</td>\n",
              "      <td>No</td>\n",
              "      <td>Up</td>\n",
              "      <td>No</td>\n",
              "      <td>No</td>\n",
              "      <td>No</td>\n",
              "      <td>No</td>\n",
              "      <td>No</td>\n",
              "      <td>Ch</td>\n",
              "      <td>Yes</td>\n",
              "      <td>&gt;30</td>\n",
              "    </tr>\n",
              "    <tr>\n",
              "      <th>2</th>\n",
              "      <td>64410</td>\n",
              "      <td>86047875</td>\n",
              "      <td>AfricanAmerican</td>\n",
              "      <td>Female</td>\n",
              "      <td>[20-30)</td>\n",
              "      <td>?</td>\n",
              "      <td>1</td>\n",
              "      <td>1</td>\n",
              "      <td>7</td>\n",
              "      <td>2</td>\n",
              "      <td>...</td>\n",
              "      <td>No</td>\n",
              "      <td>No</td>\n",
              "      <td>No</td>\n",
              "      <td>No</td>\n",
              "      <td>No</td>\n",
              "      <td>No</td>\n",
              "      <td>No</td>\n",
              "      <td>No</td>\n",
              "      <td>Yes</td>\n",
              "      <td>NO</td>\n",
              "    </tr>\n",
              "    <tr>\n",
              "      <th>3</th>\n",
              "      <td>500364</td>\n",
              "      <td>82442376</td>\n",
              "      <td>Caucasian</td>\n",
              "      <td>Male</td>\n",
              "      <td>[30-40)</td>\n",
              "      <td>?</td>\n",
              "      <td>1</td>\n",
              "      <td>1</td>\n",
              "      <td>7</td>\n",
              "      <td>2</td>\n",
              "      <td>...</td>\n",
              "      <td>No</td>\n",
              "      <td>Up</td>\n",
              "      <td>No</td>\n",
              "      <td>No</td>\n",
              "      <td>No</td>\n",
              "      <td>No</td>\n",
              "      <td>No</td>\n",
              "      <td>Ch</td>\n",
              "      <td>Yes</td>\n",
              "      <td>NO</td>\n",
              "    </tr>\n",
              "    <tr>\n",
              "      <th>4</th>\n",
              "      <td>16680</td>\n",
              "      <td>42519267</td>\n",
              "      <td>Caucasian</td>\n",
              "      <td>Male</td>\n",
              "      <td>[40-50)</td>\n",
              "      <td>?</td>\n",
              "      <td>1</td>\n",
              "      <td>1</td>\n",
              "      <td>7</td>\n",
              "      <td>1</td>\n",
              "      <td>...</td>\n",
              "      <td>No</td>\n",
              "      <td>Steady</td>\n",
              "      <td>No</td>\n",
              "      <td>No</td>\n",
              "      <td>No</td>\n",
              "      <td>No</td>\n",
              "      <td>No</td>\n",
              "      <td>Ch</td>\n",
              "      <td>Yes</td>\n",
              "      <td>NO</td>\n",
              "    </tr>\n",
              "  </tbody>\n",
              "</table>\n",
              "<p>5 rows × 50 columns</p>\n",
              "</div>"
            ],
            "text/plain": [
              "   encounter_id  patient_nbr             race  gender      age weight  \\\n",
              "0       2278392      8222157        Caucasian  Female   [0-10)      ?   \n",
              "1        149190     55629189        Caucasian  Female  [10-20)      ?   \n",
              "2         64410     86047875  AfricanAmerican  Female  [20-30)      ?   \n",
              "3        500364     82442376        Caucasian    Male  [30-40)      ?   \n",
              "4         16680     42519267        Caucasian    Male  [40-50)      ?   \n",
              "\n",
              "   admission_type_id  discharge_disposition_id  admission_source_id  \\\n",
              "0                  6                        25                    1   \n",
              "1                  1                         1                    7   \n",
              "2                  1                         1                    7   \n",
              "3                  1                         1                    7   \n",
              "4                  1                         1                    7   \n",
              "\n",
              "   time_in_hospital    ...     citoglipton insulin  glyburide-metformin  \\\n",
              "0                 1    ...              No      No                   No   \n",
              "1                 3    ...              No      Up                   No   \n",
              "2                 2    ...              No      No                   No   \n",
              "3                 2    ...              No      Up                   No   \n",
              "4                 1    ...              No  Steady                   No   \n",
              "\n",
              "   glipizide-metformin  glimepiride-pioglitazone  metformin-rosiglitazone  \\\n",
              "0                   No                        No                       No   \n",
              "1                   No                        No                       No   \n",
              "2                   No                        No                       No   \n",
              "3                   No                        No                       No   \n",
              "4                   No                        No                       No   \n",
              "\n",
              "   metformin-pioglitazone  change diabetesMed readmitted  \n",
              "0                      No      No          No         NO  \n",
              "1                      No      Ch         Yes        >30  \n",
              "2                      No      No         Yes         NO  \n",
              "3                      No      Ch         Yes         NO  \n",
              "4                      No      Ch         Yes         NO  \n",
              "\n",
              "[5 rows x 50 columns]"
            ]
          },
          "metadata": {
            "tags": []
          },
          "execution_count": 11
        }
      ]
    },
    {
      "metadata": {
        "id": "CItDdFdwBFZ9",
        "colab_type": "text"
      },
      "cell_type": "markdown",
      "source": [
        "Looking at the weight column, it looks like missing values were mapped with question marks in the dataset. Let us look if that same pattern can be seen in other columns"
      ]
    },
    {
      "metadata": {
        "id": "g3xoS7KmBFaB",
        "colab_type": "code",
        "outputId": "9358aa91-b176-48e4-886a-edb8ccefe8df",
        "colab": {
          "base_uri": "https://localhost:8080/",
          "height": 884
        }
      },
      "cell_type": "code",
      "source": [
        "mask = data.applymap(lambda x: '?' in str(x)) ##https://stackoverflow.com/questions/44237170/how-to-search-a-partial-string-in-the-whole-dataframe-using-pandas\n",
        "#na_data = data[mask.any(axis=1)]\n",
        "#na_data\n",
        "mask.sum()"
      ],
      "execution_count": 0,
      "outputs": [
        {
          "output_type": "execute_result",
          "data": {
            "text/plain": [
              "encounter_id                    0\n",
              "patient_nbr                     0\n",
              "race                         1377\n",
              "gender                          0\n",
              "age                             0\n",
              "weight                      69596\n",
              "admission_type_id               0\n",
              "discharge_disposition_id        0\n",
              "admission_source_id             0\n",
              "time_in_hospital                0\n",
              "payer_code                  37165\n",
              "medical_specialty           30018\n",
              "num_lab_procedures              0\n",
              "num_procedures                  0\n",
              "num_medications                 0\n",
              "number_outpatient               0\n",
              "number_emergency                0\n",
              "number_inpatient                0\n",
              "diag_1                         18\n",
              "diag_2                        316\n",
              "diag_3                       1250\n",
              "number_diagnoses                0\n",
              "max_glu_serum                   0\n",
              "A1Cresult                       0\n",
              "metformin                       0\n",
              "repaglinide                     0\n",
              "nateglinide                     0\n",
              "chlorpropamide                  0\n",
              "glimepiride                     0\n",
              "acetohexamide                   0\n",
              "glipizide                       0\n",
              "glyburide                       0\n",
              "tolbutamide                     0\n",
              "pioglitazone                    0\n",
              "rosiglitazone                   0\n",
              "acarbose                        0\n",
              "miglitol                        0\n",
              "troglitazone                    0\n",
              "tolazamide                      0\n",
              "examide                         0\n",
              "citoglipton                     0\n",
              "insulin                         0\n",
              "glyburide-metformin             0\n",
              "glipizide-metformin             0\n",
              "glimepiride-pioglitazone        0\n",
              "metformin-rosiglitazone         0\n",
              "metformin-pioglitazone          0\n",
              "change                          0\n",
              "diabetesMed                     0\n",
              "readmitted                      0\n",
              "dtype: int64"
            ]
          },
          "metadata": {
            "tags": []
          },
          "execution_count": 12
        }
      ]
    },
    {
      "metadata": {
        "id": "wfyJXE0ZBFaH",
        "colab_type": "text"
      },
      "cell_type": "markdown",
      "source": [
        "High number of NaNs can be observed in columns weight (above 90%), payer code and medical specialty. I will replace the question mark with NaN to enable Pandas NaN-related functions."
      ]
    },
    {
      "metadata": {
        "id": "Hu9hHyJ0BFaJ",
        "colab_type": "code",
        "outputId": "89e53fee-e42e-4ed0-e9cd-1d7f0d7780ea",
        "colab": {
          "base_uri": "https://localhost:8080/",
          "height": 884
        }
      },
      "cell_type": "code",
      "source": [
        "data = data.replace('?', np.nan)\n",
        "data.isna().sum()"
      ],
      "execution_count": 0,
      "outputs": [
        {
          "output_type": "execute_result",
          "data": {
            "text/plain": [
              "encounter_id                    0\n",
              "patient_nbr                     0\n",
              "race                         1377\n",
              "gender                          0\n",
              "age                             0\n",
              "weight                      69596\n",
              "admission_type_id               0\n",
              "discharge_disposition_id        0\n",
              "admission_source_id             0\n",
              "time_in_hospital                0\n",
              "payer_code                  37165\n",
              "medical_specialty           30018\n",
              "num_lab_procedures              0\n",
              "num_procedures                  0\n",
              "num_medications                 0\n",
              "number_outpatient               0\n",
              "number_emergency                0\n",
              "number_inpatient                0\n",
              "diag_1                         18\n",
              "diag_2                        316\n",
              "diag_3                       1250\n",
              "number_diagnoses                0\n",
              "max_glu_serum                   0\n",
              "A1Cresult                       0\n",
              "metformin                       0\n",
              "repaglinide                     0\n",
              "nateglinide                     0\n",
              "chlorpropamide                  0\n",
              "glimepiride                     0\n",
              "acetohexamide                   0\n",
              "glipizide                       0\n",
              "glyburide                       1\n",
              "tolbutamide                     1\n",
              "pioglitazone                    1\n",
              "rosiglitazone                   1\n",
              "acarbose                        1\n",
              "miglitol                        1\n",
              "troglitazone                    1\n",
              "tolazamide                      1\n",
              "examide                         1\n",
              "citoglipton                     1\n",
              "insulin                         1\n",
              "glyburide-metformin             1\n",
              "glipizide-metformin             1\n",
              "glimepiride-pioglitazone        1\n",
              "metformin-rosiglitazone         1\n",
              "metformin-pioglitazone          1\n",
              "change                          1\n",
              "diabetesMed                     1\n",
              "readmitted                      1\n",
              "dtype: int64"
            ]
          },
          "metadata": {
            "tags": []
          },
          "execution_count": 13
        }
      ]
    },
    {
      "metadata": {
        "id": "4yjXdqRcBFaQ",
        "colab_type": "code",
        "outputId": "3f7a59c4-ef8b-4493-a5bf-4467d40c7939",
        "colab": {
          "base_uri": "https://localhost:8080/",
          "height": 51
        }
      },
      "cell_type": "code",
      "source": [
        "data.payer_code.unique()"
      ],
      "execution_count": 0,
      "outputs": [
        {
          "output_type": "execute_result",
          "data": {
            "text/plain": [
              "array([nan, 'MC', 'MD', 'HM', 'UN', 'BC', 'SP', 'CP', 'SI', 'DM', 'CM',\n",
              "       'CH', 'PO', 'WC', 'OT', 'OG', 'MP'], dtype=object)"
            ]
          },
          "metadata": {
            "tags": []
          },
          "execution_count": 14
        }
      ]
    },
    {
      "metadata": {
        "id": "3MY92H8qBFaY",
        "colab_type": "text"
      },
      "cell_type": "markdown",
      "source": [
        "I will choose to remove Payer Code from the dataset - it identifies ensurance companies paying. In addition to having many NaNs, I believe that it will not have significant effect on readmission. Column Weight will be dropped due to having very few lines of data."
      ]
    },
    {
      "metadata": {
        "id": "2_h74iwXBFaZ",
        "colab_type": "code",
        "colab": {}
      },
      "cell_type": "code",
      "source": [
        "data.drop(columns=['payer_code', 'weight'], axis=1, inplace=True) #Removing Weight as the vast majority of the data is missing, removing Payer_code as irrelevant"
      ],
      "execution_count": 0,
      "outputs": []
    },
    {
      "metadata": {
        "id": "M4k0d4KhBFad",
        "colab_type": "text"
      },
      "cell_type": "markdown",
      "source": [
        "Next decision to make is if the specialty of the admitting physician (column medical_specialty) should be retain. To enable a more informed decision, I will visualize the data."
      ]
    },
    {
      "metadata": {
        "id": "dk5ZGTOaBFae",
        "colab_type": "code",
        "colab": {}
      },
      "cell_type": "code",
      "source": [
        "data.medical_specialty = data.medical_specialty.replace(np.nan, \"missing\")"
      ],
      "execution_count": 0,
      "outputs": []
    },
    {
      "metadata": {
        "id": "zbYZ0ssUBFaj",
        "colab_type": "code",
        "outputId": "a74425be-5361-469b-ac14-5e4a27c3906f",
        "colab": {
          "base_uri": "https://localhost:8080/",
          "height": 1088
        }
      },
      "cell_type": "code",
      "source": [
        "data.groupby('medical_specialty').size().sort_values(ascending=False)"
      ],
      "execution_count": 0,
      "outputs": [
        {
          "output_type": "execute_result",
          "data": {
            "text/plain": [
              "medical_specialty\n",
              "missing                                 30018\n",
              "InternalMedicine                        12910\n",
              "Family/GeneralPractice                   6605\n",
              "Cardiology                               4571\n",
              "Emergency/Trauma                         4176\n",
              "Surgery-General                          2373\n",
              "Nephrology                               1475\n",
              "Orthopedics-Reconstructive               1172\n",
              "Orthopedics                               996\n",
              "Pulmonology                               775\n",
              "Psychiatry                                765\n",
              "Surgery-Cardiovascular/Thoracic           618\n",
              "Urology                                   603\n",
              "ObstetricsandGynecology                   590\n",
              "Surgery-Neuro                             454\n",
              "Gastroenterology                          448\n",
              "Surgery-Vascular                          444\n",
              "Radiologist                               389\n",
              "PhysicalMedicineandRehabilitation         386\n",
              "Oncology                                  320\n",
              "Pediatrics                                229\n",
              "Hematology/Oncology                       206\n",
              "Neurology                                 159\n",
              "Pediatrics-Endocrinology                  159\n",
              "Endocrinology                             116\n",
              "Otolaryngology                            112\n",
              "Surgery-Cardiovascular                     91\n",
              "Pediatrics-CriticalCare                    87\n",
              "Surgery-Thoracic                           73\n",
              "Psychology                                 73\n",
              "                                        ...  \n",
              "Obsterics&Gynecology-GynecologicOnco       25\n",
              "Ophthalmology                              22\n",
              "Anesthesiology-Pediatric                   19\n",
              "Pathology                                  17\n",
              "Hospitalist                                16\n",
              "Rheumatology                               14\n",
              "Obstetrics                                 12\n",
              "Surgery-Colon&Rectal                       11\n",
              "Surgery-Maxillofacial                      11\n",
              "Anesthesiology                             11\n",
              "Pediatrics-Neurology                       10\n",
              "Surgery-Pediatric                           8\n",
              "AllergyandImmunology                        7\n",
              "OutreachServices                            7\n",
              "Psychiatry-Child/Adolescent                 7\n",
              "Cardiology-Pediatric                        7\n",
              "PhysicianNotFound                           6\n",
              "SurgicalSpecialty                           6\n",
              "Pediatrics-Hematology-Oncology              4\n",
              "Dentistry                                   4\n",
              "Pediatrics-AllergyandImmunology             3\n",
              "Pediatrics-EmergencyMedicine                3\n",
              "Dermatology                                 1\n",
              "Psychiatry-Addictive                        1\n",
              "Surgery-PlasticwithinHeadandNeck            1\n",
              "Proctology                                  1\n",
              "Speech                                      1\n",
              "Pediatrics-InfectiousDiseases               1\n",
              "Perinatology                                1\n",
              "SportsMedicine                              1\n",
              "Length: 69, dtype: int64"
            ]
          },
          "metadata": {
            "tags": []
          },
          "execution_count": 17
        }
      ]
    },
    {
      "metadata": {
        "id": "tCmb2Hu0BFao",
        "colab_type": "code",
        "outputId": "b2517df8-7d34-4d42-ee07-6fb6ca2eb7b0",
        "colab": {
          "base_uri": "https://localhost:8080/",
          "height": 34
        }
      },
      "cell_type": "code",
      "source": [
        "print(\"Percentage of the top 10 medical specialty categories from all: {}\".format(data.groupby('medical_specialty').size().sort_values(ascending=False).head(10).sum()*100/data.shape[0]))\n"
      ],
      "execution_count": 0,
      "outputs": [
        {
          "output_type": "stream",
          "text": [
            "Percentage of the top 10 medical specialty categories from all: 90.41783039448636\n"
          ],
          "name": "stdout"
        }
      ]
    },
    {
      "metadata": {
        "id": "iZ72GHKWBFaz",
        "colab_type": "text"
      },
      "cell_type": "markdown",
      "source": [
        "The top 10 categories, including \"missing\" account for 91.8% of all data points, while 63 other unique categories contribute to less than 9%. I addition, many of the labels are overlapping - Cardiology (5th biggest) is a main specialty in the Internal Medicine (2nd biggest); there are multiple Pediatrics labels.\n",
        "\n",
        "With all said above, I will drop the column from the further dataset."
      ]
    },
    {
      "metadata": {
        "id": "sfTaAErOBFa2",
        "colab_type": "code",
        "colab": {}
      },
      "cell_type": "code",
      "source": [
        "data.drop(columns=['medical_specialty'], axis=1, inplace=True)"
      ],
      "execution_count": 0,
      "outputs": []
    },
    {
      "metadata": {
        "id": "X7ugmd9gBFa6",
        "colab_type": "text"
      },
      "cell_type": "markdown",
      "source": [
        "Last NaN decision to be made is in relation to the small number of NaNs in the Diagnosis and Race columns. Before deleting any rows, I would like to make sure those are distributed homoscedastically in relation to Readdmited. To do this, I will look at the distribution of the target variable (readmitted) for the whole dataset and compare it to the rows with missing info."
      ]
    },
    {
      "metadata": {
        "id": "wM4MYJ00BFa7",
        "colab_type": "code",
        "outputId": "3c585b6a-97d3-45b4-a1db-5d7d5695011d",
        "colab": {
          "base_uri": "https://localhost:8080/",
          "height": 286
        }
      },
      "cell_type": "code",
      "source": [
        "data.groupby('readmitted').size().plot(kind='bar')\n",
        "plt.show()"
      ],
      "execution_count": 0,
      "outputs": [
        {
          "output_type": "display_data",
          "data": {
            "image/png": "[encoded data removed]",
            "text/plain": [
              "<matplotlib.figure.Figure at 0x7f2db00155c0>"
            ]
          },
          "metadata": {
            "tags": []
          }
        }
      ]
    },
    {
      "metadata": {
        "id": "Mnx0Q97VBFbB",
        "colab_type": "code",
        "colab": {}
      },
      "cell_type": "code",
      "source": [
        "nan_data = data.loc[data.race.isnull()|data.diag_1.isnull()|data.diag_2.isnull()|data.diag_3.isnull()]"
      ],
      "execution_count": 0,
      "outputs": []
    },
    {
      "metadata": {
        "id": "KTvB71yiBFbE",
        "colab_type": "code",
        "outputId": "28f044ce-52fa-4856-a4ec-28757f6e0263",
        "colab": {
          "base_uri": "https://localhost:8080/",
          "height": 303
        }
      },
      "cell_type": "code",
      "source": [
        "nan_data.groupby('readmitted').size().plot(kind='bar')"
      ],
      "execution_count": 0,
      "outputs": [
        {
          "output_type": "execute_result",
          "data": {
            "text/plain": [
              "<matplotlib.axes._subplots.AxesSubplot at 0x7f2dd59ee470>"
            ]
          },
          "metadata": {
            "tags": []
          },
          "execution_count": 22
        },
        {
          "output_type": "display_data",
          "data": {
            "image/png": "[encoded data removed]",
            "text/plain": [
              "<matplotlib.figure.Figure at 0x7f2dafa1cf60>"
            ]
          },
          "metadata": {
            "tags": []
          }
        }
      ]
    },
    {
      "metadata": {
        "id": "yg3R-3a7BFbJ",
        "colab_type": "text"
      },
      "cell_type": "markdown",
      "source": [
        "The target variable in the rows of data containing NaNs is distibuted very similarly to the rest of the dateset. I will remove the rows with NaN from the dataset."
      ]
    },
    {
      "metadata": {
        "id": "77AWveu-BFbK",
        "colab_type": "code",
        "colab": {}
      },
      "cell_type": "code",
      "source": [
        "data.dropna(axis=0, inplace=True)"
      ],
      "execution_count": 0,
      "outputs": []
    },
    {
      "metadata": {
        "id": "iGU20DasBFbN",
        "colab_type": "code",
        "outputId": "15845b74-e3fb-4ce6-9ef1-850eaae2ca47",
        "colab": {
          "base_uri": "https://localhost:8080/",
          "height": 34
        }
      },
      "cell_type": "code",
      "source": [
        "print(\"Dimension of the Diabetes data after NaN removal: {}\".format(data.shape))"
      ],
      "execution_count": 0,
      "outputs": [
        {
          "output_type": "stream",
          "text": [
            "Dimension of the Diabetes data after NaN removal: (69324, 47)\n"
          ],
          "name": "stdout"
        }
      ]
    },
    {
      "metadata": {
        "id": "rIxOq96tBFbS",
        "colab_type": "text"
      },
      "cell_type": "markdown",
      "source": [
        "Continuing with the preprocessing of the data, there are several variables that were read as numerical, while in fact we need them as categorical (information on variable description can be found in the Feature Description file. Let us transform them accordingly."
      ]
    },
    {
      "metadata": {
        "id": "lbv3R4hZBFbT",
        "colab_type": "code",
        "colab": {}
      },
      "cell_type": "code",
      "source": [
        "data.admission_type_id = data.admission_type_id.astype(object)\n",
        "data.discharge_disposition_id = data.discharge_disposition_id.astype(object)\n",
        "data.admission_source_id = data.admission_source_id.astype(object)\n",
        "data.encounter_id = data.encounter_id.astype(object)\n",
        "data.patient_nbr = data.patient_nbr.astype(object)"
      ],
      "execution_count": 0,
      "outputs": []
    },
    {
      "metadata": {
        "id": "I9ry5cyzBFbY",
        "colab_type": "text"
      },
      "cell_type": "markdown",
      "source": [
        "Encounter ID is a unique identifier, so I will change the table index to it."
      ]
    },
    {
      "metadata": {
        "id": "C0Sw44yIBFbZ",
        "colab_type": "code",
        "colab": {}
      },
      "cell_type": "code",
      "source": [
        "data = data.set_index('encounter_id')"
      ],
      "execution_count": 0,
      "outputs": []
    },
    {
      "metadata": {
        "id": "4whFxDObBFbd",
        "colab_type": "text"
      },
      "cell_type": "markdown",
      "source": [
        "\"Age\" is currently a categorical variable, noted in range-like format - for example, [10-20) . I believe transfering it to numerical would make sense - we can then scale it appropriately."
      ]
    },
    {
      "metadata": {
        "id": "DPjYbxXtBFbf",
        "colab_type": "code",
        "colab": {}
      },
      "cell_type": "code",
      "source": [
        "def range_to_mean(string_range):\n",
        "    \"\"\"\n",
        "    Simple function that takes a string nummeric range and outputs its mean\n",
        "    \"\"\"\n",
        "    np_range = np.array(re.findall('\\d+', string_range))\n",
        "    np_range = np.asfarray(np_range,float)\n",
        "    \n",
        "    return np_range.mean()"
      ],
      "execution_count": 0,
      "outputs": []
    },
    {
      "metadata": {
        "id": "9-7EE3gRBFbm",
        "colab_type": "code",
        "colab": {}
      },
      "cell_type": "code",
      "source": [
        "data.age = data.age.apply(range_to_mean)"
      ],
      "execution_count": 0,
      "outputs": []
    },
    {
      "metadata": {
        "id": "_KRoi1rUBFbr",
        "colab_type": "text"
      },
      "cell_type": "markdown",
      "source": [
        "##### Scaling of numerical features\n",
        "\n",
        "As a next step I will scale the numerical features using sklearn MinMaxScale and save it as a separate dataframe."
      ]
    },
    {
      "metadata": {
        "id": "QJZ7XDV6BFbt",
        "colab_type": "code",
        "colab": {}
      },
      "cell_type": "code",
      "source": [
        "def numeric_col_scaler(df, col):\n",
        "    scaler = MinMaxScaler()\n",
        "    to_be_scaled = df[col].values.reshape(-1,1)\n",
        "    return scaler.fit_transform(to_be_scaled)"
      ],
      "execution_count": 0,
      "outputs": []
    },
    {
      "metadata": {
        "id": "GBI1sVTwBFby",
        "colab_type": "code",
        "outputId": "5a038a46-57d0-450b-a643-0fb1ae4beb28",
        "colab": {
          "base_uri": "https://localhost:8080/",
          "height": 51
        }
      },
      "cell_type": "code",
      "source": [
        "data_scaled = data.copy()\n",
        "for col in data_scaled.select_dtypes(include=[np.number]).columns:\n",
        "    data_scaled[col] = numeric_col_scaler(data_scaled, col)"
      ],
      "execution_count": 0,
      "outputs": [
        {
          "output_type": "stream",
          "text": [
            "/usr/local/lib/python3.6/dist-packages/sklearn/utils/validation.py:475: DataConversionWarning: Data with input dtype int64 was converted to float64 by MinMaxScaler.\n",
            "  warnings.warn(msg, DataConversionWarning)\n"
          ],
          "name": "stderr"
        }
      ]
    },
    {
      "metadata": {
        "id": "P0VbH3ATBFb3",
        "colab_type": "code",
        "outputId": "8a57fb2f-5a87-4a06-efea-3d73b6698f92",
        "colab": {
          "base_uri": "https://localhost:8080/",
          "height": 1524
        }
      },
      "cell_type": "code",
      "source": [
        "# Considering the number of columns, it is easier to eyeball the data when transposed\n",
        "data_scaled.T"
      ],
      "execution_count": 0,
      "outputs": [
        {
          "output_type": "execute_result",
          "data": {
            "text/html": [
              "<div>\n",
              "<style scoped>\n",
              "    .dataframe tbody tr th:only-of-type {\n",
              "        vertical-align: middle;\n",
              "    }\n",
              "\n",
              "    .dataframe tbody tr th {\n",
              "        vertical-align: top;\n",
              "    }\n",
              "\n",
              "    .dataframe thead th {\n",
              "        text-align: right;\n",
              "    }\n",
              "</style>\n",
              "<table border=\"1\" class=\"dataframe\">\n",
              "  <thead>\n",
              "    <tr style=\"text-align: right;\">\n",
              "      <th>encounter_id</th>\n",
              "      <th>149190</th>\n",
              "      <th>64410</th>\n",
              "      <th>500364</th>\n",
              "      <th>16680</th>\n",
              "      <th>35754</th>\n",
              "      <th>55842</th>\n",
              "      <th>63768</th>\n",
              "      <th>12522</th>\n",
              "      <th>15738</th>\n",
              "      <th>28236</th>\n",
              "      <th>...</th>\n",
              "      <th>209516268</th>\n",
              "      <th>209529030</th>\n",
              "      <th>209532582</th>\n",
              "      <th>209538426</th>\n",
              "      <th>209540772</th>\n",
              "      <th>209547540</th>\n",
              "      <th>209552634</th>\n",
              "      <th>209556540</th>\n",
              "      <th>209558724</th>\n",
              "      <th>209562162</th>\n",
              "    </tr>\n",
              "  </thead>\n",
              "  <tbody>\n",
              "    <tr>\n",
              "      <th>patient_nbr</th>\n",
              "      <td>55629189</td>\n",
              "      <td>86047875</td>\n",
              "      <td>82442376</td>\n",
              "      <td>42519267</td>\n",
              "      <td>82637451</td>\n",
              "      <td>84259809</td>\n",
              "      <td>114882984</td>\n",
              "      <td>48330783</td>\n",
              "      <td>63555939</td>\n",
              "      <td>89869032</td>\n",
              "      <td>...</td>\n",
              "      <td>44132427</td>\n",
              "      <td>107912718</td>\n",
              "      <td>84457323</td>\n",
              "      <td>91080846</td>\n",
              "      <td>113373018</td>\n",
              "      <td>103065471</td>\n",
              "      <td>94101516</td>\n",
              "      <td>100482156</td>\n",
              "      <td>52714017</td>\n",
              "      <td>70076169</td>\n",
              "    </tr>\n",
              "    <tr>\n",
              "      <th>race</th>\n",
              "      <td>Caucasian</td>\n",
              "      <td>AfricanAmerican</td>\n",
              "      <td>Caucasian</td>\n",
              "      <td>Caucasian</td>\n",
              "      <td>Caucasian</td>\n",
              "      <td>Caucasian</td>\n",
              "      <td>Caucasian</td>\n",
              "      <td>Caucasian</td>\n",
              "      <td>Caucasian</td>\n",
              "      <td>AfricanAmerican</td>\n",
              "      <td>...</td>\n",
              "      <td>Caucasian</td>\n",
              "      <td>Caucasian</td>\n",
              "      <td>Caucasian</td>\n",
              "      <td>Caucasian</td>\n",
              "      <td>Caucasian</td>\n",
              "      <td>Caucasian</td>\n",
              "      <td>Caucasian</td>\n",
              "      <td>Caucasian</td>\n",
              "      <td>Caucasian</td>\n",
              "      <td>Caucasian</td>\n",
              "    </tr>\n",
              "    <tr>\n",
              "      <th>gender</th>\n",
              "      <td>Female</td>\n",
              "      <td>Female</td>\n",
              "      <td>Male</td>\n",
              "      <td>Male</td>\n",
              "      <td>Male</td>\n",
              "      <td>Male</td>\n",
              "      <td>Male</td>\n",
              "      <td>Female</td>\n",
              "      <td>Female</td>\n",
              "      <td>Female</td>\n",
              "      <td>...</td>\n",
              "      <td>Male</td>\n",
              "      <td>Male</td>\n",
              "      <td>Male</td>\n",
              "      <td>Male</td>\n",
              "      <td>Female</td>\n",
              "      <td>Female</td>\n",
              "      <td>Female</td>\n",
              "      <td>Female</td>\n",
              "      <td>Female</td>\n",
              "      <td>Male</td>\n",
              "    </tr>\n",
              "    <tr>\n",
              "      <th>age</th>\n",
              "      <td>0.111111</td>\n",
              "      <td>0.222222</td>\n",
              "      <td>0.333333</td>\n",
              "      <td>0.444444</td>\n",
              "      <td>0.555556</td>\n",
              "      <td>0.666667</td>\n",
              "      <td>0.777778</td>\n",
              "      <td>0.888889</td>\n",
              "      <td>1</td>\n",
              "      <td>0.444444</td>\n",
              "      <td>...</td>\n",
              "      <td>0.666667</td>\n",
              "      <td>0.777778</td>\n",
              "      <td>0.666667</td>\n",
              "      <td>0.555556</td>\n",
              "      <td>0.777778</td>\n",
              "      <td>0.888889</td>\n",
              "      <td>0.888889</td>\n",
              "      <td>0.888889</td>\n",
              "      <td>0.777778</td>\n",
              "      <td>0.888889</td>\n",
              "    </tr>\n",
              "    <tr>\n",
              "      <th>admission_type_id</th>\n",
              "      <td>1</td>\n",
              "      <td>1</td>\n",
              "      <td>1</td>\n",
              "      <td>1</td>\n",
              "      <td>2</td>\n",
              "      <td>3</td>\n",
              "      <td>1</td>\n",
              "      <td>2</td>\n",
              "      <td>3</td>\n",
              "      <td>1</td>\n",
              "      <td>...</td>\n",
              "      <td>3</td>\n",
              "      <td>3</td>\n",
              "      <td>2</td>\n",
              "      <td>2</td>\n",
              "      <td>1</td>\n",
              "      <td>2</td>\n",
              "      <td>3</td>\n",
              "      <td>1</td>\n",
              "      <td>1</td>\n",
              "      <td>2</td>\n",
              "    </tr>\n",
              "    <tr>\n",
              "      <th>discharge_disposition_id</th>\n",
              "      <td>1</td>\n",
              "      <td>1</td>\n",
              "      <td>1</td>\n",
              "      <td>1</td>\n",
              "      <td>1</td>\n",
              "      <td>1</td>\n",
              "      <td>1</td>\n",
              "      <td>1</td>\n",
              "      <td>3</td>\n",
              "      <td>1</td>\n",
              "      <td>...</td>\n",
              "      <td>1</td>\n",
              "      <td>3</td>\n",
              "      <td>1</td>\n",
              "      <td>6</td>\n",
              "      <td>1</td>\n",
              "      <td>3</td>\n",
              "      <td>1</td>\n",
              "      <td>3</td>\n",
              "      <td>3</td>\n",
              "      <td>1</td>\n",
              "    </tr>\n",
              "    <tr>\n",
              "      <th>admission_source_id</th>\n",
              "      <td>7</td>\n",
              "      <td>7</td>\n",
              "      <td>7</td>\n",
              "      <td>7</td>\n",
              "      <td>2</td>\n",
              "      <td>2</td>\n",
              "      <td>7</td>\n",
              "      <td>4</td>\n",
              "      <td>4</td>\n",
              "      <td>7</td>\n",
              "      <td>...</td>\n",
              "      <td>1</td>\n",
              "      <td>7</td>\n",
              "      <td>1</td>\n",
              "      <td>4</td>\n",
              "      <td>7</td>\n",
              "      <td>7</td>\n",
              "      <td>1</td>\n",
              "      <td>7</td>\n",
              "      <td>7</td>\n",
              "      <td>1</td>\n",
              "    </tr>\n",
              "    <tr>\n",
              "      <th>time_in_hospital</th>\n",
              "      <td>0.153846</td>\n",
              "      <td>0.0769231</td>\n",
              "      <td>0.0769231</td>\n",
              "      <td>0</td>\n",
              "      <td>0.153846</td>\n",
              "      <td>0.230769</td>\n",
              "      <td>0.307692</td>\n",
              "      <td>0.923077</td>\n",
              "      <td>0.846154</td>\n",
              "      <td>0.615385</td>\n",
              "      <td>...</td>\n",
              "      <td>0</td>\n",
              "      <td>0.846154</td>\n",
              "      <td>0.307692</td>\n",
              "      <td>0.461538</td>\n",
              "      <td>0</td>\n",
              "      <td>0.153846</td>\n",
              "      <td>0.0769231</td>\n",
              "      <td>0.230769</td>\n",
              "      <td>0.923077</td>\n",
              "      <td>0.230769</td>\n",
              "    </tr>\n",
              "    <tr>\n",
              "      <th>num_lab_procedures</th>\n",
              "      <td>0.453125</td>\n",
              "      <td>0.078125</td>\n",
              "      <td>0.335938</td>\n",
              "      <td>0.390625</td>\n",
              "      <td>0.234375</td>\n",
              "      <td>0.539062</td>\n",
              "      <td>0.5625</td>\n",
              "      <td>0.523438</td>\n",
              "      <td>0.25</td>\n",
              "      <td>0.359375</td>\n",
              "      <td>...</td>\n",
              "      <td>0.242188</td>\n",
              "      <td>0.601562</td>\n",
              "      <td>0.390625</td>\n",
              "      <td>0.234375</td>\n",
              "      <td>0.34375</td>\n",
              "      <td>0.445312</td>\n",
              "      <td>0.1875</td>\n",
              "      <td>0.453125</td>\n",
              "      <td>0.46875</td>\n",
              "      <td>0.546875</td>\n",
              "    </tr>\n",
              "    <tr>\n",
              "      <th>num_procedures</th>\n",
              "      <td>0</td>\n",
              "      <td>0.833333</td>\n",
              "      <td>0.166667</td>\n",
              "      <td>0</td>\n",
              "      <td>1</td>\n",
              "      <td>0.166667</td>\n",
              "      <td>0</td>\n",
              "      <td>0.333333</td>\n",
              "      <td>0.5</td>\n",
              "      <td>0.333333</td>\n",
              "      <td>...</td>\n",
              "      <td>1</td>\n",
              "      <td>1</td>\n",
              "      <td>0.666667</td>\n",
              "      <td>0.166667</td>\n",
              "      <td>0</td>\n",
              "      <td>0.166667</td>\n",
              "      <td>0.166667</td>\n",
              "      <td>0.166667</td>\n",
              "      <td>0.166667</td>\n",
              "      <td>0</td>\n",
              "    </tr>\n",
              "    <tr>\n",
              "      <th>num_medications</th>\n",
              "      <td>0.2125</td>\n",
              "      <td>0.15</td>\n",
              "      <td>0.1875</td>\n",
              "      <td>0.0875</td>\n",
              "      <td>0.1875</td>\n",
              "      <td>0.25</td>\n",
              "      <td>0.1375</td>\n",
              "      <td>0.3375</td>\n",
              "      <td>0.2125</td>\n",
              "      <td>0.2</td>\n",
              "      <td>...</td>\n",
              "      <td>0.075</td>\n",
              "      <td>0.425</td>\n",
              "      <td>0.2875</td>\n",
              "      <td>0.275</td>\n",
              "      <td>0.125</td>\n",
              "      <td>0.175</td>\n",
              "      <td>0.0625</td>\n",
              "      <td>0.2125</td>\n",
              "      <td>0.275</td>\n",
              "      <td>0.2125</td>\n",
              "    </tr>\n",
              "    <tr>\n",
              "      <th>number_outpatient</th>\n",
              "      <td>0</td>\n",
              "      <td>0.047619</td>\n",
              "      <td>0</td>\n",
              "      <td>0</td>\n",
              "      <td>0</td>\n",
              "      <td>0</td>\n",
              "      <td>0</td>\n",
              "      <td>0</td>\n",
              "      <td>0</td>\n",
              "      <td>0</td>\n",
              "      <td>...</td>\n",
              "      <td>0</td>\n",
              "      <td>0</td>\n",
              "      <td>0.0238095</td>\n",
              "      <td>0.0238095</td>\n",
              "      <td>0</td>\n",
              "      <td>0</td>\n",
              "      <td>0.0238095</td>\n",
              "      <td>0</td>\n",
              "      <td>0</td>\n",
              "      <td>0</td>\n",
              "    </tr>\n",
              "    <tr>\n",
              "      <th>number_emergency</th>\n",
              "      <td>0</td>\n",
              "      <td>0</td>\n",
              "      <td>0</td>\n",
              "      <td>0</td>\n",
              "      <td>0</td>\n",
              "      <td>0</td>\n",
              "      <td>0</td>\n",
              "      <td>0</td>\n",
              "      <td>0</td>\n",
              "      <td>0</td>\n",
              "      <td>...</td>\n",
              "      <td>0</td>\n",
              "      <td>0</td>\n",
              "      <td>0.0238095</td>\n",
              "      <td>0</td>\n",
              "      <td>0</td>\n",
              "      <td>0</td>\n",
              "      <td>0</td>\n",
              "      <td>0</td>\n",
              "      <td>0</td>\n",
              "      <td>0</td>\n",
              "    </tr>\n",
              "    <tr>\n",
              "      <th>number_inpatient</th>\n",
              "      <td>0</td>\n",
              "      <td>0.047619</td>\n",
              "      <td>0</td>\n",
              "      <td>0</td>\n",
              "      <td>0</td>\n",
              "      <td>0</td>\n",
              "      <td>0</td>\n",
              "      <td>0</td>\n",
              "      <td>0</td>\n",
              "      <td>0</td>\n",
              "      <td>...</td>\n",
              "      <td>0.0952381</td>\n",
              "      <td>0</td>\n",
              "      <td>0</td>\n",
              "      <td>0.047619</td>\n",
              "      <td>0.047619</td>\n",
              "      <td>0.047619</td>\n",
              "      <td>0</td>\n",
              "      <td>0</td>\n",
              "      <td>0</td>\n",
              "      <td>0.047619</td>\n",
              "    </tr>\n",
              "    <tr>\n",
              "      <th>diag_1</th>\n",
              "      <td>276</td>\n",
              "      <td>648</td>\n",
              "      <td>8</td>\n",
              "      <td>197</td>\n",
              "      <td>414</td>\n",
              "      <td>414</td>\n",
              "      <td>428</td>\n",
              "      <td>398</td>\n",
              "      <td>434</td>\n",
              "      <td>250.7</td>\n",
              "      <td>...</td>\n",
              "      <td>414</td>\n",
              "      <td>440</td>\n",
              "      <td>491</td>\n",
              "      <td>996</td>\n",
              "      <td>733</td>\n",
              "      <td>332</td>\n",
              "      <td>250.8</td>\n",
              "      <td>599</td>\n",
              "      <td>202</td>\n",
              "      <td>428</td>\n",
              "    </tr>\n",
              "    <tr>\n",
              "      <th>diag_2</th>\n",
              "      <td>250.01</td>\n",
              "      <td>250</td>\n",
              "      <td>250.43</td>\n",
              "      <td>157</td>\n",
              "      <td>411</td>\n",
              "      <td>411</td>\n",
              "      <td>492</td>\n",
              "      <td>427</td>\n",
              "      <td>198</td>\n",
              "      <td>403</td>\n",
              "      <td>...</td>\n",
              "      <td>427</td>\n",
              "      <td>682</td>\n",
              "      <td>426</td>\n",
              "      <td>38</td>\n",
              "      <td>728</td>\n",
              "      <td>427</td>\n",
              "      <td>428</td>\n",
              "      <td>276</td>\n",
              "      <td>401</td>\n",
              "      <td>585</td>\n",
              "    </tr>\n",
              "    <tr>\n",
              "      <th>diag_3</th>\n",
              "      <td>255</td>\n",
              "      <td>V27</td>\n",
              "      <td>403</td>\n",
              "      <td>250</td>\n",
              "      <td>250</td>\n",
              "      <td>V45</td>\n",
              "      <td>250</td>\n",
              "      <td>38</td>\n",
              "      <td>486</td>\n",
              "      <td>996</td>\n",
              "      <td>...</td>\n",
              "      <td>412</td>\n",
              "      <td>276</td>\n",
              "      <td>799</td>\n",
              "      <td>425</td>\n",
              "      <td>300</td>\n",
              "      <td>780</td>\n",
              "      <td>280</td>\n",
              "      <td>276</td>\n",
              "      <td>250</td>\n",
              "      <td>424</td>\n",
              "    </tr>\n",
              "    <tr>\n",
              "      <th>number_diagnoses</th>\n",
              "      <td>1</td>\n",
              "      <td>0.5</td>\n",
              "      <td>0.666667</td>\n",
              "      <td>0.333333</td>\n",
              "      <td>1</td>\n",
              "      <td>0.666667</td>\n",
              "      <td>0.833333</td>\n",
              "      <td>0.833333</td>\n",
              "      <td>0.833333</td>\n",
              "      <td>1</td>\n",
              "      <td>...</td>\n",
              "      <td>1</td>\n",
              "      <td>1</td>\n",
              "      <td>1</td>\n",
              "      <td>1</td>\n",
              "      <td>1</td>\n",
              "      <td>0.5</td>\n",
              "      <td>1</td>\n",
              "      <td>1</td>\n",
              "      <td>1</td>\n",
              "      <td>1</td>\n",
              "    </tr>\n",
              "    <tr>\n",
              "      <th>max_glu_serum</th>\n",
              "      <td>None</td>\n",
              "      <td>None</td>\n",
              "      <td>None</td>\n",
              "      <td>None</td>\n",
              "      <td>None</td>\n",
              "      <td>None</td>\n",
              "      <td>None</td>\n",
              "      <td>None</td>\n",
              "      <td>None</td>\n",
              "      <td>None</td>\n",
              "      <td>...</td>\n",
              "      <td>None</td>\n",
              "      <td>None</td>\n",
              "      <td>None</td>\n",
              "      <td>None</td>\n",
              "      <td>None</td>\n",
              "      <td>None</td>\n",
              "      <td>None</td>\n",
              "      <td>None</td>\n",
              "      <td>None</td>\n",
              "      <td>None</td>\n",
              "    </tr>\n",
              "    <tr>\n",
              "      <th>A1Cresult</th>\n",
              "      <td>None</td>\n",
              "      <td>None</td>\n",
              "      <td>None</td>\n",
              "      <td>None</td>\n",
              "      <td>None</td>\n",
              "      <td>None</td>\n",
              "      <td>None</td>\n",
              "      <td>None</td>\n",
              "      <td>None</td>\n",
              "      <td>None</td>\n",
              "      <td>...</td>\n",
              "      <td>None</td>\n",
              "      <td>Norm</td>\n",
              "      <td>None</td>\n",
              "      <td>None</td>\n",
              "      <td>None</td>\n",
              "      <td>None</td>\n",
              "      <td>None</td>\n",
              "      <td>None</td>\n",
              "      <td>None</td>\n",
              "      <td>None</td>\n",
              "    </tr>\n",
              "    <tr>\n",
              "      <th>metformin</th>\n",
              "      <td>No</td>\n",
              "      <td>No</td>\n",
              "      <td>No</td>\n",
              "      <td>No</td>\n",
              "      <td>No</td>\n",
              "      <td>Steady</td>\n",
              "      <td>No</td>\n",
              "      <td>No</td>\n",
              "      <td>No</td>\n",
              "      <td>No</td>\n",
              "      <td>...</td>\n",
              "      <td>No</td>\n",
              "      <td>No</td>\n",
              "      <td>No</td>\n",
              "      <td>No</td>\n",
              "      <td>No</td>\n",
              "      <td>Steady</td>\n",
              "      <td>No</td>\n",
              "      <td>No</td>\n",
              "      <td>Steady</td>\n",
              "      <td>No</td>\n",
              "    </tr>\n",
              "    <tr>\n",
              "      <th>repaglinide</th>\n",
              "      <td>No</td>\n",
              "      <td>No</td>\n",
              "      <td>No</td>\n",
              "      <td>No</td>\n",
              "      <td>No</td>\n",
              "      <td>No</td>\n",
              "      <td>No</td>\n",
              "      <td>No</td>\n",
              "      <td>No</td>\n",
              "      <td>No</td>\n",
              "      <td>...</td>\n",
              "      <td>No</td>\n",
              "      <td>No</td>\n",
              "      <td>No</td>\n",
              "      <td>No</td>\n",
              "      <td>No</td>\n",
              "      <td>No</td>\n",
              "      <td>No</td>\n",
              "      <td>No</td>\n",
              "      <td>No</td>\n",
              "      <td>No</td>\n",
              "    </tr>\n",
              "    <tr>\n",
              "      <th>nateglinide</th>\n",
              "      <td>No</td>\n",
              "      <td>No</td>\n",
              "      <td>No</td>\n",
              "      <td>No</td>\n",
              "      <td>No</td>\n",
              "      <td>No</td>\n",
              "      <td>No</td>\n",
              "      <td>No</td>\n",
              "      <td>No</td>\n",
              "      <td>No</td>\n",
              "      <td>...</td>\n",
              "      <td>No</td>\n",
              "      <td>No</td>\n",
              "      <td>No</td>\n",
              "      <td>No</td>\n",
              "      <td>No</td>\n",
              "      <td>No</td>\n",
              "      <td>No</td>\n",
              "      <td>No</td>\n",
              "      <td>No</td>\n",
              "      <td>No</td>\n",
              "    </tr>\n",
              "    <tr>\n",
              "      <th>chlorpropamide</th>\n",
              "      <td>No</td>\n",
              "      <td>No</td>\n",
              "      <td>No</td>\n",
              "      <td>No</td>\n",
              "      <td>No</td>\n",
              "      <td>No</td>\n",
              "      <td>No</td>\n",
              "      <td>No</td>\n",
              "      <td>No</td>\n",
              "      <td>No</td>\n",
              "      <td>...</td>\n",
              "      <td>No</td>\n",
              "      <td>No</td>\n",
              "      <td>No</td>\n",
              "      <td>No</td>\n",
              "      <td>No</td>\n",
              "      <td>No</td>\n",
              "      <td>No</td>\n",
              "      <td>No</td>\n",
              "      <td>No</td>\n",
              "      <td>No</td>\n",
              "    </tr>\n",
              "    <tr>\n",
              "      <th>glimepiride</th>\n",
              "      <td>No</td>\n",
              "      <td>No</td>\n",
              "      <td>No</td>\n",
              "      <td>No</td>\n",
              "      <td>No</td>\n",
              "      <td>Steady</td>\n",
              "      <td>No</td>\n",
              "      <td>No</td>\n",
              "      <td>No</td>\n",
              "      <td>No</td>\n",
              "      <td>...</td>\n",
              "      <td>No</td>\n",
              "      <td>No</td>\n",
              "      <td>Steady</td>\n",
              "      <td>No</td>\n",
              "      <td>No</td>\n",
              "      <td>Steady</td>\n",
              "      <td>No</td>\n",
              "      <td>No</td>\n",
              "      <td>No</td>\n",
              "      <td>No</td>\n",
              "    </tr>\n",
              "    <tr>\n",
              "      <th>acetohexamide</th>\n",
              "      <td>No</td>\n",
              "      <td>No</td>\n",
              "      <td>No</td>\n",
              "      <td>No</td>\n",
              "      <td>No</td>\n",
              "      <td>No</td>\n",
              "      <td>No</td>\n",
              "      <td>No</td>\n",
              "      <td>No</td>\n",
              "      <td>No</td>\n",
              "      <td>...</td>\n",
              "      <td>No</td>\n",
              "      <td>No</td>\n",
              "      <td>No</td>\n",
              "      <td>No</td>\n",
              "      <td>No</td>\n",
              "      <td>No</td>\n",
              "      <td>No</td>\n",
              "      <td>No</td>\n",
              "      <td>No</td>\n",
              "      <td>No</td>\n",
              "    </tr>\n",
              "    <tr>\n",
              "      <th>glipizide</th>\n",
              "      <td>No</td>\n",
              "      <td>Steady</td>\n",
              "      <td>No</td>\n",
              "      <td>Steady</td>\n",
              "      <td>No</td>\n",
              "      <td>No</td>\n",
              "      <td>No</td>\n",
              "      <td>Steady</td>\n",
              "      <td>No</td>\n",
              "      <td>No</td>\n",
              "      <td>...</td>\n",
              "      <td>No</td>\n",
              "      <td>No</td>\n",
              "      <td>No</td>\n",
              "      <td>No</td>\n",
              "      <td>No</td>\n",
              "      <td>No</td>\n",
              "      <td>No</td>\n",
              "      <td>No</td>\n",
              "      <td>No</td>\n",
              "      <td>Steady</td>\n",
              "    </tr>\n",
              "    <tr>\n",
              "      <th>glyburide</th>\n",
              "      <td>No</td>\n",
              "      <td>No</td>\n",
              "      <td>No</td>\n",
              "      <td>No</td>\n",
              "      <td>No</td>\n",
              "      <td>No</td>\n",
              "      <td>Steady</td>\n",
              "      <td>No</td>\n",
              "      <td>No</td>\n",
              "      <td>No</td>\n",
              "      <td>...</td>\n",
              "      <td>No</td>\n",
              "      <td>No</td>\n",
              "      <td>No</td>\n",
              "      <td>No</td>\n",
              "      <td>No</td>\n",
              "      <td>No</td>\n",
              "      <td>No</td>\n",
              "      <td>No</td>\n",
              "      <td>No</td>\n",
              "      <td>No</td>\n",
              "    </tr>\n",
              "    <tr>\n",
              "      <th>tolbutamide</th>\n",
              "      <td>No</td>\n",
              "      <td>No</td>\n",
              "      <td>No</td>\n",
              "      <td>No</td>\n",
              "      <td>No</td>\n",
              "      <td>No</td>\n",
              "      <td>No</td>\n",
              "      <td>No</td>\n",
              "      <td>No</td>\n",
              "      <td>No</td>\n",
              "      <td>...</td>\n",
              "      <td>No</td>\n",
              "      <td>No</td>\n",
              "      <td>No</td>\n",
              "      <td>No</td>\n",
              "      <td>No</td>\n",
              "      <td>No</td>\n",
              "      <td>No</td>\n",
              "      <td>No</td>\n",
              "      <td>No</td>\n",
              "      <td>No</td>\n",
              "    </tr>\n",
              "    <tr>\n",
              "      <th>pioglitazone</th>\n",
              "      <td>No</td>\n",
              "      <td>No</td>\n",
              "      <td>No</td>\n",
              "      <td>No</td>\n",
              "      <td>No</td>\n",
              "      <td>No</td>\n",
              "      <td>No</td>\n",
              "      <td>No</td>\n",
              "      <td>No</td>\n",
              "      <td>No</td>\n",
              "      <td>...</td>\n",
              "      <td>No</td>\n",
              "      <td>No</td>\n",
              "      <td>No</td>\n",
              "      <td>No</td>\n",
              "      <td>No</td>\n",
              "      <td>No</td>\n",
              "      <td>Steady</td>\n",
              "      <td>No</td>\n",
              "      <td>No</td>\n",
              "      <td>No</td>\n",
              "    </tr>\n",
              "    <tr>\n",
              "      <th>rosiglitazone</th>\n",
              "      <td>No</td>\n",
              "      <td>No</td>\n",
              "      <td>No</td>\n",
              "      <td>No</td>\n",
              "      <td>No</td>\n",
              "      <td>No</td>\n",
              "      <td>No</td>\n",
              "      <td>No</td>\n",
              "      <td>Steady</td>\n",
              "      <td>No</td>\n",
              "      <td>...</td>\n",
              "      <td>No</td>\n",
              "      <td>No</td>\n",
              "      <td>No</td>\n",
              "      <td>No</td>\n",
              "      <td>No</td>\n",
              "      <td>Steady</td>\n",
              "      <td>No</td>\n",
              "      <td>Steady</td>\n",
              "      <td>No</td>\n",
              "      <td>No</td>\n",
              "    </tr>\n",
              "    <tr>\n",
              "      <th>acarbose</th>\n",
              "      <td>No</td>\n",
              "      <td>No</td>\n",
              "      <td>No</td>\n",
              "      <td>No</td>\n",
              "      <td>No</td>\n",
              "      <td>No</td>\n",
              "      <td>No</td>\n",
              "      <td>No</td>\n",
              "      <td>No</td>\n",
              "      <td>No</td>\n",
              "      <td>...</td>\n",
              "      <td>No</td>\n",
              "      <td>No</td>\n",
              "      <td>No</td>\n",
              "      <td>No</td>\n",
              "      <td>No</td>\n",
              "      <td>No</td>\n",
              "      <td>No</td>\n",
              "      <td>No</td>\n",
              "      <td>No</td>\n",
              "      <td>No</td>\n",
              "    </tr>\n",
              "    <tr>\n",
              "      <th>miglitol</th>\n",
              "      <td>No</td>\n",
              "      <td>No</td>\n",
              "      <td>No</td>\n",
              "      <td>No</td>\n",
              "      <td>No</td>\n",
              "      <td>No</td>\n",
              "      <td>No</td>\n",
              "      <td>No</td>\n",
              "      <td>No</td>\n",
              "      <td>No</td>\n",
              "      <td>...</td>\n",
              "      <td>No</td>\n",
              "      <td>No</td>\n",
              "      <td>No</td>\n",
              "      <td>No</td>\n",
              "      <td>No</td>\n",
              "      <td>No</td>\n",
              "      <td>No</td>\n",
              "      <td>No</td>\n",
              "      <td>No</td>\n",
              "      <td>No</td>\n",
              "    </tr>\n",
              "    <tr>\n",
              "      <th>troglitazone</th>\n",
              "      <td>No</td>\n",
              "      <td>No</td>\n",
              "      <td>No</td>\n",
              "      <td>No</td>\n",
              "      <td>No</td>\n",
              "      <td>No</td>\n",
              "      <td>No</td>\n",
              "      <td>No</td>\n",
              "      <td>No</td>\n",
              "      <td>No</td>\n",
              "      <td>...</td>\n",
              "      <td>No</td>\n",
              "      <td>No</td>\n",
              "      <td>No</td>\n",
              "      <td>No</td>\n",
              "      <td>No</td>\n",
              "      <td>No</td>\n",
              "      <td>No</td>\n",
              "      <td>No</td>\n",
              "      <td>No</td>\n",
              "      <td>No</td>\n",
              "    </tr>\n",
              "    <tr>\n",
              "      <th>tolazamide</th>\n",
              "      <td>No</td>\n",
              "      <td>No</td>\n",
              "      <td>No</td>\n",
              "      <td>No</td>\n",
              "      <td>No</td>\n",
              "      <td>No</td>\n",
              "      <td>No</td>\n",
              "      <td>No</td>\n",
              "      <td>No</td>\n",
              "      <td>No</td>\n",
              "      <td>...</td>\n",
              "      <td>No</td>\n",
              "      <td>No</td>\n",
              "      <td>No</td>\n",
              "      <td>No</td>\n",
              "      <td>No</td>\n",
              "      <td>No</td>\n",
              "      <td>No</td>\n",
              "      <td>No</td>\n",
              "      <td>No</td>\n",
              "      <td>No</td>\n",
              "    </tr>\n",
              "    <tr>\n",
              "      <th>examide</th>\n",
              "      <td>No</td>\n",
              "      <td>No</td>\n",
              "      <td>No</td>\n",
              "      <td>No</td>\n",
              "      <td>No</td>\n",
              "      <td>No</td>\n",
              "      <td>No</td>\n",
              "      <td>No</td>\n",
              "      <td>No</td>\n",
              "      <td>No</td>\n",
              "      <td>...</td>\n",
              "      <td>No</td>\n",
              "      <td>No</td>\n",
              "      <td>No</td>\n",
              "      <td>No</td>\n",
              "      <td>No</td>\n",
              "      <td>No</td>\n",
              "      <td>No</td>\n",
              "      <td>No</td>\n",
              "      <td>No</td>\n",
              "      <td>No</td>\n",
              "    </tr>\n",
              "    <tr>\n",
              "      <th>citoglipton</th>\n",
              "      <td>No</td>\n",
              "      <td>No</td>\n",
              "      <td>No</td>\n",
              "      <td>No</td>\n",
              "      <td>No</td>\n",
              "      <td>No</td>\n",
              "      <td>No</td>\n",
              "      <td>No</td>\n",
              "      <td>No</td>\n",
              "      <td>No</td>\n",
              "      <td>...</td>\n",
              "      <td>No</td>\n",
              "      <td>No</td>\n",
              "      <td>No</td>\n",
              "      <td>No</td>\n",
              "      <td>No</td>\n",
              "      <td>No</td>\n",
              "      <td>No</td>\n",
              "      <td>No</td>\n",
              "      <td>No</td>\n",
              "      <td>No</td>\n",
              "    </tr>\n",
              "    <tr>\n",
              "      <th>insulin</th>\n",
              "      <td>Up</td>\n",
              "      <td>No</td>\n",
              "      <td>Up</td>\n",
              "      <td>Steady</td>\n",
              "      <td>Steady</td>\n",
              "      <td>Steady</td>\n",
              "      <td>No</td>\n",
              "      <td>Steady</td>\n",
              "      <td>Steady</td>\n",
              "      <td>Steady</td>\n",
              "      <td>...</td>\n",
              "      <td>No</td>\n",
              "      <td>Down</td>\n",
              "      <td>Steady</td>\n",
              "      <td>Down</td>\n",
              "      <td>No</td>\n",
              "      <td>No</td>\n",
              "      <td>No</td>\n",
              "      <td>Steady</td>\n",
              "      <td>Steady</td>\n",
              "      <td>Steady</td>\n",
              "    </tr>\n",
              "    <tr>\n",
              "      <th>glyburide-metformin</th>\n",
              "      <td>No</td>\n",
              "      <td>No</td>\n",
              "      <td>No</td>\n",
              "      <td>No</td>\n",
              "      <td>No</td>\n",
              "      <td>No</td>\n",
              "      <td>No</td>\n",
              "      <td>No</td>\n",
              "      <td>No</td>\n",
              "      <td>No</td>\n",
              "      <td>...</td>\n",
              "      <td>No</td>\n",
              "      <td>No</td>\n",
              "      <td>No</td>\n",
              "      <td>No</td>\n",
              "      <td>No</td>\n",
              "      <td>No</td>\n",
              "      <td>No</td>\n",
              "      <td>No</td>\n",
              "      <td>No</td>\n",
              "      <td>No</td>\n",
              "    </tr>\n",
              "    <tr>\n",
              "      <th>glipizide-metformin</th>\n",
              "      <td>No</td>\n",
              "      <td>No</td>\n",
              "      <td>No</td>\n",
              "      <td>No</td>\n",
              "      <td>No</td>\n",
              "      <td>No</td>\n",
              "      <td>No</td>\n",
              "      <td>No</td>\n",
              "      <td>No</td>\n",
              "      <td>No</td>\n",
              "      <td>...</td>\n",
              "      <td>No</td>\n",
              "      <td>No</td>\n",
              "      <td>No</td>\n",
              "      <td>No</td>\n",
              "      <td>No</td>\n",
              "      <td>No</td>\n",
              "      <td>No</td>\n",
              "      <td>No</td>\n",
              "      <td>No</td>\n",
              "      <td>No</td>\n",
              "    </tr>\n",
              "    <tr>\n",
              "      <th>glimepiride-pioglitazone</th>\n",
              "      <td>No</td>\n",
              "      <td>No</td>\n",
              "      <td>No</td>\n",
              "      <td>No</td>\n",
              "      <td>No</td>\n",
              "      <td>No</td>\n",
              "      <td>No</td>\n",
              "      <td>No</td>\n",
              "      <td>No</td>\n",
              "      <td>No</td>\n",
              "      <td>...</td>\n",
              "      <td>No</td>\n",
              "      <td>No</td>\n",
              "      <td>No</td>\n",
              "      <td>No</td>\n",
              "      <td>No</td>\n",
              "      <td>No</td>\n",
              "      <td>No</td>\n",
              "      <td>No</td>\n",
              "      <td>No</td>\n",
              "      <td>No</td>\n",
              "    </tr>\n",
              "    <tr>\n",
              "      <th>metformin-rosiglitazone</th>\n",
              "      <td>No</td>\n",
              "      <td>No</td>\n",
              "      <td>No</td>\n",
              "      <td>No</td>\n",
              "      <td>No</td>\n",
              "      <td>No</td>\n",
              "      <td>No</td>\n",
              "      <td>No</td>\n",
              "      <td>No</td>\n",
              "      <td>No</td>\n",
              "      <td>...</td>\n",
              "      <td>No</td>\n",
              "      <td>No</td>\n",
              "      <td>No</td>\n",
              "      <td>No</td>\n",
              "      <td>No</td>\n",
              "      <td>No</td>\n",
              "      <td>No</td>\n",
              "      <td>No</td>\n",
              "      <td>No</td>\n",
              "      <td>No</td>\n",
              "    </tr>\n",
              "    <tr>\n",
              "      <th>metformin-pioglitazone</th>\n",
              "      <td>No</td>\n",
              "      <td>No</td>\n",
              "      <td>No</td>\n",
              "      <td>No</td>\n",
              "      <td>No</td>\n",
              "      <td>No</td>\n",
              "      <td>No</td>\n",
              "      <td>No</td>\n",
              "      <td>No</td>\n",
              "      <td>No</td>\n",
              "      <td>...</td>\n",
              "      <td>No</td>\n",
              "      <td>No</td>\n",
              "      <td>No</td>\n",
              "      <td>No</td>\n",
              "      <td>No</td>\n",
              "      <td>No</td>\n",
              "      <td>No</td>\n",
              "      <td>No</td>\n",
              "      <td>No</td>\n",
              "      <td>No</td>\n",
              "    </tr>\n",
              "    <tr>\n",
              "      <th>change</th>\n",
              "      <td>Ch</td>\n",
              "      <td>No</td>\n",
              "      <td>Ch</td>\n",
              "      <td>Ch</td>\n",
              "      <td>No</td>\n",
              "      <td>Ch</td>\n",
              "      <td>No</td>\n",
              "      <td>Ch</td>\n",
              "      <td>Ch</td>\n",
              "      <td>No</td>\n",
              "      <td>...</td>\n",
              "      <td>No</td>\n",
              "      <td>Ch</td>\n",
              "      <td>Ch</td>\n",
              "      <td>Ch</td>\n",
              "      <td>No</td>\n",
              "      <td>Ch</td>\n",
              "      <td>No</td>\n",
              "      <td>Ch</td>\n",
              "      <td>Ch</td>\n",
              "      <td>Ch</td>\n",
              "    </tr>\n",
              "    <tr>\n",
              "      <th>diabetesMed</th>\n",
              "      <td>Yes</td>\n",
              "      <td>Yes</td>\n",
              "      <td>Yes</td>\n",
              "      <td>Yes</td>\n",
              "      <td>Yes</td>\n",
              "      <td>Yes</td>\n",
              "      <td>Yes</td>\n",
              "      <td>Yes</td>\n",
              "      <td>Yes</td>\n",
              "      <td>Yes</td>\n",
              "      <td>...</td>\n",
              "      <td>No</td>\n",
              "      <td>Yes</td>\n",
              "      <td>Yes</td>\n",
              "      <td>Yes</td>\n",
              "      <td>No</td>\n",
              "      <td>Yes</td>\n",
              "      <td>Yes</td>\n",
              "      <td>Yes</td>\n",
              "      <td>Yes</td>\n",
              "      <td>Yes</td>\n",
              "    </tr>\n",
              "    <tr>\n",
              "      <th>readmitted</th>\n",
              "      <td>&gt;30</td>\n",
              "      <td>NO</td>\n",
              "      <td>NO</td>\n",
              "      <td>NO</td>\n",
              "      <td>&gt;30</td>\n",
              "      <td>NO</td>\n",
              "      <td>&gt;30</td>\n",
              "      <td>NO</td>\n",
              "      <td>NO</td>\n",
              "      <td>&gt;30</td>\n",
              "      <td>...</td>\n",
              "      <td>NO</td>\n",
              "      <td>&gt;30</td>\n",
              "      <td>&gt;30</td>\n",
              "      <td>&gt;30</td>\n",
              "      <td>&gt;30</td>\n",
              "      <td>&gt;30</td>\n",
              "      <td>NO</td>\n",
              "      <td>NO</td>\n",
              "      <td>&gt;30</td>\n",
              "      <td>&lt;30</td>\n",
              "    </tr>\n",
              "  </tbody>\n",
              "</table>\n",
              "<p>46 rows × 69324 columns</p>\n",
              "</div>"
            ],
            "text/plain": [
              "encounter_id              149190           64410      500364     16680      \\\n",
              "patient_nbr                55629189         86047875   82442376   42519267   \n",
              "race                      Caucasian  AfricanAmerican  Caucasian  Caucasian   \n",
              "gender                       Female           Female       Male       Male   \n",
              "age                        0.111111         0.222222   0.333333   0.444444   \n",
              "admission_type_id                 1                1          1          1   \n",
              "discharge_disposition_id          1                1          1          1   \n",
              "admission_source_id               7                7          7          7   \n",
              "time_in_hospital           0.153846        0.0769231  0.0769231          0   \n",
              "num_lab_procedures         0.453125         0.078125   0.335938   0.390625   \n",
              "num_procedures                    0         0.833333   0.166667          0   \n",
              "num_medications              0.2125             0.15     0.1875     0.0875   \n",
              "number_outpatient                 0         0.047619          0          0   \n",
              "number_emergency                  0                0          0          0   \n",
              "number_inpatient                  0         0.047619          0          0   \n",
              "diag_1                          276              648          8        197   \n",
              "diag_2                       250.01              250     250.43        157   \n",
              "diag_3                          255              V27        403        250   \n",
              "number_diagnoses                  1              0.5   0.666667   0.333333   \n",
              "max_glu_serum                  None             None       None       None   \n",
              "A1Cresult                      None             None       None       None   \n",
              "metformin                        No               No         No         No   \n",
              "repaglinide                      No               No         No         No   \n",
              "nateglinide                      No               No         No         No   \n",
              "chlorpropamide                   No               No         No         No   \n",
              "glimepiride                      No               No         No         No   \n",
              "acetohexamide                    No               No         No         No   \n",
              "glipizide                        No           Steady         No     Steady   \n",
              "glyburide                        No               No         No         No   \n",
              "tolbutamide                      No               No         No         No   \n",
              "pioglitazone                     No               No         No         No   \n",
              "rosiglitazone                    No               No         No         No   \n",
              "acarbose                         No               No         No         No   \n",
              "miglitol                         No               No         No         No   \n",
              "troglitazone                     No               No         No         No   \n",
              "tolazamide                       No               No         No         No   \n",
              "examide                          No               No         No         No   \n",
              "citoglipton                      No               No         No         No   \n",
              "insulin                          Up               No         Up     Steady   \n",
              "glyburide-metformin              No               No         No         No   \n",
              "glipizide-metformin              No               No         No         No   \n",
              "glimepiride-pioglitazone         No               No         No         No   \n",
              "metformin-rosiglitazone          No               No         No         No   \n",
              "metformin-pioglitazone           No               No         No         No   \n",
              "change                           Ch               No         Ch         Ch   \n",
              "diabetesMed                     Yes              Yes        Yes        Yes   \n",
              "readmitted                      >30               NO         NO         NO   \n",
              "\n",
              "encounter_id              35754      55842      63768      12522      \\\n",
              "patient_nbr                82637451   84259809  114882984   48330783   \n",
              "race                      Caucasian  Caucasian  Caucasian  Caucasian   \n",
              "gender                         Male       Male       Male     Female   \n",
              "age                        0.555556   0.666667   0.777778   0.888889   \n",
              "admission_type_id                 2          3          1          2   \n",
              "discharge_disposition_id          1          1          1          1   \n",
              "admission_source_id               2          2          7          4   \n",
              "time_in_hospital           0.153846   0.230769   0.307692   0.923077   \n",
              "num_lab_procedures         0.234375   0.539062     0.5625   0.523438   \n",
              "num_procedures                    1   0.166667          0   0.333333   \n",
              "num_medications              0.1875       0.25     0.1375     0.3375   \n",
              "number_outpatient                 0          0          0          0   \n",
              "number_emergency                  0          0          0          0   \n",
              "number_inpatient                  0          0          0          0   \n",
              "diag_1                          414        414        428        398   \n",
              "diag_2                          411        411        492        427   \n",
              "diag_3                          250        V45        250         38   \n",
              "number_diagnoses                  1   0.666667   0.833333   0.833333   \n",
              "max_glu_serum                  None       None       None       None   \n",
              "A1Cresult                      None       None       None       None   \n",
              "metformin                        No     Steady         No         No   \n",
              "repaglinide                      No         No         No         No   \n",
              "nateglinide                      No         No         No         No   \n",
              "chlorpropamide                   No         No         No         No   \n",
              "glimepiride                      No     Steady         No         No   \n",
              "acetohexamide                    No         No         No         No   \n",
              "glipizide                        No         No         No     Steady   \n",
              "glyburide                        No         No     Steady         No   \n",
              "tolbutamide                      No         No         No         No   \n",
              "pioglitazone                     No         No         No         No   \n",
              "rosiglitazone                    No         No         No         No   \n",
              "acarbose                         No         No         No         No   \n",
              "miglitol                         No         No         No         No   \n",
              "troglitazone                     No         No         No         No   \n",
              "tolazamide                       No         No         No         No   \n",
              "examide                          No         No         No         No   \n",
              "citoglipton                      No         No         No         No   \n",
              "insulin                      Steady     Steady         No     Steady   \n",
              "glyburide-metformin              No         No         No         No   \n",
              "glipizide-metformin              No         No         No         No   \n",
              "glimepiride-pioglitazone         No         No         No         No   \n",
              "metformin-rosiglitazone          No         No         No         No   \n",
              "metformin-pioglitazone           No         No         No         No   \n",
              "change                           No         Ch         No         Ch   \n",
              "diabetesMed                     Yes        Yes        Yes        Yes   \n",
              "readmitted                      >30         NO        >30         NO   \n",
              "\n",
              "encounter_id              15738            28236        ...      209516268  \\\n",
              "patient_nbr                63555939         89869032    ...       44132427   \n",
              "race                      Caucasian  AfricanAmerican    ...      Caucasian   \n",
              "gender                       Female           Female    ...           Male   \n",
              "age                               1         0.444444    ...       0.666667   \n",
              "admission_type_id                 3                1    ...              3   \n",
              "discharge_disposition_id          3                1    ...              1   \n",
              "admission_source_id               4                7    ...              1   \n",
              "time_in_hospital           0.846154         0.615385    ...              0   \n",
              "num_lab_procedures             0.25         0.359375    ...       0.242188   \n",
              "num_procedures                  0.5         0.333333    ...              1   \n",
              "num_medications              0.2125              0.2    ...          0.075   \n",
              "number_outpatient                 0                0    ...              0   \n",
              "number_emergency                  0                0    ...              0   \n",
              "number_inpatient                  0                0    ...      0.0952381   \n",
              "diag_1                          434            250.7    ...            414   \n",
              "diag_2                          198              403    ...            427   \n",
              "diag_3                          486              996    ...            412   \n",
              "number_diagnoses           0.833333                1    ...              1   \n",
              "max_glu_serum                  None             None    ...           None   \n",
              "A1Cresult                      None             None    ...           None   \n",
              "metformin                        No               No    ...             No   \n",
              "repaglinide                      No               No    ...             No   \n",
              "nateglinide                      No               No    ...             No   \n",
              "chlorpropamide                   No               No    ...             No   \n",
              "glimepiride                      No               No    ...             No   \n",
              "acetohexamide                    No               No    ...             No   \n",
              "glipizide                        No               No    ...             No   \n",
              "glyburide                        No               No    ...             No   \n",
              "tolbutamide                      No               No    ...             No   \n",
              "pioglitazone                     No               No    ...             No   \n",
              "rosiglitazone                Steady               No    ...             No   \n",
              "acarbose                         No               No    ...             No   \n",
              "miglitol                         No               No    ...             No   \n",
              "troglitazone                     No               No    ...             No   \n",
              "tolazamide                       No               No    ...             No   \n",
              "examide                          No               No    ...             No   \n",
              "citoglipton                      No               No    ...             No   \n",
              "insulin                      Steady           Steady    ...             No   \n",
              "glyburide-metformin              No               No    ...             No   \n",
              "glipizide-metformin              No               No    ...             No   \n",
              "glimepiride-pioglitazone         No               No    ...             No   \n",
              "metformin-rosiglitazone          No               No    ...             No   \n",
              "metformin-pioglitazone           No               No    ...             No   \n",
              "change                           Ch               No    ...             No   \n",
              "diabetesMed                     Yes              Yes    ...             No   \n",
              "readmitted                       NO              >30    ...             NO   \n",
              "\n",
              "encounter_id              209529030  209532582  209538426  209540772  \\\n",
              "patient_nbr               107912718   84457323   91080846  113373018   \n",
              "race                      Caucasian  Caucasian  Caucasian  Caucasian   \n",
              "gender                         Male       Male       Male     Female   \n",
              "age                        0.777778   0.666667   0.555556   0.777778   \n",
              "admission_type_id                 3          2          2          1   \n",
              "discharge_disposition_id          3          1          6          1   \n",
              "admission_source_id               7          1          4          7   \n",
              "time_in_hospital           0.846154   0.307692   0.461538          0   \n",
              "num_lab_procedures         0.601562   0.390625   0.234375    0.34375   \n",
              "num_procedures                    1   0.666667   0.166667          0   \n",
              "num_medications               0.425     0.2875      0.275      0.125   \n",
              "number_outpatient                 0  0.0238095  0.0238095          0   \n",
              "number_emergency                  0  0.0238095          0          0   \n",
              "number_inpatient                  0          0   0.047619   0.047619   \n",
              "diag_1                          440        491        996        733   \n",
              "diag_2                          682        426         38        728   \n",
              "diag_3                          276        799        425        300   \n",
              "number_diagnoses                  1          1          1          1   \n",
              "max_glu_serum                  None       None       None       None   \n",
              "A1Cresult                      Norm       None       None       None   \n",
              "metformin                        No         No         No         No   \n",
              "repaglinide                      No         No         No         No   \n",
              "nateglinide                      No         No         No         No   \n",
              "chlorpropamide                   No         No         No         No   \n",
              "glimepiride                      No     Steady         No         No   \n",
              "acetohexamide                    No         No         No         No   \n",
              "glipizide                        No         No         No         No   \n",
              "glyburide                        No         No         No         No   \n",
              "tolbutamide                      No         No         No         No   \n",
              "pioglitazone                     No         No         No         No   \n",
              "rosiglitazone                    No         No         No         No   \n",
              "acarbose                         No         No         No         No   \n",
              "miglitol                         No         No         No         No   \n",
              "troglitazone                     No         No         No         No   \n",
              "tolazamide                       No         No         No         No   \n",
              "examide                          No         No         No         No   \n",
              "citoglipton                      No         No         No         No   \n",
              "insulin                        Down     Steady       Down         No   \n",
              "glyburide-metformin              No         No         No         No   \n",
              "glipizide-metformin              No         No         No         No   \n",
              "glimepiride-pioglitazone         No         No         No         No   \n",
              "metformin-rosiglitazone          No         No         No         No   \n",
              "metformin-pioglitazone           No         No         No         No   \n",
              "change                           Ch         Ch         Ch         No   \n",
              "diabetesMed                     Yes        Yes        Yes         No   \n",
              "readmitted                      >30        >30        >30        >30   \n",
              "\n",
              "encounter_id              209547540  209552634  209556540  209558724  \\\n",
              "patient_nbr               103065471   94101516  100482156   52714017   \n",
              "race                      Caucasian  Caucasian  Caucasian  Caucasian   \n",
              "gender                       Female     Female     Female     Female   \n",
              "age                        0.888889   0.888889   0.888889   0.777778   \n",
              "admission_type_id                 2          3          1          1   \n",
              "discharge_disposition_id          3          1          3          3   \n",
              "admission_source_id               7          1          7          7   \n",
              "time_in_hospital           0.153846  0.0769231   0.230769   0.923077   \n",
              "num_lab_procedures         0.445312     0.1875   0.453125    0.46875   \n",
              "num_procedures             0.166667   0.166667   0.166667   0.166667   \n",
              "num_medications               0.175     0.0625     0.2125      0.275   \n",
              "number_outpatient                 0  0.0238095          0          0   \n",
              "number_emergency                  0          0          0          0   \n",
              "number_inpatient           0.047619          0          0          0   \n",
              "diag_1                          332      250.8        599        202   \n",
              "diag_2                          427        428        276        401   \n",
              "diag_3                          780        280        276        250   \n",
              "number_diagnoses                0.5          1          1          1   \n",
              "max_glu_serum                  None       None       None       None   \n",
              "A1Cresult                      None       None       None       None   \n",
              "metformin                    Steady         No         No     Steady   \n",
              "repaglinide                      No         No         No         No   \n",
              "nateglinide                      No         No         No         No   \n",
              "chlorpropamide                   No         No         No         No   \n",
              "glimepiride                  Steady         No         No         No   \n",
              "acetohexamide                    No         No         No         No   \n",
              "glipizide                        No         No         No         No   \n",
              "glyburide                        No         No         No         No   \n",
              "tolbutamide                      No         No         No         No   \n",
              "pioglitazone                     No     Steady         No         No   \n",
              "rosiglitazone                Steady         No     Steady         No   \n",
              "acarbose                         No         No         No         No   \n",
              "miglitol                         No         No         No         No   \n",
              "troglitazone                     No         No         No         No   \n",
              "tolazamide                       No         No         No         No   \n",
              "examide                          No         No         No         No   \n",
              "citoglipton                      No         No         No         No   \n",
              "insulin                          No         No     Steady     Steady   \n",
              "glyburide-metformin              No         No         No         No   \n",
              "glipizide-metformin              No         No         No         No   \n",
              "glimepiride-pioglitazone         No         No         No         No   \n",
              "metformin-rosiglitazone          No         No         No         No   \n",
              "metformin-pioglitazone           No         No         No         No   \n",
              "change                           Ch         No         Ch         Ch   \n",
              "diabetesMed                     Yes        Yes        Yes        Yes   \n",
              "readmitted                      >30         NO         NO        >30   \n",
              "\n",
              "encounter_id              209562162  \n",
              "patient_nbr                70076169  \n",
              "race                      Caucasian  \n",
              "gender                         Male  \n",
              "age                        0.888889  \n",
              "admission_type_id                 2  \n",
              "discharge_disposition_id          1  \n",
              "admission_source_id               1  \n",
              "time_in_hospital           0.230769  \n",
              "num_lab_procedures         0.546875  \n",
              "num_procedures                    0  \n",
              "num_medications              0.2125  \n",
              "number_outpatient                 0  \n",
              "number_emergency                  0  \n",
              "number_inpatient           0.047619  \n",
              "diag_1                          428  \n",
              "diag_2                          585  \n",
              "diag_3                          424  \n",
              "number_diagnoses                  1  \n",
              "max_glu_serum                  None  \n",
              "A1Cresult                      None  \n",
              "metformin                        No  \n",
              "repaglinide                      No  \n",
              "nateglinide                      No  \n",
              "chlorpropamide                   No  \n",
              "glimepiride                      No  \n",
              "acetohexamide                    No  \n",
              "glipizide                    Steady  \n",
              "glyburide                        No  \n",
              "tolbutamide                      No  \n",
              "pioglitazone                     No  \n",
              "rosiglitazone                    No  \n",
              "acarbose                         No  \n",
              "miglitol                         No  \n",
              "troglitazone                     No  \n",
              "tolazamide                       No  \n",
              "examide                          No  \n",
              "citoglipton                      No  \n",
              "insulin                      Steady  \n",
              "glyburide-metformin              No  \n",
              "glipizide-metformin              No  \n",
              "glimepiride-pioglitazone         No  \n",
              "metformin-rosiglitazone          No  \n",
              "metformin-pioglitazone           No  \n",
              "change                           Ch  \n",
              "diabetesMed                     Yes  \n",
              "readmitted                      <30  \n",
              "\n",
              "[46 rows x 69324 columns]"
            ]
          },
          "metadata": {
            "tags": []
          },
          "execution_count": 31
        }
      ]
    },
    {
      "metadata": {
        "id": "uQbsTz0CBFb9",
        "colab_type": "text"
      },
      "cell_type": "markdown",
      "source": [
        "The data is looking good - all numerical features are now scaled between 0 and 1. Next step would be to take a look at the categorical features and create dummies. First, let us get a look at the possible added dimensions.\n",
        "\n",
        "##### Dummy values creation"
      ]
    },
    {
      "metadata": {
        "id": "JzE2gxSnBFb-",
        "colab_type": "code",
        "outputId": "2b0340f3-b9ca-4297-b7de-42d7bd6cdfda",
        "colab": {
          "base_uri": "https://localhost:8080/",
          "height": 612
        }
      },
      "cell_type": "code",
      "source": [
        "categorical_columns = data_scaled.select_dtypes(exclude=[np.number]).columns\n",
        "categorical_columns = categorical_columns.drop(['patient_nbr', 'readmitted'])\n",
        "for col in categorical_columns:\n",
        "    print(str(col) + \": \" + str(len(data_scaled[col].unique())))"
      ],
      "execution_count": 0,
      "outputs": [
        {
          "output_type": "stream",
          "text": [
            "race: 5\n",
            "gender: 3\n",
            "admission_type_id: 8\n",
            "discharge_disposition_id: 26\n",
            "admission_source_id: 14\n",
            "diag_1: 686\n",
            "diag_2: 687\n",
            "diag_3: 721\n",
            "max_glu_serum: 4\n",
            "A1Cresult: 4\n",
            "metformin: 4\n",
            "repaglinide: 4\n",
            "nateglinide: 4\n",
            "chlorpropamide: 4\n",
            "glimepiride: 4\n",
            "acetohexamide: 2\n",
            "glipizide: 4\n",
            "glyburide: 4\n",
            "tolbutamide: 2\n",
            "pioglitazone: 4\n",
            "rosiglitazone: 4\n",
            "acarbose: 4\n",
            "miglitol: 4\n",
            "troglitazone: 2\n",
            "tolazamide: 3\n",
            "examide: 1\n",
            "citoglipton: 1\n",
            "insulin: 4\n",
            "glyburide-metformin: 4\n",
            "glipizide-metformin: 2\n",
            "glimepiride-pioglitazone: 1\n",
            "metformin-rosiglitazone: 1\n",
            "metformin-pioglitazone: 1\n",
            "change: 2\n",
            "diabetesMed: 2\n"
          ],
          "name": "stdout"
        }
      ]
    },
    {
      "metadata": {
        "id": "lPeWul2KBFcE",
        "colab_type": "text"
      },
      "cell_type": "markdown",
      "source": [
        "The 3 Diagnosis would add 2100+ dimentions alone. Going back to the feature definition, diag_1 is the primary diagnosis, while diag_2 and diag_3 are the secondary ones. For simplicity, I will drop diag_2 and diag_3 before creating dummy features and proceed with dummy creation for the categorical columns."
      ]
    },
    {
      "metadata": {
        "id": "ouHso5stBFcF",
        "colab_type": "code",
        "colab": {}
      },
      "cell_type": "code",
      "source": [
        "data_scaled.drop(columns=['diag_2', 'diag_3'], axis=1, inplace=True)"
      ],
      "execution_count": 0,
      "outputs": []
    },
    {
      "metadata": {
        "id": "q2iisoSPBFcJ",
        "colab_type": "code",
        "colab": {}
      },
      "cell_type": "code",
      "source": [
        "categorical_columns = data_scaled.select_dtypes(exclude=[np.number]).columns\n",
        "categorical_columns = categorical_columns.drop(['patient_nbr', 'readmitted']) # Removing the target value and patient numbers\n",
        "data_scaled_dummied = pd.get_dummies(data_scaled, columns=categorical_columns, prefix=categorical_columns)"
      ],
      "execution_count": 0,
      "outputs": []
    },
    {
      "metadata": {
        "id": "Kd51lZnbBFcM",
        "colab_type": "code",
        "outputId": "a09d0667-70a8-47b2-d059-b8d11d161ab1",
        "colab": {
          "base_uri": "https://localhost:8080/",
          "height": 34
        }
      },
      "cell_type": "code",
      "source": [
        "print(\"Dimension of the data after scaling and dummy creation: {}\".format(data_scaled_dummied.shape))"
      ],
      "execution_count": 0,
      "outputs": [
        {
          "output_type": "stream",
          "text": [
            "Dimension of the data after scaling and dummy creation: (69324, 833)\n"
          ],
          "name": "stdout"
        }
      ]
    },
    {
      "metadata": {
        "id": "_MReRPBCBFcS",
        "colab_type": "text"
      },
      "cell_type": "markdown",
      "source": [
        "## **2. Model training, comparisson and fine-tuning**"
      ]
    },
    {
      "metadata": {
        "id": "-nyZZ9epBFcU",
        "colab_type": "text"
      },
      "cell_type": "markdown",
      "source": [
        "Due to time restrictions, I will only focus on binary clasification and will transform the target value accordingly."
      ]
    },
    {
      "metadata": {
        "id": "CHsZkrbYBFca",
        "colab_type": "code",
        "colab": {}
      },
      "cell_type": "code",
      "source": [
        "binary_target = data_scaled_dummied.readmitted.replace({'>30': 1, '<30': 1, 'NO': 0})"
      ],
      "execution_count": 0,
      "outputs": []
    },
    {
      "metadata": {
        "id": "8a9PNF0xBFcf",
        "colab_type": "code",
        "colab": {}
      },
      "cell_type": "code",
      "source": [
        "features = data_scaled_dummied.drop(['readmitted', \"patient_nbr\"], axis=1)"
      ],
      "execution_count": 0,
      "outputs": []
    },
    {
      "metadata": {
        "id": "ovXMBr6ABFcj",
        "colab_type": "code",
        "colab": {}
      },
      "cell_type": "code",
      "source": [
        "X_train, X_test, y_train, y_test = train_test_split(features, binary_target, stratify=binary_target, train_size = 0.75, test_size = 0.25)\n"
      ],
      "execution_count": 0,
      "outputs": []
    },
    {
      "metadata": {
        "id": "DxODroJUBFco",
        "colab_type": "code",
        "outputId": "dfacd09a-896a-466a-a77b-db1fe9428618",
        "colab": {
          "base_uri": "https://localhost:8080/",
          "height": 51
        }
      },
      "cell_type": "code",
      "source": [
        "print(y_train.shape, y_test.shape)\n",
        "print(X_train.shape, X_test.shape)"
      ],
      "execution_count": 0,
      "outputs": [
        {
          "output_type": "stream",
          "text": [
            "(51993,) (17331,)\n",
            "(51993, 831) (17331, 831)\n"
          ],
          "name": "stdout"
        }
      ]
    },
    {
      "metadata": {
        "id": "fnNDzi6cBFct",
        "colab_type": "text"
      },
      "cell_type": "markdown",
      "source": [
        "#### **2.1. Modeling**\n",
        "\n",
        "#### **Logistic Regression**\n",
        "I will start with the classics for classification - Logistic Regression. Due to the sheer number of columns, I will use penalty L1 - LASSO to reduce the effect of the high number of data dimensions."
      ]
    },
    {
      "metadata": {
        "id": "oRK7pID4BFcv",
        "colab_type": "code",
        "outputId": "a810294e-1d96-4224-b8ec-3b7bccc006c2",
        "colab": {
          "base_uri": "https://localhost:8080/",
          "height": 1560
        }
      },
      "cell_type": "code",
      "source": [
        "grid={\"C\":[0.01, 0.1, 1, 10, 100]}\n",
        "logreg=LogisticRegression(penalty = \"l1\")# l1 lasso\n",
        "logreg_cv=GridSearchCV(logreg,grid,cv=5)\n",
        "logreg_cv.fit(X_train,y_train)\n",
        "\n",
        "print(\"tuned hyperparameters :(best parameters) \",logreg_cv.best_params_)\n",
        "print(\"accuracy :\",logreg_cv.best_score_)"
      ],
      "execution_count": 0,
      "outputs": [
        {
          "output_type": "error",
          "ename": "KeyboardInterrupt",
          "evalue": "ignored",
          "traceback": [
            "\u001b[0;31m---------------------------------------------------------------------------\u001b[0m",
            "\u001b[0;31mKeyboardInterrupt\u001b[0m                         Traceback (most recent call last)",
            "\u001b[0;32m<ipython-input-40-686ea5cac994>\u001b[0m in \u001b[0;36m<module>\u001b[0;34m()\u001b[0m\n\u001b[1;32m      2\u001b[0m \u001b[0mlogreg\u001b[0m\u001b[0;34m=\u001b[0m\u001b[0mLogisticRegression\u001b[0m\u001b[0;34m(\u001b[0m\u001b[0mpenalty\u001b[0m \u001b[0;34m=\u001b[0m \u001b[0;34m\"l1\"\u001b[0m\u001b[0;34m)\u001b[0m\u001b[0;31m# l1 lasso\u001b[0m\u001b[0;34m\u001b[0m\u001b[0m\n\u001b[1;32m      3\u001b[0m \u001b[0mlogreg_cv\u001b[0m\u001b[0;34m=\u001b[0m\u001b[0mGridSearchCV\u001b[0m\u001b[0;34m(\u001b[0m\u001b[0mlogreg\u001b[0m\u001b[0;34m,\u001b[0m\u001b[0mgrid\u001b[0m\u001b[0;34m,\u001b[0m\u001b[0mcv\u001b[0m\u001b[0;34m=\u001b[0m\u001b[0;36m5\u001b[0m\u001b[0;34m)\u001b[0m\u001b[0;34m\u001b[0m\u001b[0m\n\u001b[0;32m----> 4\u001b[0;31m \u001b[0mlogreg_cv\u001b[0m\u001b[0;34m.\u001b[0m\u001b[0mfit\u001b[0m\u001b[0;34m(\u001b[0m\u001b[0mX_train\u001b[0m\u001b[0;34m,\u001b[0m\u001b[0my_train\u001b[0m\u001b[0;34m)\u001b[0m\u001b[0;34m\u001b[0m\u001b[0m\n\u001b[0m\u001b[1;32m      5\u001b[0m \u001b[0;34m\u001b[0m\u001b[0m\n\u001b[1;32m      6\u001b[0m \u001b[0mprint\u001b[0m\u001b[0;34m(\u001b[0m\u001b[0;34m\"tuned hyperparameters :(best parameters) \"\u001b[0m\u001b[0;34m,\u001b[0m\u001b[0mlogreg_cv\u001b[0m\u001b[0;34m.\u001b[0m\u001b[0mbest_params_\u001b[0m\u001b[0;34m)\u001b[0m\u001b[0;34m\u001b[0m\u001b[0m\n",
            "\u001b[0;32m/usr/local/lib/python3.6/dist-packages/sklearn/model_selection/_search.py\u001b[0m in \u001b[0;36mfit\u001b[0;34m(self, X, y, groups, **fit_params)\u001b[0m\n\u001b[1;32m    638\u001b[0m                                   error_score=self.error_score)\n\u001b[1;32m    639\u001b[0m           for parameters, (train, test) in product(candidate_params,\n\u001b[0;32m--> 640\u001b[0;31m                                                    cv.split(X, y, groups)))\n\u001b[0m\u001b[1;32m    641\u001b[0m \u001b[0;34m\u001b[0m\u001b[0m\n\u001b[1;32m    642\u001b[0m         \u001b[0;31m# if one choose to see train score, \"out\" will contain train score info\u001b[0m\u001b[0;34m\u001b[0m\u001b[0;34m\u001b[0m\u001b[0m\n",
            "\u001b[0;32m/usr/local/lib/python3.6/dist-packages/sklearn/externals/joblib/parallel.py\u001b[0m in \u001b[0;36m__call__\u001b[0;34m(self, iterable)\u001b[0m\n\u001b[1;32m    777\u001b[0m             \u001b[0;31m# was dispatched. In particular this covers the edge\u001b[0m\u001b[0;34m\u001b[0m\u001b[0;34m\u001b[0m\u001b[0m\n\u001b[1;32m    778\u001b[0m             \u001b[0;31m# case of Parallel used with an exhausted iterator.\u001b[0m\u001b[0;34m\u001b[0m\u001b[0;34m\u001b[0m\u001b[0m\n\u001b[0;32m--> 779\u001b[0;31m             \u001b[0;32mwhile\u001b[0m \u001b[0mself\u001b[0m\u001b[0;34m.\u001b[0m\u001b[0mdispatch_one_batch\u001b[0m\u001b[0;34m(\u001b[0m\u001b[0miterator\u001b[0m\u001b[0;34m)\u001b[0m\u001b[0;34m:\u001b[0m\u001b[0;34m\u001b[0m\u001b[0m\n\u001b[0m\u001b[1;32m    780\u001b[0m                 \u001b[0mself\u001b[0m\u001b[0;34m.\u001b[0m\u001b[0m_iterating\u001b[0m \u001b[0;34m=\u001b[0m \u001b[0;32mTrue\u001b[0m\u001b[0;34m\u001b[0m\u001b[0m\n\u001b[1;32m    781\u001b[0m             \u001b[0;32melse\u001b[0m\u001b[0;34m:\u001b[0m\u001b[0;34m\u001b[0m\u001b[0m\n",
            "\u001b[0;32m/usr/local/lib/python3.6/dist-packages/sklearn/externals/joblib/parallel.py\u001b[0m in \u001b[0;36mdispatch_one_batch\u001b[0;34m(self, iterator)\u001b[0m\n\u001b[1;32m    623\u001b[0m                 \u001b[0;32mreturn\u001b[0m \u001b[0;32mFalse\u001b[0m\u001b[0;34m\u001b[0m\u001b[0m\n\u001b[1;32m    624\u001b[0m             \u001b[0;32melse\u001b[0m\u001b[0;34m:\u001b[0m\u001b[0;34m\u001b[0m\u001b[0m\n\u001b[0;32m--> 625\u001b[0;31m                 \u001b[0mself\u001b[0m\u001b[0;34m.\u001b[0m\u001b[0m_dispatch\u001b[0m\u001b[0;34m(\u001b[0m\u001b[0mtasks\u001b[0m\u001b[0;34m)\u001b[0m\u001b[0;34m\u001b[0m\u001b[0m\n\u001b[0m\u001b[1;32m    626\u001b[0m                 \u001b[0;32mreturn\u001b[0m \u001b[0;32mTrue\u001b[0m\u001b[0;34m\u001b[0m\u001b[0m\n\u001b[1;32m    627\u001b[0m \u001b[0;34m\u001b[0m\u001b[0m\n",
            "\u001b[0;32m/usr/local/lib/python3.6/dist-packages/sklearn/externals/joblib/parallel.py\u001b[0m in \u001b[0;36m_dispatch\u001b[0;34m(self, batch)\u001b[0m\n\u001b[1;32m    586\u001b[0m         \u001b[0mdispatch_timestamp\u001b[0m \u001b[0;34m=\u001b[0m \u001b[0mtime\u001b[0m\u001b[0;34m.\u001b[0m\u001b[0mtime\u001b[0m\u001b[0;34m(\u001b[0m\u001b[0;34m)\u001b[0m\u001b[0;34m\u001b[0m\u001b[0m\n\u001b[1;32m    587\u001b[0m         \u001b[0mcb\u001b[0m \u001b[0;34m=\u001b[0m \u001b[0mBatchCompletionCallBack\u001b[0m\u001b[0;34m(\u001b[0m\u001b[0mdispatch_timestamp\u001b[0m\u001b[0;34m,\u001b[0m \u001b[0mlen\u001b[0m\u001b[0;34m(\u001b[0m\u001b[0mbatch\u001b[0m\u001b[0;34m)\u001b[0m\u001b[0;34m,\u001b[0m \u001b[0mself\u001b[0m\u001b[0;34m)\u001b[0m\u001b[0;34m\u001b[0m\u001b[0m\n\u001b[0;32m--> 588\u001b[0;31m         \u001b[0mjob\u001b[0m \u001b[0;34m=\u001b[0m \u001b[0mself\u001b[0m\u001b[0;34m.\u001b[0m\u001b[0m_backend\u001b[0m\u001b[0;34m.\u001b[0m\u001b[0mapply_async\u001b[0m\u001b[0;34m(\u001b[0m\u001b[0mbatch\u001b[0m\u001b[0;34m,\u001b[0m \u001b[0mcallback\u001b[0m\u001b[0;34m=\u001b[0m\u001b[0mcb\u001b[0m\u001b[0;34m)\u001b[0m\u001b[0;34m\u001b[0m\u001b[0m\n\u001b[0m\u001b[1;32m    589\u001b[0m         \u001b[0mself\u001b[0m\u001b[0;34m.\u001b[0m\u001b[0m_jobs\u001b[0m\u001b[0;34m.\u001b[0m\u001b[0mappend\u001b[0m\u001b[0;34m(\u001b[0m\u001b[0mjob\u001b[0m\u001b[0;34m)\u001b[0m\u001b[0;34m\u001b[0m\u001b[0m\n\u001b[1;32m    590\u001b[0m \u001b[0;34m\u001b[0m\u001b[0m\n",
            "\u001b[0;32m/usr/local/lib/python3.6/dist-packages/sklearn/externals/joblib/_parallel_backends.py\u001b[0m in \u001b[0;36mapply_async\u001b[0;34m(self, func, callback)\u001b[0m\n\u001b[1;32m    109\u001b[0m     \u001b[0;32mdef\u001b[0m \u001b[0mapply_async\u001b[0m\u001b[0;34m(\u001b[0m\u001b[0mself\u001b[0m\u001b[0;34m,\u001b[0m \u001b[0mfunc\u001b[0m\u001b[0;34m,\u001b[0m \u001b[0mcallback\u001b[0m\u001b[0;34m=\u001b[0m\u001b[0;32mNone\u001b[0m\u001b[0;34m)\u001b[0m\u001b[0;34m:\u001b[0m\u001b[0;34m\u001b[0m\u001b[0m\n\u001b[1;32m    110\u001b[0m         \u001b[0;34m\"\"\"Schedule a func to be run\"\"\"\u001b[0m\u001b[0;34m\u001b[0m\u001b[0m\n\u001b[0;32m--> 111\u001b[0;31m         \u001b[0mresult\u001b[0m \u001b[0;34m=\u001b[0m \u001b[0mImmediateResult\u001b[0m\u001b[0;34m(\u001b[0m\u001b[0mfunc\u001b[0m\u001b[0;34m)\u001b[0m\u001b[0;34m\u001b[0m\u001b[0m\n\u001b[0m\u001b[1;32m    112\u001b[0m         \u001b[0;32mif\u001b[0m \u001b[0mcallback\u001b[0m\u001b[0;34m:\u001b[0m\u001b[0;34m\u001b[0m\u001b[0m\n\u001b[1;32m    113\u001b[0m             \u001b[0mcallback\u001b[0m\u001b[0;34m(\u001b[0m\u001b[0mresult\u001b[0m\u001b[0;34m)\u001b[0m\u001b[0;34m\u001b[0m\u001b[0m\n",
            "\u001b[0;32m/usr/local/lib/python3.6/dist-packages/sklearn/externals/joblib/_parallel_backends.py\u001b[0m in \u001b[0;36m__init__\u001b[0;34m(self, batch)\u001b[0m\n\u001b[1;32m    330\u001b[0m         \u001b[0;31m# Don't delay the application, to avoid keeping the input\u001b[0m\u001b[0;34m\u001b[0m\u001b[0;34m\u001b[0m\u001b[0m\n\u001b[1;32m    331\u001b[0m         \u001b[0;31m# arguments in memory\u001b[0m\u001b[0;34m\u001b[0m\u001b[0;34m\u001b[0m\u001b[0m\n\u001b[0;32m--> 332\u001b[0;31m         \u001b[0mself\u001b[0m\u001b[0;34m.\u001b[0m\u001b[0mresults\u001b[0m \u001b[0;34m=\u001b[0m \u001b[0mbatch\u001b[0m\u001b[0;34m(\u001b[0m\u001b[0;34m)\u001b[0m\u001b[0;34m\u001b[0m\u001b[0m\n\u001b[0m\u001b[1;32m    333\u001b[0m \u001b[0;34m\u001b[0m\u001b[0m\n\u001b[1;32m    334\u001b[0m     \u001b[0;32mdef\u001b[0m \u001b[0mget\u001b[0m\u001b[0;34m(\u001b[0m\u001b[0mself\u001b[0m\u001b[0;34m)\u001b[0m\u001b[0;34m:\u001b[0m\u001b[0;34m\u001b[0m\u001b[0m\n",
            "\u001b[0;32m/usr/local/lib/python3.6/dist-packages/sklearn/externals/joblib/parallel.py\u001b[0m in \u001b[0;36m__call__\u001b[0;34m(self)\u001b[0m\n\u001b[1;32m    129\u001b[0m \u001b[0;34m\u001b[0m\u001b[0m\n\u001b[1;32m    130\u001b[0m     \u001b[0;32mdef\u001b[0m \u001b[0m__call__\u001b[0m\u001b[0;34m(\u001b[0m\u001b[0mself\u001b[0m\u001b[0;34m)\u001b[0m\u001b[0;34m:\u001b[0m\u001b[0;34m\u001b[0m\u001b[0m\n\u001b[0;32m--> 131\u001b[0;31m         \u001b[0;32mreturn\u001b[0m \u001b[0;34m[\u001b[0m\u001b[0mfunc\u001b[0m\u001b[0;34m(\u001b[0m\u001b[0;34m*\u001b[0m\u001b[0margs\u001b[0m\u001b[0;34m,\u001b[0m \u001b[0;34m**\u001b[0m\u001b[0mkwargs\u001b[0m\u001b[0;34m)\u001b[0m \u001b[0;32mfor\u001b[0m \u001b[0mfunc\u001b[0m\u001b[0;34m,\u001b[0m \u001b[0margs\u001b[0m\u001b[0;34m,\u001b[0m \u001b[0mkwargs\u001b[0m \u001b[0;32min\u001b[0m \u001b[0mself\u001b[0m\u001b[0;34m.\u001b[0m\u001b[0mitems\u001b[0m\u001b[0;34m]\u001b[0m\u001b[0;34m\u001b[0m\u001b[0m\n\u001b[0m\u001b[1;32m    132\u001b[0m \u001b[0;34m\u001b[0m\u001b[0m\n\u001b[1;32m    133\u001b[0m     \u001b[0;32mdef\u001b[0m \u001b[0m__len__\u001b[0m\u001b[0;34m(\u001b[0m\u001b[0mself\u001b[0m\u001b[0;34m)\u001b[0m\u001b[0;34m:\u001b[0m\u001b[0;34m\u001b[0m\u001b[0m\n",
            "\u001b[0;32m/usr/local/lib/python3.6/dist-packages/sklearn/externals/joblib/parallel.py\u001b[0m in \u001b[0;36m<listcomp>\u001b[0;34m(.0)\u001b[0m\n\u001b[1;32m    129\u001b[0m \u001b[0;34m\u001b[0m\u001b[0m\n\u001b[1;32m    130\u001b[0m     \u001b[0;32mdef\u001b[0m \u001b[0m__call__\u001b[0m\u001b[0;34m(\u001b[0m\u001b[0mself\u001b[0m\u001b[0;34m)\u001b[0m\u001b[0;34m:\u001b[0m\u001b[0;34m\u001b[0m\u001b[0m\n\u001b[0;32m--> 131\u001b[0;31m         \u001b[0;32mreturn\u001b[0m \u001b[0;34m[\u001b[0m\u001b[0mfunc\u001b[0m\u001b[0;34m(\u001b[0m\u001b[0;34m*\u001b[0m\u001b[0margs\u001b[0m\u001b[0;34m,\u001b[0m \u001b[0;34m**\u001b[0m\u001b[0mkwargs\u001b[0m\u001b[0;34m)\u001b[0m \u001b[0;32mfor\u001b[0m \u001b[0mfunc\u001b[0m\u001b[0;34m,\u001b[0m \u001b[0margs\u001b[0m\u001b[0;34m,\u001b[0m \u001b[0mkwargs\u001b[0m \u001b[0;32min\u001b[0m \u001b[0mself\u001b[0m\u001b[0;34m.\u001b[0m\u001b[0mitems\u001b[0m\u001b[0;34m]\u001b[0m\u001b[0;34m\u001b[0m\u001b[0m\n\u001b[0m\u001b[1;32m    132\u001b[0m \u001b[0;34m\u001b[0m\u001b[0m\n\u001b[1;32m    133\u001b[0m     \u001b[0;32mdef\u001b[0m \u001b[0m__len__\u001b[0m\u001b[0;34m(\u001b[0m\u001b[0mself\u001b[0m\u001b[0;34m)\u001b[0m\u001b[0;34m:\u001b[0m\u001b[0;34m\u001b[0m\u001b[0m\n",
            "\u001b[0;32m/usr/local/lib/python3.6/dist-packages/sklearn/model_selection/_validation.py\u001b[0m in \u001b[0;36m_fit_and_score\u001b[0;34m(estimator, X, y, scorer, train, test, verbose, parameters, fit_params, return_train_score, return_parameters, return_n_test_samples, return_times, error_score)\u001b[0m\n\u001b[1;32m    456\u001b[0m             \u001b[0mestimator\u001b[0m\u001b[0;34m.\u001b[0m\u001b[0mfit\u001b[0m\u001b[0;34m(\u001b[0m\u001b[0mX_train\u001b[0m\u001b[0;34m,\u001b[0m \u001b[0;34m**\u001b[0m\u001b[0mfit_params\u001b[0m\u001b[0;34m)\u001b[0m\u001b[0;34m\u001b[0m\u001b[0m\n\u001b[1;32m    457\u001b[0m         \u001b[0;32melse\u001b[0m\u001b[0;34m:\u001b[0m\u001b[0;34m\u001b[0m\u001b[0m\n\u001b[0;32m--> 458\u001b[0;31m             \u001b[0mestimator\u001b[0m\u001b[0;34m.\u001b[0m\u001b[0mfit\u001b[0m\u001b[0;34m(\u001b[0m\u001b[0mX_train\u001b[0m\u001b[0;34m,\u001b[0m \u001b[0my_train\u001b[0m\u001b[0;34m,\u001b[0m \u001b[0;34m**\u001b[0m\u001b[0mfit_params\u001b[0m\u001b[0;34m)\u001b[0m\u001b[0;34m\u001b[0m\u001b[0m\n\u001b[0m\u001b[1;32m    459\u001b[0m \u001b[0;34m\u001b[0m\u001b[0m\n\u001b[1;32m    460\u001b[0m     \u001b[0;32mexcept\u001b[0m \u001b[0mException\u001b[0m \u001b[0;32mas\u001b[0m \u001b[0me\u001b[0m\u001b[0;34m:\u001b[0m\u001b[0;34m\u001b[0m\u001b[0m\n",
            "\u001b[0;32m/usr/local/lib/python3.6/dist-packages/sklearn/linear_model/logistic.py\u001b[0m in \u001b[0;36mfit\u001b[0;34m(self, X, y, sample_weight)\u001b[0m\n\u001b[1;32m   1235\u001b[0m                 \u001b[0mself\u001b[0m\u001b[0;34m.\u001b[0m\u001b[0mclass_weight\u001b[0m\u001b[0;34m,\u001b[0m \u001b[0mself\u001b[0m\u001b[0;34m.\u001b[0m\u001b[0mpenalty\u001b[0m\u001b[0;34m,\u001b[0m \u001b[0mself\u001b[0m\u001b[0;34m.\u001b[0m\u001b[0mdual\u001b[0m\u001b[0;34m,\u001b[0m \u001b[0mself\u001b[0m\u001b[0;34m.\u001b[0m\u001b[0mverbose\u001b[0m\u001b[0;34m,\u001b[0m\u001b[0;34m\u001b[0m\u001b[0m\n\u001b[1;32m   1236\u001b[0m                 \u001b[0mself\u001b[0m\u001b[0;34m.\u001b[0m\u001b[0mmax_iter\u001b[0m\u001b[0;34m,\u001b[0m \u001b[0mself\u001b[0m\u001b[0;34m.\u001b[0m\u001b[0mtol\u001b[0m\u001b[0;34m,\u001b[0m \u001b[0mself\u001b[0m\u001b[0;34m.\u001b[0m\u001b[0mrandom_state\u001b[0m\u001b[0;34m,\u001b[0m\u001b[0;34m\u001b[0m\u001b[0m\n\u001b[0;32m-> 1237\u001b[0;31m                 sample_weight=sample_weight)\n\u001b[0m\u001b[1;32m   1238\u001b[0m             \u001b[0mself\u001b[0m\u001b[0;34m.\u001b[0m\u001b[0mn_iter_\u001b[0m \u001b[0;34m=\u001b[0m \u001b[0mnp\u001b[0m\u001b[0;34m.\u001b[0m\u001b[0marray\u001b[0m\u001b[0;34m(\u001b[0m\u001b[0;34m[\u001b[0m\u001b[0mn_iter_\u001b[0m\u001b[0;34m]\u001b[0m\u001b[0;34m)\u001b[0m\u001b[0;34m\u001b[0m\u001b[0m\n\u001b[1;32m   1239\u001b[0m             \u001b[0;32mreturn\u001b[0m \u001b[0mself\u001b[0m\u001b[0;34m\u001b[0m\u001b[0m\n",
            "\u001b[0;32m/usr/local/lib/python3.6/dist-packages/sklearn/svm/base.py\u001b[0m in \u001b[0;36m_fit_liblinear\u001b[0;34m(X, y, C, fit_intercept, intercept_scaling, class_weight, penalty, dual, verbose, max_iter, tol, random_state, multi_class, loss, epsilon, sample_weight)\u001b[0m\n\u001b[1;32m    888\u001b[0m         \u001b[0mX\u001b[0m\u001b[0;34m,\u001b[0m \u001b[0my_ind\u001b[0m\u001b[0;34m,\u001b[0m \u001b[0msp\u001b[0m\u001b[0;34m.\u001b[0m\u001b[0misspmatrix\u001b[0m\u001b[0;34m(\u001b[0m\u001b[0mX\u001b[0m\u001b[0;34m)\u001b[0m\u001b[0;34m,\u001b[0m \u001b[0msolver_type\u001b[0m\u001b[0;34m,\u001b[0m \u001b[0mtol\u001b[0m\u001b[0;34m,\u001b[0m \u001b[0mbias\u001b[0m\u001b[0;34m,\u001b[0m \u001b[0mC\u001b[0m\u001b[0;34m,\u001b[0m\u001b[0;34m\u001b[0m\u001b[0m\n\u001b[1;32m    889\u001b[0m         \u001b[0mclass_weight_\u001b[0m\u001b[0;34m,\u001b[0m \u001b[0mmax_iter\u001b[0m\u001b[0;34m,\u001b[0m \u001b[0mrnd\u001b[0m\u001b[0;34m.\u001b[0m\u001b[0mrandint\u001b[0m\u001b[0;34m(\u001b[0m\u001b[0mnp\u001b[0m\u001b[0;34m.\u001b[0m\u001b[0miinfo\u001b[0m\u001b[0;34m(\u001b[0m\u001b[0;34m'i'\u001b[0m\u001b[0;34m)\u001b[0m\u001b[0;34m.\u001b[0m\u001b[0mmax\u001b[0m\u001b[0;34m)\u001b[0m\u001b[0;34m,\u001b[0m\u001b[0;34m\u001b[0m\u001b[0m\n\u001b[0;32m--> 890\u001b[0;31m         epsilon, sample_weight)\n\u001b[0m\u001b[1;32m    891\u001b[0m     \u001b[0;31m# Regarding rnd.randint(..) in the above signature:\u001b[0m\u001b[0;34m\u001b[0m\u001b[0;34m\u001b[0m\u001b[0m\n\u001b[1;32m    892\u001b[0m     \u001b[0;31m# seed for srand in range [0..INT_MAX); due to limitations in Numpy\u001b[0m\u001b[0;34m\u001b[0m\u001b[0;34m\u001b[0m\u001b[0m\n",
            "\u001b[0;31mKeyboardInterrupt\u001b[0m: "
          ]
        }
      ]
    },
    {
      "metadata": {
        "id": "Q6rITq_EBFc0",
        "colab_type": "code",
        "colab": {}
      },
      "cell_type": "code",
      "source": [
        "#Saving the model and parameters\n",
        "logreg=LogisticRegression(penalty = \"l1\", C=1).fit(X_train,y_train)"
      ],
      "execution_count": 0,
      "outputs": []
    },
    {
      "metadata": {
        "id": "Xo78WdA4BFc4",
        "colab_type": "text"
      },
      "cell_type": "markdown",
      "source": [
        "#### **Decision Tree Classifier**\n",
        "Next model to add is Decision Tree Classifier. In addition to its simplicity, it will allow me to gain some insight into the most important features."
      ]
    },
    {
      "metadata": {
        "id": "NMPwPL5eBFc5",
        "colab_type": "code",
        "outputId": "4ff40ade-6002-47c8-b607-68fa0e73873e",
        "colab": {}
      },
      "cell_type": "code",
      "source": [
        "tuned_params = [{\"max_depth\": [1,  7, 15], \"min_samples_leaf\": [2, 3,5], \"max_leaf_nodes\": [10, 20, 30]}]\n",
        "tree_grid_search = GridSearchCV(DecisionTreeClassifier(), tuned_params, cv=5)\n",
        "tree_grid_search.fit(X_train,y_train)\n",
        "print(\"tuned hyperparameters :(best parameters) \",tree_grid_search.best_params_)\n",
        "print(\"accuracy :\",tree_grid_search.best_score_)"
      ],
      "execution_count": 0,
      "outputs": [
        {
          "output_type": "stream",
          "text": [
            "tuned hyperparameters :(best parameters)  {'max_depth': 15, 'max_leaf_nodes': 30, 'min_samples_leaf': 2}\n",
            "accuracy : 0.6293667305783326\n"
          ],
          "name": "stdout"
        }
      ]
    },
    {
      "metadata": {
        "id": "Ab30YsWgBFdA",
        "colab_type": "code",
        "colab": {}
      },
      "cell_type": "code",
      "source": [
        "tree = DecisionTreeClassifier(max_depth= 15, max_leaf_nodes =  30, min_samples_leaf =2).fit(X_train,y_train)"
      ],
      "execution_count": 0,
      "outputs": []
    },
    {
      "metadata": {
        "id": "T1sjRmABBFdE",
        "colab_type": "text"
      },
      "cell_type": "markdown",
      "source": [
        "#### **Support Vector Machines**\n",
        "Next model to add is Linear SVC. Similarly to the Logistic Regression, I will use L1 penalty to handle the high number of dimensions."
      ]
    },
    {
      "metadata": {
        "id": "Ch2o_qF7BFdG",
        "colab_type": "code",
        "outputId": "b1094007-d7fa-495d-d6d3-8be431ed0436",
        "colab": {}
      },
      "cell_type": "code",
      "source": [
        "tuned_params =  [{\"C\": [0.01, 0.05, 0.1, 1]}]\n",
        "svc_grid_search = GridSearchCV(LinearSVC(penalty=\"l1\", dual=False), tuned_params, cv=5)\n",
        "svc_grid_search.fit(X_train,y_train)\n",
        "print(\"tuned hyperparameters :(best parameters) \",svc_grid_search.best_params_)\n",
        "print(\"accuracy :\",svc_grid_search.best_score_)"
      ],
      "execution_count": 0,
      "outputs": [
        {
          "output_type": "stream",
          "text": [
            "tuned hyperparameters :(best parameters)  {'C': 0.1}\n",
            "accuracy : 0.6354995308611757\n"
          ],
          "name": "stdout"
        }
      ]
    },
    {
      "metadata": {
        "id": "vVcs4LxBBFdR",
        "colab_type": "code",
        "colab": {}
      },
      "cell_type": "code",
      "source": [
        "linear_svc = LinearSVC(penalty=\"l1\", dual=False, C=0.1).fit(X_train,y_train)"
      ],
      "execution_count": 0,
      "outputs": []
    },
    {
      "metadata": {
        "id": "WgdSatmoBFdW",
        "colab_type": "text"
      },
      "cell_type": "markdown",
      "source": [
        "#### **Gradient Boosting**\n",
        "Hm, results seem a bit underwhelming. I will add an ensamble to the models, hoping for an improvement. Gradient Boosting is a"
      ]
    },
    {
      "metadata": {
        "id": "hAAhgyByBFdY",
        "colab_type": "code",
        "colab": {}
      },
      "cell_type": "code",
      "source": [
        "boosted_ensemble = GradientBoostingClassifier()\n",
        "\n",
        "tuned_params = [{\"n_estimators\":[10, 50,100,150, 200], \"max_depth\": [1, 5, 7, 15], \"min_samples_leaf\": [1, 2, 5, 10, 12]}]\n",
        "boosted_grid_search = GridSearchCV(boosted_ensemble, tuned_params, cv=5)\n",
        "boosted_grid_search.fit(X_train,y_train)\n",
        "print(\"tuned hyperparameters :(best parameters) \",boosted_grid_search.best_params_)\n",
        "print(\"accuracy :\",boosted_grid_search.best_score_)"
      ],
      "execution_count": 0,
      "outputs": []
    },
    {
      "metadata": {
        "id": "hbnGchxaBFdb",
        "colab_type": "text"
      },
      "cell_type": "markdown",
      "source": [
        "The results so far have been rather underwhelming. One reason can be the relatively high number of dimensions. We can reduce the dimensions (Dimensionality Reduction) or select the most influencial features (Feature Selection). Starting with Principal Component Analysis (PCA) we can gain insight for further actions. PCA is a dimensionality reduction technique but it can also help us find out the components with maximum variance."
      ]
    },
    {
      "metadata": {
        "id": "kHKDlvEdBFdc",
        "colab_type": "code",
        "colab": {}
      },
      "cell_type": "code",
      "source": [
        "pca = PCA(n_components=863)\n",
        "pca.fit(features)"
      ],
      "execution_count": 0,
      "outputs": []
    },
    {
      "metadata": {
        "id": "IWxqJQamBFdf",
        "colab_type": "text"
      },
      "cell_type": "markdown",
      "source": [
        "Calculating and plotting Eigenvalues"
      ]
    },
    {
      "metadata": {
        "id": "YkSkBlzJBFdh",
        "colab_type": "code",
        "colab": {}
      },
      "cell_type": "code",
      "source": [
        "var=np.cumsum(np.round(pca.explained_variance_ratio_, decimals=3)*100)\n",
        "var"
      ],
      "execution_count": 0,
      "outputs": []
    },
    {
      "metadata": {
        "id": "NmdiWI0DBFdn",
        "colab_type": "code",
        "colab": {}
      },
      "cell_type": "code",
      "source": [
        "plt.plot(var)\n",
        "plt.ylabel('% Variance Explained')\n",
        "plt.xlabel('# of Features')\n",
        "plt.title('PCA Analysis')\n",
        "#plt.style.context('seaborn-whitegrid')\n",
        "\n",
        "plt.show()"
      ],
      "execution_count": 0,
      "outputs": []
    },
    {
      "metadata": {
        "id": "ojz3_FTTBFdu",
        "colab_type": "code",
        "colab": {}
      },
      "cell_type": "code",
      "source": [
        "\n",
        "\n",
        "feature_selector = SelectKBest(chi2, k=120)\n",
        "feature_selector.fit(features, binary_target)\n",
        "#features_new = SelectKBest(chi2, k=120).fit_transform(features, binary_target)"
      ],
      "execution_count": 0,
      "outputs": []
    },
    {
      "metadata": {
        "id": "B-L782WkBFdw",
        "colab_type": "code",
        "colab": {}
      },
      "cell_type": "code",
      "source": [
        "print(len(feature_selector.get_support()))\n",
        "\n"
      ],
      "execution_count": 0,
      "outputs": []
    },
    {
      "metadata": {
        "id": "NWV9O8lUBFd1",
        "colab_type": "code",
        "colab": {}
      },
      "cell_type": "code",
      "source": [
        "cols = [features.columns[i] for i in range(863) if feature_selector.get_support()[i]==True]\n",
        "cols"
      ],
      "execution_count": 0,
      "outputs": []
    },
    {
      "metadata": {
        "id": "P4lxTHQmBFd5",
        "colab_type": "code",
        "colab": {}
      },
      "cell_type": "code",
      "source": [
        "features_after_selection = features[cols]"
      ],
      "execution_count": 0,
      "outputs": []
    },
    {
      "metadata": {
        "id": "9pKPYs4SBFd8",
        "colab_type": "code",
        "colab": {}
      },
      "cell_type": "code",
      "source": [
        "X_train, X_test, y_train, y_test = train_test_split(features_after_selection, binary_target, stratify=binary_target, train_size = 0.7, test_size = 0.3)"
      ],
      "execution_count": 0,
      "outputs": []
    },
    {
      "metadata": {
        "id": "m18EOaAYBFeD",
        "colab_type": "code",
        "colab": {}
      },
      "cell_type": "code",
      "source": [
        "logreg_basic = LogisticRegression(penalty='l1', C=2).fit(features_after_selection, binary_target)\n",
        "print(\"Training set accuracy: {:.3f}\".format(logreg_basic.score(X_train, y_train)))\n",
        "print(\"Test set accuracy: {:.3f}\".format(logreg_basic.score(X_test, y_test)))"
      ],
      "execution_count": 0,
      "outputs": []
    },
    {
      "metadata": {
        "id": "3AwNFCPeBFeG",
        "colab_type": "code",
        "colab": {}
      },
      "cell_type": "code",
      "source": [
        "boosted_ensemble = GradientBoostingClassifier(n_estimators=200)\n",
        "boosted_ensemble.fit(features_after_selection, binary_target)\n",
        "print(\"Accuracy on training set: {:.3f}\".format(boosted_ensemble.score(X_train, y_train)))\n",
        "print(\"Accuracy on test set: {:.3f}\".format(boosted_ensemble.score(X_test, y_test)))"
      ],
      "execution_count": 0,
      "outputs": []
    },
    {
      "metadata": {
        "id": "GFaXYXlrBFeL",
        "colab_type": "code",
        "colab": {}
      },
      "cell_type": "code",
      "source": [
        "grid={\"C\":np.logspace(-3,3,7), \"penalty\":[\"l1\",\"l2\"]}# l1 lasso l2 ridge\n",
        "logreg=LogisticRegression()\n",
        "logreg_cv=GridSearchCV(logreg,grid,cv=5)\n",
        "logreg_cv.fit(X_train,y_train)\n",
        "\n",
        "print(\"tuned hyperparameters :(best parameters) \",logreg_cv.best_params_)\n",
        "print(\"accuracy :\",logreg_cv.best_score_)"
      ],
      "execution_count": 0,
      "outputs": []
    },
    {
      "metadata": {
        "id": "z11mXJzaBFeN",
        "colab_type": "code",
        "colab": {}
      },
      "cell_type": "code",
      "source": [
        "tuned_params =  [{\"C\": [0.1, 0.5, 0.8, 1, 1.5, 2, 6, 10, 15, 20]}]\n",
        "svc_grid_search = GridSearchCV(LinearSVC(), tuned_params, cv=5)\n",
        "svc_grid_search.fit(X_train,y_train)\n",
        "print(\"tuned hyperparameters :(best parameters) \",svc_grid_search.best_params_)\n",
        "print(\"accuracy :\",svc_grid_search.best_score_)\n"
      ],
      "execution_count": 0,
      "outputs": []
    },
    {
      "metadata": {
        "id": "_Q4R98spBFeR",
        "colab_type": "code",
        "colab": {}
      },
      "cell_type": "code",
      "source": [
        "tuned_params =  [{\"C\": [0.01, 0.05, 0.1, 1]}]\n",
        "svc_grid_search = GridSearchCV(LinearSVC(penalty=\"l1\", dual=False), tuned_params, cv=5)\n",
        "svc_grid_search.fit(X_train,y_train)\n",
        "print(\"tuned hyperparameters :(best parameters) \",svc_grid_search.best_params_)\n",
        "print(\"accuracy :\",svc_grid_search.best_score_)"
      ],
      "execution_count": 0,
      "outputs": []
    },
    {
      "metadata": {
        "id": "kic91X8sBFeU",
        "colab_type": "code",
        "colab": {}
      },
      "cell_type": "code",
      "source": [
        "tuned_params = [{\"max_depth\": [1, 5, 7, 15, 20], \"min_samples_leaf\": [2, 5, 10, 12], \"max_leaf_nodes\": [5, 10, 20]}]\n",
        "tree_grid_search = GridSearchCV(DecisionTreeClassifier(), tuned_params, cv=5)\n",
        "tree_grid_search.fit(X_train,y_train)\n",
        "print(\"tuned hyperparameters :(best parameters) \",tree_grid_search.best_params_)\n",
        "print(\"accuracy :\",tree_grid_search.best_score_)"
      ],
      "execution_count": 0,
      "outputs": []
    },
    {
      "metadata": {
        "id": "b2s165exBFeY",
        "colab_type": "code",
        "colab": {}
      },
      "cell_type": "code",
      "source": [
        ""
      ],
      "execution_count": 0,
      "outputs": []
    },
    {
      "metadata": {
        "id": "gSCF1tu4BFec",
        "colab_type": "text"
      },
      "cell_type": "markdown",
      "source": [
        "!!!!!!!!!!!!In the above array we see that the first feature explains 9.6% of the variance within our data set while the first two explain 17.8% and so on. If we employ all features we capture 100% of the variance within the dataset, thus we gain some by implementing an additional feature. No any single feature outstanding"
      ]
    },
    {
      "metadata": {
        "id": "_zLrm-HmBFee",
        "colab_type": "code",
        "colab": {}
      },
      "cell_type": "code",
      "source": [
        "logreg_basic = LogisticRegression(penalty='l1').fit(X_train, y_train)\n",
        "print(\"Training set accuracy: {:.3f}\".format(logreg_basic.score(X_train, y_train)))\n",
        "print(\"Test set accuracy: {:.3f}\".format(logreg_basic.score(X_test, y_test)))"
      ],
      "execution_count": 0,
      "outputs": []
    },
    {
      "metadata": {
        "id": "7h_IVFazBFeh",
        "colab_type": "code",
        "colab": {}
      },
      "cell_type": "code",
      "source": [
        "y_pred_log = logreg_basic.predict(X_test)\n",
        "y_pred_tree = tree.predict(X_test)\n",
        "y_pred_boost = boosted_ensemble.predict(X_test)\n",
        "from sklearn.metrics import roc_curve, auc\n",
        "log_false_positive_rate, log_true_positive_rate, log_thresholds = roc_curve(y_test, y_pred_log)\n",
        "log_roc_auc = auc(log_false_positive_rate, log_true_positive_rate)\n",
        "print(log_roc_auc)\n",
        "tree_false_positive_rate, tree_true_positive_rate, tree_thresholds = roc_curve(y_test, y_pred_tree)\n",
        "tree_roc_auc = auc(tree_false_positive_rate, tree_true_positive_rate)\n",
        "print(tree_roc_auc)\n",
        "boost_false_positive_rate, boost_true_positive_rate, boost_thresholds = roc_curve(y_test, y_pred_boost)\n",
        "boost_roc_auc = auc(boost_false_positive_rate, boost_true_positive_rate)\n",
        "print(boost_roc_auc)"
      ],
      "execution_count": 0,
      "outputs": []
    },
    {
      "metadata": {
        "id": "TETtmLt_BFel",
        "colab_type": "code",
        "colab": {}
      },
      "cell_type": "code",
      "source": [
        "print(metrics.confusion_matrix(y_test, logreg_basic.predict(X_test)))"
      ],
      "execution_count": 0,
      "outputs": []
    },
    {
      "metadata": {
        "id": "0f-dWQXVBFeq",
        "colab_type": "code",
        "colab": {}
      },
      "cell_type": "code",
      "source": [
        "print(metrics.confusion_matrix(y_test, boosted_ensemble.predict(X_test)))"
      ],
      "execution_count": 0,
      "outputs": []
    },
    {
      "metadata": {
        "id": "XyMG285SBFes",
        "colab_type": "code",
        "colab": {}
      },
      "cell_type": "code",
      "source": [
        "print(metrics.confusion_matrix(y_test, tree.predict(X_test)))"
      ],
      "execution_count": 0,
      "outputs": []
    },
    {
      "metadata": {
        "id": "7MVi8pXcBFeu",
        "colab_type": "text"
      },
      "cell_type": "markdown",
      "source": [
        "Basic terminology\n",
        "\n",
        "True Positives (TP): we correctly predicted that they do have diabetes\n",
        "15\n",
        "True Negatives (TN): we correctly predicted that they don't have diabetes\n",
        "118\n",
        "False Positives (FP): we incorrectly predicted that they do have diabetes (a \"Type I error\")\n",
        "12\n",
        "Falsely predict positive\n",
        "Type I error\n",
        "False Negatives (FN): we incorrectly predicted that they don't have diabetes (a \"Type II error\")\n",
        "47\n",
        "Falsely predict negative\n",
        "Type II error"
      ]
    },
    {
      "metadata": {
        "id": "NphOlLEVBFex",
        "colab_type": "code",
        "colab": {}
      },
      "cell_type": "code",
      "source": [
        "fpr, tpr, thresholds = metrics.roc_curve(y_test, logreg_basic.predict(X_test))\n",
        "\n",
        "plt.plot(fpr, tpr)\n",
        "plt.xlim([0.0, 1.0])\n",
        "plt.ylim([0.0, 1.0])\n",
        "plt.rcParams['font.size'] = 12\n",
        "plt.title('ROC curve for diabetes classifier')\n",
        "plt.xlabel('False Positive Rate (1 - Specificity)')\n",
        "plt.ylabel('True Positive Rate (Sensitivity)')\n",
        "plt.grid(True)"
      ],
      "execution_count": 0,
      "outputs": []
    },
    {
      "metadata": {
        "id": "3ceqPYj6BFe0",
        "colab_type": "code",
        "colab": {}
      },
      "cell_type": "code",
      "source": [
        "# define a function that accepts a threshold and prints sensitivity and specificity\n",
        "def evaluate_threshold(threshold):\n",
        "    print('Sensitivity:', tpr[thresholds > threshold][-1])\n",
        "    print('Specificity:', 1 - fpr[thresholds > threshold][-1])"
      ],
      "execution_count": 0,
      "outputs": []
    },
    {
      "metadata": {
        "id": "-bYQ_D5_BFe6",
        "colab_type": "code",
        "colab": {}
      },
      "cell_type": "code",
      "source": [
        "evaluate_threshold(0.5)"
      ],
      "execution_count": 0,
      "outputs": []
    },
    {
      "metadata": {
        "id": "gBYYEDgRBFe_",
        "colab_type": "code",
        "colab": {}
      },
      "cell_type": "code",
      "source": [
        "evaluate_threshold(0.9)"
      ],
      "execution_count": 0,
      "outputs": []
    },
    {
      "metadata": {
        "id": "8La5_ZXTBFfC",
        "colab_type": "code",
        "colab": {}
      },
      "cell_type": "code",
      "source": [
        "tree = DecisionTreeClassifier(max_depth= 7, max_leaf_nodes =  20, min_samples_leaf =2, random_state=0)\n",
        "tree.fit(X_train, y_train)\n",
        "print(\"Accuracy on training set: {:.3f}\".format(tree.score(X_train, y_train)))\n",
        "print(\"Accuracy on test set: {:.3f}\".format(tree.score(X_test, y_test)))"
      ],
      "execution_count": 0,
      "outputs": []
    },
    {
      "metadata": {
        "id": "m3bI40ZrBFfF",
        "colab_type": "code",
        "colab": {}
      },
      "cell_type": "code",
      "source": [
        "boosted_ensemble = GradientBoostingClassifier(n_estimators=200)\n",
        "boosted_ensemble.fit(X_train, y_train)\n",
        "print(\"Accuracy on training set: {:.3f}\".format(boosted_ensemble.score(X_train, y_train)))\n",
        "print(\"Accuracy on test set: {:.3f}\".format(boosted_ensemble.score(X_test, y_test)))"
      ],
      "execution_count": 0,
      "outputs": []
    },
    {
      "metadata": {
        "id": "TdS92SHdBFfJ",
        "colab_type": "code",
        "colab": {}
      },
      "cell_type": "code",
      "source": [
        "boosted_ensemble = GradientBoostingClassifier()\n",
        "\n",
        "tuned_params = [{\"n_estimators\":[10, 50,100,150, 200], \"max_depth\": [1, 5, 7, 15], \"min_samples_leaf\": [1, 2, 5, 10, 12]}]\n",
        "boosted_grid_search = GridSearchCV(boosted_ensemble, tuned_params, cv=5)\n",
        "boosted_grid_search.fit(X_train,y_train)\n",
        "print(\"tuned hyperparameters :(best parameters) \",boosted_grid_search.best_params_)\n",
        "print(\"accuracy :\",boosted_grid_search.best_score_)"
      ],
      "execution_count": 0,
      "outputs": []
    },
    {
      "metadata": {
        "id": "Ynf29qCFBFfL",
        "colab_type": "code",
        "colab": {}
      },
      "cell_type": "code",
      "source": [
        "from sklearn.decomposition import PCA\n",
        "# Make an instance of the Model\n",
        "pca_120 = PCA(n_components=120)"
      ],
      "execution_count": 0,
      "outputs": []
    },
    {
      "metadata": {
        "id": "AliirnZJBFfQ",
        "colab_type": "code",
        "colab": {}
      },
      "cell_type": "code",
      "source": [
        "pca_120.fit(X_train)"
      ],
      "execution_count": 0,
      "outputs": []
    },
    {
      "metadata": {
        "id": "dMOlATpYBFfT",
        "colab_type": "code",
        "colab": {}
      },
      "cell_type": "code",
      "source": [
        "train_img = pca_120.transform(X_train)\n",
        "test_img = pca_120.transform(X_test)"
      ],
      "execution_count": 0,
      "outputs": []
    },
    {
      "metadata": {
        "id": "962sTul1BFfW",
        "colab_type": "code",
        "colab": {}
      },
      "cell_type": "code",
      "source": [
        "\n",
        "logreg_pca = LogisticRegression(C=0.01).fit(train_img, y_train)\n",
        "print(\"Training set accuracy: {:.3f}\".format(logreg_pca.score(train_img, y_train)))\n",
        "print(\"Test set accuracy: {:.3f}\".format(logreg_pca.score(test_img, y_test)))"
      ],
      "execution_count": 0,
      "outputs": []
    },
    {
      "metadata": {
        "id": "YXyxgNzVBFfc",
        "colab_type": "code",
        "colab": {}
      },
      "cell_type": "code",
      "source": [
        "lin_svc = LinearSVC().fit(train_img, y_train)\n",
        "print(\"Training set accuracy: {:.3f}\".format(lin_svc.score(train_img, y_train)))\n",
        "print(\"Test set accuracy: {:.3f}\".format(lin_svc.score(test_img, y_test)))"
      ],
      "execution_count": 0,
      "outputs": []
    },
    {
      "metadata": {
        "id": "ureeU1WEBFff",
        "colab_type": "code",
        "colab": {}
      },
      "cell_type": "code",
      "source": [
        "lin_svc_without_pca = LinearSVC().fit(train_img, y_train)\n",
        "\n",
        "print(\"Training set accuracy: {:.3f}\".format(lin_svc_without_pca.score(train_img, y_train)))\n",
        "print(\"Test set accuracy: {:.3f}\".format(lin_svc_without_pca.score(test_img, y_test)))"
      ],
      "execution_count": 0,
      "outputs": []
    },
    {
      "metadata": {
        "id": "cwdjOR-dBFfi",
        "colab_type": "text"
      },
      "cell_type": "markdown",
      "source": [
        "To Do list:\n",
        "* Repeat the GridSearch with scoring F1\n",
        "* Repeat with not removing the Medical Specialty\n",
        "* Transform some of the sorted categoricals into numerical values"
      ]
    },
    {
      "metadata": {
        "id": "gGQzFV_nBFfj",
        "colab_type": "text"
      },
      "cell_type": "markdown",
      "source": [
        "## References\n",
        "\n",
        "1) https://www.kaggle.com/brandao/diabetes/home <br />\n",
        "2) 2014 Beata Strack et al.Impact of HbA1c Measurement on Hospital Readmission Rates: Analysis of 70,000 Clinical Database Patient Records <br />\n",
        "3) https://medium.com/analytics-vidhya/scikit-learn-a-silver-bullet-for-basic-machine-learning-13c7d8b248ee <br />\n",
        "4) https://github.com/susanli2016/Machine-Learning-with-Python/blob/master/Machine%20Learning%20for%20Diabetes.ipynb <br />\n",
        "5) https://towardsdatascience.com/pca-using-python-scikit-learn-e653f8989e60 <br />\n",
        "6) https://towardsdatascience.com/predicting-hotel-bookings-with-user-search-parameters-8c570ab24805 <br />\n",
        "7) https://www.kaggle.com/dkim1992/feature-selection-ranking <br />\n",
        "8) https://medium.com/all-things-ai/in-depth-parameter-tuning-for-gradient-boosting-3363992e9bae <br />\n",
        "9) https://www.ritchieng.com/machine-learning-evaluate-classification-model/ <br />\n",
        "10) Countless StackOverflow articles <br />\n",
        "11) SKLearn Documentation and User Guide <br />"
      ]
    }
  ]
}