{
  "nbformat": 4,
  "nbformat_minor": 0,
  "metadata": {
    "colab": {
      "name": "Twitter sentiment analysis, based on the 1.6 mil tweets dataset.ipynb",
      "provenance": [],
      "collapsed_sections": [],
      "include_colab_link": true
    },
    "kernelspec": {
      "name": "python3",
      "display_name": "Python 3"
    },
    "accelerator": "GPU"
  },
  "cells": [
    {
      "cell_type": "markdown",
      "metadata": {
        "id": "view-in-github",
        "colab_type": "text"
      },
      "source": [
        "<a href=\"https://colab.research.google.com/github/krumeto/own_work/blob/master/Twitter_sentiment_analysis%2C_based_on_the_1_6_mil_tweets_dataset.ipynb\" target=\"_parent\"><img src=\"https://colab.research.google.com/assets/colab-badge.svg\" alt=\"Open In Colab\"/></a>"
      ]
    },
    {
      "cell_type": "markdown",
      "metadata": {
        "id": "tepxU6lRHc-1",
        "colab_type": "text"
      },
      "source": [
        "This is an exercise in Sentiment Analysis with a rarely used dataset - 1.6 mil tweets from 2009 with a negative/positive label. \n",
        "\n",
        "I will explore the dataset and compare a couple of model architectures to a rule-based sentiment model - VADER."
      ]
    },
    {
      "cell_type": "code",
      "metadata": {
        "id": "MBDad8ElDcTD",
        "colab_type": "code",
        "colab": {
          "base_uri": "https://localhost:8080/",
          "height": 1000
        },
        "outputId": "0ee1a389-6ad0-4632-f3f3-542dfd6b3801"
      },
      "source": [
        "!pip install tensorflow==2.0.0\n",
        "!pip install vaderSentiment"
      ],
      "execution_count": 1,
      "outputs": [
        {
          "output_type": "stream",
          "text": [
            "Collecting tensorflow==2.0.0\n",
            "\u001b[?25l  Downloading https://files.pythonhosted.org/packages/46/0f/7bd55361168bb32796b360ad15a25de6966c9c1beb58a8e30c01c8279862/tensorflow-2.0.0-cp36-cp36m-manylinux2010_x86_64.whl (86.3MB)\n",
            "\u001b[K     |████████████████████████████████| 86.3MB 130kB/s \n",
            "\u001b[?25hRequirement already satisfied: keras-preprocessing>=1.0.5 in /usr/local/lib/python3.6/dist-packages (from tensorflow==2.0.0) (1.1.0)\n",
            "Requirement already satisfied: termcolor>=1.1.0 in /usr/local/lib/python3.6/dist-packages (from tensorflow==2.0.0) (1.1.0)\n",
            "Requirement already satisfied: astor>=0.6.0 in /usr/local/lib/python3.6/dist-packages (from tensorflow==2.0.0) (0.8.0)\n",
            "Requirement already satisfied: numpy<2.0,>=1.16.0 in /usr/local/lib/python3.6/dist-packages (from tensorflow==2.0.0) (1.17.4)\n",
            "Requirement already satisfied: wheel>=0.26 in /usr/local/lib/python3.6/dist-packages (from tensorflow==2.0.0) (0.33.6)\n",
            "Requirement already satisfied: grpcio>=1.8.6 in /usr/local/lib/python3.6/dist-packages (from tensorflow==2.0.0) (1.15.0)\n",
            "Requirement already satisfied: opt-einsum>=2.3.2 in /usr/local/lib/python3.6/dist-packages (from tensorflow==2.0.0) (3.1.0)\n",
            "Requirement already satisfied: keras-applications>=1.0.8 in /usr/local/lib/python3.6/dist-packages (from tensorflow==2.0.0) (1.0.8)\n",
            "Collecting tensorflow-estimator<2.1.0,>=2.0.0\n",
            "\u001b[?25l  Downloading https://files.pythonhosted.org/packages/fc/08/8b927337b7019c374719145d1dceba21a8bb909b93b1ad6f8fb7d22c1ca1/tensorflow_estimator-2.0.1-py2.py3-none-any.whl (449kB)\n",
            "\u001b[K     |████████████████████████████████| 450kB 37.3MB/s \n",
            "\u001b[?25hRequirement already satisfied: six>=1.10.0 in /usr/local/lib/python3.6/dist-packages (from tensorflow==2.0.0) (1.12.0)\n",
            "Requirement already satisfied: gast==0.2.2 in /usr/local/lib/python3.6/dist-packages (from tensorflow==2.0.0) (0.2.2)\n",
            "Requirement already satisfied: google-pasta>=0.1.6 in /usr/local/lib/python3.6/dist-packages (from tensorflow==2.0.0) (0.1.8)\n",
            "Requirement already satisfied: absl-py>=0.7.0 in /usr/local/lib/python3.6/dist-packages (from tensorflow==2.0.0) (0.8.1)\n",
            "Collecting tensorboard<2.1.0,>=2.0.0\n",
            "\u001b[?25l  Downloading https://files.pythonhosted.org/packages/76/54/99b9d5d52d5cb732f099baaaf7740403e83fe6b0cedde940fabd2b13d75a/tensorboard-2.0.2-py3-none-any.whl (3.8MB)\n",
            "\u001b[K     |████████████████████████████████| 3.8MB 32.9MB/s \n",
            "\u001b[?25hRequirement already satisfied: wrapt>=1.11.1 in /usr/local/lib/python3.6/dist-packages (from tensorflow==2.0.0) (1.11.2)\n",
            "Requirement already satisfied: protobuf>=3.6.1 in /usr/local/lib/python3.6/dist-packages (from tensorflow==2.0.0) (3.10.0)\n",
            "Requirement already satisfied: h5py in /usr/local/lib/python3.6/dist-packages (from keras-applications>=1.0.8->tensorflow==2.0.0) (2.8.0)\n",
            "Requirement already satisfied: requests<3,>=2.21.0 in /usr/local/lib/python3.6/dist-packages (from tensorboard<2.1.0,>=2.0.0->tensorflow==2.0.0) (2.21.0)\n",
            "Requirement already satisfied: werkzeug>=0.11.15 in /usr/local/lib/python3.6/dist-packages (from tensorboard<2.1.0,>=2.0.0->tensorflow==2.0.0) (0.16.0)\n",
            "Collecting google-auth<2,>=1.6.3\n",
            "\u001b[?25l  Downloading https://files.pythonhosted.org/packages/7b/cb/786dc53d93494784935a62947643b48250b84a882474e714f9af5e1a1928/google_auth-1.7.1-py2.py3-none-any.whl (74kB)\n",
            "\u001b[K     |████████████████████████████████| 81kB 10.4MB/s \n",
            "\u001b[?25hRequirement already satisfied: setuptools>=41.0.0 in /usr/local/lib/python3.6/dist-packages (from tensorboard<2.1.0,>=2.0.0->tensorflow==2.0.0) (41.6.0)\n",
            "Requirement already satisfied: google-auth-oauthlib<0.5,>=0.4.1 in /usr/local/lib/python3.6/dist-packages (from tensorboard<2.1.0,>=2.0.0->tensorflow==2.0.0) (0.4.1)\n",
            "Requirement already satisfied: markdown>=2.6.8 in /usr/local/lib/python3.6/dist-packages (from tensorboard<2.1.0,>=2.0.0->tensorflow==2.0.0) (3.1.1)\n",
            "Requirement already satisfied: idna<2.9,>=2.5 in /usr/local/lib/python3.6/dist-packages (from requests<3,>=2.21.0->tensorboard<2.1.0,>=2.0.0->tensorflow==2.0.0) (2.8)\n",
            "Requirement already satisfied: chardet<3.1.0,>=3.0.2 in /usr/local/lib/python3.6/dist-packages (from requests<3,>=2.21.0->tensorboard<2.1.0,>=2.0.0->tensorflow==2.0.0) (3.0.4)\n",
            "Requirement already satisfied: urllib3<1.25,>=1.21.1 in /usr/local/lib/python3.6/dist-packages (from requests<3,>=2.21.0->tensorboard<2.1.0,>=2.0.0->tensorflow==2.0.0) (1.24.3)\n",
            "Requirement already satisfied: certifi>=2017.4.17 in /usr/local/lib/python3.6/dist-packages (from requests<3,>=2.21.0->tensorboard<2.1.0,>=2.0.0->tensorflow==2.0.0) (2019.9.11)\n",
            "Requirement already satisfied: rsa<4.1,>=3.1.4 in /usr/local/lib/python3.6/dist-packages (from google-auth<2,>=1.6.3->tensorboard<2.1.0,>=2.0.0->tensorflow==2.0.0) (4.0)\n",
            "Requirement already satisfied: cachetools<3.2,>=2.0.0 in /usr/local/lib/python3.6/dist-packages (from google-auth<2,>=1.6.3->tensorboard<2.1.0,>=2.0.0->tensorflow==2.0.0) (3.1.1)\n",
            "Requirement already satisfied: pyasn1-modules>=0.2.1 in /usr/local/lib/python3.6/dist-packages (from google-auth<2,>=1.6.3->tensorboard<2.1.0,>=2.0.0->tensorflow==2.0.0) (0.2.7)\n",
            "Requirement already satisfied: requests-oauthlib>=0.7.0 in /usr/local/lib/python3.6/dist-packages (from google-auth-oauthlib<0.5,>=0.4.1->tensorboard<2.1.0,>=2.0.0->tensorflow==2.0.0) (1.3.0)\n",
            "Requirement already satisfied: pyasn1>=0.1.3 in /usr/local/lib/python3.6/dist-packages (from rsa<4.1,>=3.1.4->google-auth<2,>=1.6.3->tensorboard<2.1.0,>=2.0.0->tensorflow==2.0.0) (0.4.7)\n",
            "Requirement already satisfied: oauthlib>=3.0.0 in /usr/local/lib/python3.6/dist-packages (from requests-oauthlib>=0.7.0->google-auth-oauthlib<0.5,>=0.4.1->tensorboard<2.1.0,>=2.0.0->tensorflow==2.0.0) (3.1.0)\n",
            "\u001b[31mERROR: tensorboard 2.0.2 has requirement grpcio>=1.24.3, but you'll have grpcio 1.15.0 which is incompatible.\u001b[0m\n",
            "\u001b[31mERROR: google-colab 1.0.0 has requirement google-auth~=1.4.0, but you'll have google-auth 1.7.1 which is incompatible.\u001b[0m\n",
            "Installing collected packages: tensorflow-estimator, google-auth, tensorboard, tensorflow\n",
            "  Found existing installation: tensorflow-estimator 1.15.1\n",
            "    Uninstalling tensorflow-estimator-1.15.1:\n",
            "      Successfully uninstalled tensorflow-estimator-1.15.1\n",
            "  Found existing installation: google-auth 1.4.2\n",
            "    Uninstalling google-auth-1.4.2:\n",
            "      Successfully uninstalled google-auth-1.4.2\n",
            "  Found existing installation: tensorboard 1.15.0\n",
            "    Uninstalling tensorboard-1.15.0:\n",
            "      Successfully uninstalled tensorboard-1.15.0\n",
            "  Found existing installation: tensorflow 1.15.0\n",
            "    Uninstalling tensorflow-1.15.0:\n",
            "      Successfully uninstalled tensorflow-1.15.0\n",
            "Successfully installed google-auth-1.7.1 tensorboard-2.0.2 tensorflow-2.0.0 tensorflow-estimator-2.0.1\n"
          ],
          "name": "stdout"
        },
        {
          "output_type": "display_data",
          "data": {
            "application/vnd.colab-display-data+json": {
              "pip_warning": {
                "packages": [
                  "google"
                ]
              }
            }
          },
          "metadata": {
            "tags": []
          }
        },
        {
          "output_type": "stream",
          "text": [
            "Collecting vaderSentiment\n",
            "\u001b[?25l  Downloading https://files.pythonhosted.org/packages/86/9e/c53e1fc61aac5ee490a6ac5e21b1ac04e55a7c2aba647bb8411c9aadf24e/vaderSentiment-3.2.1-py2.py3-none-any.whl (125kB)\n",
            "\r\u001b[K     |██▋                             | 10kB 19.5MB/s eta 0:00:01\r\u001b[K     |█████▏                          | 20kB 4.2MB/s eta 0:00:01\r\u001b[K     |███████▉                        | 30kB 5.8MB/s eta 0:00:01\r\u001b[K     |██████████▍                     | 40kB 7.2MB/s eta 0:00:01\r\u001b[K     |█████████████                   | 51kB 4.9MB/s eta 0:00:01\r\u001b[K     |███████████████▋                | 61kB 5.7MB/s eta 0:00:01\r\u001b[K     |██████████████████▎             | 71kB 6.4MB/s eta 0:00:01\r\u001b[K     |████████████████████▉           | 81kB 7.1MB/s eta 0:00:01\r\u001b[K     |███████████████████████▍        | 92kB 7.8MB/s eta 0:00:01\r\u001b[K     |██████████████████████████      | 102kB 6.4MB/s eta 0:00:01\r\u001b[K     |████████████████████████████▋   | 112kB 6.4MB/s eta 0:00:01\r\u001b[K     |███████████████████████████████▎| 122kB 6.4MB/s eta 0:00:01\r\u001b[K     |████████████████████████████████| 133kB 6.4MB/s \n",
            "\u001b[?25hInstalling collected packages: vaderSentiment\n",
            "Successfully installed vaderSentiment-3.2.1\n"
          ],
          "name": "stdout"
        }
      ]
    },
    {
      "cell_type": "code",
      "metadata": {
        "id": "eam7Xm9RYWyA",
        "colab_type": "code",
        "colab": {
          "base_uri": "https://localhost:8080/",
          "height": 138
        },
        "outputId": "0bfe9f85-b6c9-4550-ddaf-75ee472ea8f3"
      },
      "source": [
        "import pandas as pd\n",
        "import numpy as np\n",
        "import matplotlib.pyplot as plt\n",
        "from google.colab import drive\n",
        "from pathlib import Path\n",
        "from nltk.sentiment.vader import SentimentIntensityAnalyzer\n",
        "import nltk\n",
        "nltk.download('vader_lexicon')\n",
        "nltk.download('stopwords')\n",
        "from nltk.corpus import stopwords\n",
        "from nltk.stem.wordnet import WordNetLemmatizer\n",
        "import re\n",
        "import string\n",
        "\n",
        "import tensorflow as tf\n",
        "print(\"Tensorflow version: \", tf.__version__)\n",
        "from tensorflow.keras.preprocessing.text import Tokenizer\n",
        "from tensorflow.keras.preprocessing.sequence import pad_sequences\n",
        "from tensorflow.keras.models import Sequential\n",
        "from tensorflow import keras\n",
        "from tensorflow.keras.optimizers import Adam"
      ],
      "execution_count": 2,
      "outputs": [
        {
          "output_type": "stream",
          "text": [
            "/usr/local/lib/python3.6/dist-packages/nltk/twitter/__init__.py:20: UserWarning: The twython library has not been installed. Some functionality from the twitter package will not be available.\n",
            "  warnings.warn(\"The twython library has not been installed. \"\n"
          ],
          "name": "stderr"
        },
        {
          "output_type": "stream",
          "text": [
            "[nltk_data] Downloading package vader_lexicon to /root/nltk_data...\n",
            "[nltk_data] Downloading package stopwords to /root/nltk_data...\n",
            "[nltk_data]   Unzipping corpora/stopwords.zip.\n",
            "Tensorflow version:  2.0.0\n"
          ],
          "name": "stdout"
        }
      ]
    },
    {
      "cell_type": "code",
      "metadata": {
        "id": "Y_-fjwfpvlqv",
        "colab_type": "code",
        "colab": {
          "base_uri": "https://localhost:8080/",
          "height": 121
        },
        "outputId": "cedef2ca-d3c9-4bf2-e1b6-7b8a63e17197"
      },
      "source": [
        "drive.mount('/content/gdrive')"
      ],
      "execution_count": 3,
      "outputs": [
        {
          "output_type": "stream",
          "text": [
            "Go to this URL in a browser: https://accounts.google.com/o/oauth2/auth?client_id=947318989803-6bn6qk8qdgf4n4g3pfee6491hc0brc4i.apps.googleusercontent.com&redirect_uri=urn%3aietf%3awg%3aoauth%3a2.0%3aoob&response_type=code&scope=email%20https%3a%2f%2fwww.googleapis.com%2fauth%2fdocs.test%20https%3a%2f%2fwww.googleapis.com%2fauth%2fdrive%20https%3a%2f%2fwww.googleapis.com%2fauth%2fdrive.photos.readonly%20https%3a%2f%2fwww.googleapis.com%2fauth%2fpeopleapi.readonly\n",
            "\n",
            "Enter your authorization code:\n",
            "··········\n",
            "Mounted at /content/gdrive\n"
          ],
          "name": "stdout"
        }
      ]
    },
    {
      "cell_type": "code",
      "metadata": {
        "id": "TimmXPO6vmKW",
        "colab_type": "code",
        "colab": {}
      },
      "source": [
        "# The path to the base directory\n",
        "base_dir = Path(\"/content/gdrive/My Drive/Twitter dataset\")\n",
        "file_path = base_dir / 'training.1600000.processed.noemoticon.csv'"
      ],
      "execution_count": 0,
      "outputs": []
    },
    {
      "cell_type": "code",
      "metadata": {
        "id": "910cZp3FvmXU",
        "colab_type": "code",
        "colab": {}
      },
      "source": [
        "columns = [\"target\", \"ids\", \"date\", \"flag\", \"user\", \"text\"]\n",
        "df = pd.read_csv(file_path, encoding=\"ISO-8859-1\", names=columns)"
      ],
      "execution_count": 0,
      "outputs": []
    },
    {
      "cell_type": "markdown",
      "metadata": {
        "id": "yaSy_RwmLWdM",
        "colab_type": "text"
      },
      "source": [
        "## Data exploration"
      ]
    },
    {
      "cell_type": "code",
      "metadata": {
        "id": "AGPIAdC5vmaV",
        "colab_type": "code",
        "colab": {
          "base_uri": "https://localhost:8080/",
          "height": 202
        },
        "outputId": "08df811e-293e-49bb-851d-48531e5f9286"
      },
      "source": [
        "df.info()"
      ],
      "execution_count": 6,
      "outputs": [
        {
          "output_type": "stream",
          "text": [
            "<class 'pandas.core.frame.DataFrame'>\n",
            "RangeIndex: 1600000 entries, 0 to 1599999\n",
            "Data columns (total 6 columns):\n",
            "target    1600000 non-null int64\n",
            "ids       1600000 non-null int64\n",
            "date      1600000 non-null object\n",
            "flag      1600000 non-null object\n",
            "user      1600000 non-null object\n",
            "text      1600000 non-null object\n",
            "dtypes: int64(2), object(4)\n",
            "memory usage: 73.2+ MB\n"
          ],
          "name": "stdout"
        }
      ]
    },
    {
      "cell_type": "code",
      "metadata": {
        "id": "kdTY3DY1vmVd",
        "colab_type": "code",
        "colab": {
          "base_uri": "https://localhost:8080/",
          "height": 343
        },
        "outputId": "73eefccb-1dab-426d-9d3e-6ba1d68152a4"
      },
      "source": [
        "df.sample(10)"
      ],
      "execution_count": 7,
      "outputs": [
        {
          "output_type": "execute_result",
          "data": {
            "text/html": [
              "<div>\n",
              "<style scoped>\n",
              "    .dataframe tbody tr th:only-of-type {\n",
              "        vertical-align: middle;\n",
              "    }\n",
              "\n",
              "    .dataframe tbody tr th {\n",
              "        vertical-align: top;\n",
              "    }\n",
              "\n",
              "    .dataframe thead th {\n",
              "        text-align: right;\n",
              "    }\n",
              "</style>\n",
              "<table border=\"1\" class=\"dataframe\">\n",
              "  <thead>\n",
              "    <tr style=\"text-align: right;\">\n",
              "      <th></th>\n",
              "      <th>target</th>\n",
              "      <th>ids</th>\n",
              "      <th>date</th>\n",
              "      <th>flag</th>\n",
              "      <th>user</th>\n",
              "      <th>text</th>\n",
              "    </tr>\n",
              "  </thead>\n",
              "  <tbody>\n",
              "    <tr>\n",
              "      <th>353718</th>\n",
              "      <td>0</td>\n",
              "      <td>2033033052</td>\n",
              "      <td>Thu Jun 04 12:07:18 PDT 2009</td>\n",
              "      <td>NO_QUERY</td>\n",
              "      <td>Jeranamoe</td>\n",
              "      <td>my dads mad @ me</td>\n",
              "    </tr>\n",
              "    <tr>\n",
              "      <th>957835</th>\n",
              "      <td>4</td>\n",
              "      <td>1825559158</td>\n",
              "      <td>Sun May 17 06:07:10 PDT 2009</td>\n",
              "      <td>NO_QUERY</td>\n",
              "      <td>BAZZAKK</td>\n",
              "      <td>@adamjupp Hey there juppy, karen here, long ti...</td>\n",
              "    </tr>\n",
              "    <tr>\n",
              "      <th>1063641</th>\n",
              "      <td>4</td>\n",
              "      <td>1964505071</td>\n",
              "      <td>Fri May 29 14:20:32 PDT 2009</td>\n",
              "      <td>NO_QUERY</td>\n",
              "      <td>JessyxLin</td>\n",
              "      <td>@therealtiffany omgsh that was in my evan almi...</td>\n",
              "    </tr>\n",
              "    <tr>\n",
              "      <th>1443864</th>\n",
              "      <td>4</td>\n",
              "      <td>2062186536</td>\n",
              "      <td>Sat Jun 06 22:33:05 PDT 2009</td>\n",
              "      <td>NO_QUERY</td>\n",
              "      <td>shawny790</td>\n",
              "      <td>@JustGis u have a good night too</td>\n",
              "    </tr>\n",
              "    <tr>\n",
              "      <th>291322</th>\n",
              "      <td>0</td>\n",
              "      <td>1995671766</td>\n",
              "      <td>Mon Jun 01 13:51:52 PDT 2009</td>\n",
              "      <td>NO_QUERY</td>\n",
              "      <td>TUTTEAMY</td>\n",
              "      <td>Ahhhhh my ear</td>\n",
              "    </tr>\n",
              "    <tr>\n",
              "      <th>590490</th>\n",
              "      <td>0</td>\n",
              "      <td>2217341708</td>\n",
              "      <td>Wed Jun 17 20:43:52 PDT 2009</td>\n",
              "      <td>NO_QUERY</td>\n",
              "      <td>quayisabeauty</td>\n",
              "      <td>Wit my boo chillin...gotta bring home a half g...</td>\n",
              "    </tr>\n",
              "    <tr>\n",
              "      <th>134696</th>\n",
              "      <td>0</td>\n",
              "      <td>1836315793</td>\n",
              "      <td>Mon May 18 07:46:40 PDT 2009</td>\n",
              "      <td>NO_QUERY</td>\n",
              "      <td>Rayleigh2012</td>\n",
              "      <td>Tired i got up too early</td>\n",
              "    </tr>\n",
              "    <tr>\n",
              "      <th>966255</th>\n",
              "      <td>4</td>\n",
              "      <td>1827676221</td>\n",
              "      <td>Sun May 17 11:12:47 PDT 2009</td>\n",
              "      <td>NO_QUERY</td>\n",
              "      <td>AsMeYo</td>\n",
              "      <td>@BluMorningGlory we have rabbits in our yard t...</td>\n",
              "    </tr>\n",
              "    <tr>\n",
              "      <th>603839</th>\n",
              "      <td>0</td>\n",
              "      <td>2221770770</td>\n",
              "      <td>Thu Jun 18 05:58:41 PDT 2009</td>\n",
              "      <td>NO_QUERY</td>\n",
              "      <td>janaebreanna</td>\n",
              "      <td>@StephenDoll hey mister. long time no see. i m...</td>\n",
              "    </tr>\n",
              "    <tr>\n",
              "      <th>382801</th>\n",
              "      <td>0</td>\n",
              "      <td>2053070386</td>\n",
              "      <td>Sat Jun 06 03:09:14 PDT 2009</td>\n",
              "      <td>NO_QUERY</td>\n",
              "      <td>Puck_</td>\n",
              "      <td>Gah, now it seems that gpg doesn't work correc...</td>\n",
              "    </tr>\n",
              "  </tbody>\n",
              "</table>\n",
              "</div>"
            ],
            "text/plain": [
              "         target  ...                                               text\n",
              "353718        0  ...                                  my dads mad @ me \n",
              "957835        4  ...  @adamjupp Hey there juppy, karen here, long ti...\n",
              "1063641       4  ...  @therealtiffany omgsh that was in my evan almi...\n",
              "1443864       4  ...                  @JustGis u have a good night too \n",
              "291322        0  ...                                     Ahhhhh my ear \n",
              "590490        0  ...  Wit my boo chillin...gotta bring home a half g...\n",
              "134696        0  ...                          Tired i got up too early \n",
              "966255        4  ...  @BluMorningGlory we have rabbits in our yard t...\n",
              "603839        0  ...  @StephenDoll hey mister. long time no see. i m...\n",
              "382801        0  ...  Gah, now it seems that gpg doesn't work correc...\n",
              "\n",
              "[10 rows x 6 columns]"
            ]
          },
          "metadata": {
            "tags": []
          },
          "execution_count": 7
        }
      ]
    },
    {
      "cell_type": "code",
      "metadata": {
        "id": "vsOy_VDNvmSL",
        "colab_type": "code",
        "colab": {
          "base_uri": "https://localhost:8080/",
          "height": 67
        },
        "outputId": "716235ea-4026-4043-f433-88237df5a215"
      },
      "source": [
        "df['target'].value_counts()"
      ],
      "execution_count": 8,
      "outputs": [
        {
          "output_type": "execute_result",
          "data": {
            "text/plain": [
              "4    800000\n",
              "0    800000\n",
              "Name: target, dtype: int64"
            ]
          },
          "metadata": {
            "tags": []
          },
          "execution_count": 8
        }
      ]
    },
    {
      "cell_type": "markdown",
      "metadata": {
        "id": "iw6Gw5PVLjjX",
        "colab_type": "text"
      },
      "source": [
        "There are equal number of positive and negative labels."
      ]
    },
    {
      "cell_type": "code",
      "metadata": {
        "id": "J4WGytC8vmP3",
        "colab_type": "code",
        "colab": {
          "base_uri": "https://localhost:8080/",
          "height": 50
        },
        "outputId": "f8c7ef28-1fda-418e-a1a0-3e85831282e2"
      },
      "source": [
        "df['flag'].value_counts()"
      ],
      "execution_count": 9,
      "outputs": [
        {
          "output_type": "execute_result",
          "data": {
            "text/plain": [
              "NO_QUERY    1600000\n",
              "Name: flag, dtype: int64"
            ]
          },
          "metadata": {
            "tags": []
          },
          "execution_count": 9
        }
      ]
    },
    {
      "cell_type": "markdown",
      "metadata": {
        "id": "emmWBhIwL0Mm",
        "colab_type": "text"
      },
      "source": [
        "It appears that the 'flag' column brings no information."
      ]
    },
    {
      "cell_type": "code",
      "metadata": {
        "id": "d-ogX0zGvmOH",
        "colab_type": "code",
        "colab": {
          "base_uri": "https://localhost:8080/",
          "height": 269
        },
        "outputId": "b25ec2bb-33f4-422f-b654-a32f83c82029"
      },
      "source": [
        "subset = df.sample(5)[['target', 'text']]\n",
        "for i in range(5):\n",
        "  print(\"Tweet:\", subset.iloc[i]['text'], \"...\")\n",
        "  print(\"Label:\",  \" Positive\" if subset.iloc[i]['target'] == 4 else \" Negative\")\n",
        "  print()"
      ],
      "execution_count": 10,
      "outputs": [
        {
          "output_type": "stream",
          "text": [
            "Tweet: On my way to the beach...to think that this time last week I was at Pure  oh well I guess south beach isn't so bad haha ...\n",
            "Label:  Negative\n",
            "\n",
            "Tweet: @crittyjoy I will.   I hope to have a chance to read it this week! ...\n",
            "Label:  Positive\n",
            "\n",
            "Tweet: Up getting ready for work blah my tuesdays suck  hope ur tuesdays are better ...\n",
            "Label:  Negative\n",
            "\n",
            "Tweet: off to the pool with mom and ally. n.weis is there, so this should be fun!  ...\n",
            "Label:  Positive\n",
            "\n",
            "Tweet: @caro_k I'm sorry, I didn't check my cell phone after the prayer and found out now about the message. So what's your question?  ...\n",
            "Label:  Positive\n",
            "\n"
          ],
          "name": "stdout"
        }
      ]
    },
    {
      "cell_type": "markdown",
      "metadata": {
        "id": "JgunaADJMGQp",
        "colab_type": "text"
      },
      "source": [
        "While the positive examples are , well, positive, the negative examples seem less convincingly negative. I will compare them later to the VADER sentiment assessment.\n",
        "\n",
        "Just for fun, lets see if people tweet more positively on the weekends and negatively throughout the week. If I can, same can be tried with the months (hypothesis is that the people are slightly happier when is warmer and sunny).\n"
      ]
    },
    {
      "cell_type": "code",
      "metadata": {
        "id": "I9bW7cmyvmIc",
        "colab_type": "code",
        "colab": {}
      },
      "source": [
        "df['weekday'] = df['date'].str.split(\" \", expand=True)[0]\n",
        "df['month'] = df['date'].str.split(\" \", expand=True)[1]"
      ],
      "execution_count": 0,
      "outputs": []
    },
    {
      "cell_type": "code",
      "metadata": {
        "id": "obHOGobk5pCe",
        "colab_type": "code",
        "colab": {
          "base_uri": "https://localhost:8080/",
          "height": 50
        },
        "outputId": "3e4f14f4-9e03-4b34-f1ae-0a131651d5e4"
      },
      "source": [
        "print(df['weekday'].unique())\n",
        "print(df['month'].unique())"
      ],
      "execution_count": 12,
      "outputs": [
        {
          "output_type": "stream",
          "text": [
            "['Mon' 'Tue' 'Fri' 'Sat' 'Sun' 'Wed' 'Thu']\n",
            "['Apr' 'May' 'Jun']\n"
          ],
          "name": "stdout"
        }
      ]
    },
    {
      "cell_type": "markdown",
      "metadata": {
        "id": "BtKboyPXNgg5",
        "colab_type": "text"
      },
      "source": [
        "OK, I will be able to test the weekdays hypothesis but not \"happy months\" one."
      ]
    },
    {
      "cell_type": "code",
      "metadata": {
        "id": "U8ySwdrL5pJr",
        "colab_type": "code",
        "colab": {
          "base_uri": "https://localhost:8080/",
          "height": 168
        },
        "outputId": "8b8a14e5-fc21-4795-946e-8a209914b432"
      },
      "source": [
        "df.groupby('weekday').mean()['target'].sort_values()"
      ],
      "execution_count": 13,
      "outputs": [
        {
          "output_type": "execute_result",
          "data": {
            "text/plain": [
              "weekday\n",
              "Thu    0.977149\n",
              "Wed    1.170713\n",
              "Tue    1.825106\n",
              "Fri    1.968031\n",
              "Sat    2.093590\n",
              "Mon    2.290950\n",
              "Sun    2.311201\n",
              "Name: target, dtype: float64"
            ]
          },
          "metadata": {
            "tags": []
          },
          "execution_count": 13
        }
      ]
    },
    {
      "cell_type": "markdown",
      "metadata": {
        "id": "RklQ4ovJOGpb",
        "colab_type": "text"
      },
      "source": [
        "The average sentiment is 2 (labels for positive is 0 and for negative is 4). People seem to be significantly grumpier on Thursdays and Wednesday and happiest on Sundays. That seems about right. I did not expect the Monday to pop-up in second place.\n",
        "\n",
        "One possible explanation of the results is that people charge Friday night through Sunday, still draw from that on Mondays and get exhausted throughout the week.\n",
        "\n",
        "OK, lets add VADER to the dataset. VADER is a rule-based model created by Eric Gilbert and CJ Hutto from Georgia Institute of Technology, created specially for Social Media Sentiment Analysis. More on VADER here: https://medium.com/analytics-vidhya/simplifying-social-media-sentiment-analysis-using-vader-in-python-f9e6ec6fc52f"
      ]
    },
    {
      "cell_type": "code",
      "metadata": {
        "id": "Yt-598NWFjm7",
        "colab_type": "code",
        "colab": {}
      },
      "source": [
        "sid = SentimentIntensityAnalyzer()\n",
        "df['naive_sentiment'] = df['text'].apply(lambda x: sid.polarity_scores(x))"
      ],
      "execution_count": 0,
      "outputs": []
    },
    {
      "cell_type": "markdown",
      "metadata": {
        "id": "oIz7v-UKQqf4",
        "colab_type": "text"
      },
      "source": [
        "VADER's analyzer outputs 4 scores - negative, neutral and positive score, as well as a compound one.\n",
        "Example: {'neg': 0.0, 'neu': 0.326, 'pos': 0.674, 'compound': 0.7351}\n",
        "\n",
        "The Positive, Negative and Neutral scores represent the proportion of text that falls in these categories. This means our sentence was rated as 67% Positive, 33% Neutral and 0% Negative. Hence all these add up to 1.\n",
        "\n",
        "The Compound score is a metric that calculates the sum of all the lexicon ratings which have been normalized between -1(most extreme negative) and +1 (most extreme positive). In the case above, lexicon ratings for andsupercool are 2.9and respectively1.3. The compound score turns out to be 0.75 , denoting a very high positive sentiment."
      ]
    },
    {
      "cell_type": "code",
      "metadata": {
        "id": "fT-Ts0ggF2u8",
        "colab_type": "code",
        "colab": {}
      },
      "source": [
        "df['vader_compound'] = df['naive_sentiment'].apply(lambda x: x['compound'])"
      ],
      "execution_count": 0,
      "outputs": []
    },
    {
      "cell_type": "code",
      "metadata": {
        "id": "8AHFlrBbF_Cv",
        "colab_type": "code",
        "colab": {
          "base_uri": "https://localhost:8080/",
          "height": 84
        },
        "outputId": "aceabe17-ebe3-4be2-b9d1-9df250569b7d"
      },
      "source": [
        "df.groupby('target').mean()['vader_compound']"
      ],
      "execution_count": 16,
      "outputs": [
        {
          "output_type": "execute_result",
          "data": {
            "text/plain": [
              "target\n",
              "0   -0.044132\n",
              "4    0.326535\n",
              "Name: vader_compound, dtype: float64"
            ]
          },
          "metadata": {
            "tags": []
          },
          "execution_count": 16
        }
      ]
    },
    {
      "cell_type": "code",
      "metadata": {
        "id": "eoiuYIKCKBeZ",
        "colab_type": "code",
        "colab": {
          "base_uri": "https://localhost:8080/",
          "height": 84
        },
        "outputId": "85321632-a578-439d-ecdf-a7c1047c663d"
      },
      "source": [
        "df.groupby('target').std()['vader_compound']"
      ],
      "execution_count": 17,
      "outputs": [
        {
          "output_type": "execute_result",
          "data": {
            "text/plain": [
              "target\n",
              "0    0.436708\n",
              "4    0.397785\n",
              "Name: vader_compound, dtype: float64"
            ]
          },
          "metadata": {
            "tags": []
          },
          "execution_count": 17
        }
      ]
    },
    {
      "cell_type": "markdown",
      "metadata": {
        "id": "V8QqSlbkTJ1d",
        "colab_type": "text"
      },
      "source": [
        "**As observed, the positive tweets are assessed as really positive by VADER as well, but the ones labeled as negative seem incosistently labeled.** The negative examples have a mean VADER compound score of just -0.04 which as per VADER's autors is rated as neutral with 0.437 standard deviation. \n",
        "\n",
        "This is important to have in mind as the models can be only as good as the data we are training them on.\n",
        "\n",
        "Lets plot the data to gain more intuition. "
      ]
    },
    {
      "cell_type": "code",
      "metadata": {
        "id": "ekG83M27KcT9",
        "colab_type": "code",
        "colab": {
          "base_uri": "https://localhost:8080/",
          "height": 281
        },
        "outputId": "523655bc-4890-4511-e034-0f2800ace285"
      },
      "source": [
        "df.groupby('target')['vader_compound'].hist(bins=30, alpha=0.5)\n",
        "plt.title('Vader compound sentiment')\n",
        "plt.legend(('Flagged as Negative','Flagged as Positive'))\n",
        "plt.show()"
      ],
      "execution_count": 18,
      "outputs": [
        {
          "output_type": "display_data",
          "data": {
            "image/png": "[encoded data removed]",
            "text/plain": [
              "<Figure size 432x288 with 1 Axes>"
            ]
          },
          "metadata": {
            "tags": []
          }
        }
      ]
    },
    {
      "cell_type": "code",
      "metadata": {
        "id": "qZUjplSBN3cM",
        "colab_type": "code",
        "colab": {}
      },
      "source": [
        "df['alternative_target'] = pd.cut(df['vader_compound'], bins=[-1.00, -0.25, 0.25, 1], labels=['negative', 'neutral', 'positive'])"
      ],
      "execution_count": 0,
      "outputs": []
    },
    {
      "cell_type": "code",
      "metadata": {
        "id": "rkmSl5U0Pl7N",
        "colab_type": "code",
        "colab": {
          "base_uri": "https://localhost:8080/",
          "height": 87
        },
        "outputId": "fd7803f9-8b22-4139-b093-8a5cde42d7d9"
      },
      "source": [
        "len(df[(df['target']=='negative') & (df['alternative_target']=='positive')])"
      ],
      "execution_count": 20,
      "outputs": [
        {
          "output_type": "stream",
          "text": [
            "/usr/local/lib/python3.6/dist-packages/pandas/core/ops/__init__.py:1115: FutureWarning: elementwise comparison failed; returning scalar instead, but in the future will perform elementwise comparison\n",
            "  result = method(y)\n"
          ],
          "name": "stderr"
        },
        {
          "output_type": "execute_result",
          "data": {
            "text/plain": [
              "0"
            ]
          },
          "metadata": {
            "tags": []
          },
          "execution_count": 20
        }
      ]
    },
    {
      "cell_type": "code",
      "metadata": {
        "id": "_Eif9jVSQD1J",
        "colab_type": "code",
        "colab": {
          "base_uri": "https://localhost:8080/",
          "height": 87
        },
        "outputId": "e9071f6c-2d7c-49de-9a97-921991b09a7c"
      },
      "source": [
        "len(df[(df['target']=='positive') & (df['alternative_target']=='negative')])"
      ],
      "execution_count": 21,
      "outputs": [
        {
          "output_type": "stream",
          "text": [
            "/usr/local/lib/python3.6/dist-packages/pandas/core/ops/__init__.py:1115: FutureWarning: elementwise comparison failed; returning scalar instead, but in the future will perform elementwise comparison\n",
            "  result = method(y)\n"
          ],
          "name": "stderr"
        },
        {
          "output_type": "execute_result",
          "data": {
            "text/plain": [
              "0"
            ]
          },
          "metadata": {
            "tags": []
          },
          "execution_count": 21
        }
      ]
    },
    {
      "cell_type": "markdown",
      "metadata": {
        "id": "g4VPI5TuUYIg",
        "colab_type": "text"
      },
      "source": [
        "There are more than 200 000 tweets labeled as negative, which are assessed by VADER as positive (not even neutral, positive). That's 25% of all samples labeled as negative. The oposite is true for ca. 6% of the samples labeled as positive."
      ]
    },
    {
      "cell_type": "markdown",
      "metadata": {
        "id": "3dA5MCGqU8Qv",
        "colab_type": "text"
      },
      "source": [
        "## Preprocessing"
      ]
    },
    {
      "cell_type": "code",
      "metadata": {
        "id": "tVrUrEe4O0tQ",
        "colab_type": "code",
        "colab": {}
      },
      "source": [
        "df['target'] = df['target'].replace({4: 1})"
      ],
      "execution_count": 0,
      "outputs": []
    },
    {
      "cell_type": "code",
      "metadata": {
        "id": "LAV_e778Rsxv",
        "colab_type": "code",
        "colab": {}
      },
      "source": [
        "df_after_preprocessing = df.copy()"
      ],
      "execution_count": 0,
      "outputs": []
    },
    {
      "cell_type": "code",
      "metadata": {
        "id": "0FQOZZYPYbnp",
        "colab_type": "code",
        "colab": {}
      },
      "source": [
        "def remove_pattern(input_txt, pattern):\n",
        "    r = re.findall(pattern, input_txt)\n",
        "    for i in r:\n",
        "        input_txt = re.sub(i, '', input_txt)\n",
        "        \n",
        "    return input_txt"
      ],
      "execution_count": 0,
      "outputs": []
    },
    {
      "cell_type": "code",
      "metadata": {
        "id": "UWPSxiI6YmyK",
        "colab_type": "code",
        "colab": {}
      },
      "source": [
        "df_after_preprocessing['text'] = np.vectorize(remove_pattern)(df_after_preprocessing['text'], \"@[\\w]*\") "
      ],
      "execution_count": 0,
      "outputs": []
    },
    {
      "cell_type": "code",
      "metadata": {
        "id": "XHKMw4XpY9Ks",
        "colab_type": "code",
        "colab": {}
      },
      "source": [
        "df_after_preprocessing['text'] = df_after_preprocessing['text'].str.replace(\"\\d+\", \" \")\n",
        "df_after_preprocessing['text'] = df_after_preprocessing['text'].str.lower()\n",
        "df_after_preprocessing['text'] = df_after_preprocessing['text'].apply(lambda x: ' '.join([w for w in x.split() if len(w)>3]))"
      ],
      "execution_count": 0,
      "outputs": []
    },
    {
      "cell_type": "code",
      "metadata": {
        "id": "JKuaINoGRzuG",
        "colab_type": "code",
        "colab": {}
      },
      "source": [
        "remove = string.punctuation\n",
        "remove = remove.replace(\"!\", \"\") # don't remove !\n",
        "pattern = r\"[{}]\".format(remove) # create the pattern\n",
        "df_after_preprocessing['text'] = df_after_preprocessing['text'].str.replace(pattern, \"\")"
      ],
      "execution_count": 0,
      "outputs": []
    },
    {
      "cell_type": "code",
      "metadata": {
        "id": "0ib-C4dKcyuj",
        "colab_type": "code",
        "colab": {}
      },
      "source": [
        "tokenized_text = df_after_preprocessing['text'].apply(lambda x: x.split())"
      ],
      "execution_count": 0,
      "outputs": []
    },
    {
      "cell_type": "code",
      "metadata": {
        "id": "aZnGt47J6bks",
        "colab_type": "code",
        "colab": {}
      },
      "source": [
        "#df_after_preprocessing['target'] = df_after_preprocessing['target'].replace({'negative':0, 'positive':1})"
      ],
      "execution_count": 0,
      "outputs": []
    },
    {
      "cell_type": "code",
      "metadata": {
        "id": "1KZK0d1ifG3H",
        "colab_type": "code",
        "colab": {
          "base_uri": "https://localhost:8080/",
          "height": 50
        },
        "outputId": "8e36abe1-3baa-4b07-b081-5979ebff1055"
      },
      "source": [
        "texts = list(df_after_preprocessing['text'])\n",
        "labels = list(df_after_preprocessing['target'])\n",
        "print(\"Number of tweets: \", len(texts))\n",
        "print(\"Number of targets: \", len(labels))"
      ],
      "execution_count": 32,
      "outputs": [
        {
          "output_type": "stream",
          "text": [
            "Number of tweets:  1600000\n",
            "Number of targets:  1600000\n"
          ],
          "name": "stdout"
        }
      ]
    },
    {
      "cell_type": "code",
      "metadata": {
        "id": "WhKpSlgmuEQB",
        "colab_type": "code",
        "colab": {}
      },
      "source": [
        "maxlen = max(df_after_preprocessing['text'].str.len())\n",
        "training_samples = int(0.8*len(texts))\n",
        "validation_samples = int(0.1*len(texts))\n",
        "test_samples = int(0.1*len(texts))\n",
        "max_words = 10000 "
      ],
      "execution_count": 0,
      "outputs": []
    },
    {
      "cell_type": "code",
      "metadata": {
        "id": "WmYfJR54vS54",
        "colab_type": "code",
        "colab": {
          "base_uri": "https://localhost:8080/",
          "height": 34
        },
        "outputId": "8caec2bb-6ded-446c-94af-39b282e9283d"
      },
      "source": [
        "tokenizer = Tokenizer(num_words=max_words)\n",
        "tokenizer.fit_on_texts(texts)\n",
        "sequences = tokenizer.texts_to_sequences(texts)\n",
        "word_index = tokenizer.word_index\n",
        "print('Found %s unique tokens.' % len(word_index))"
      ],
      "execution_count": 34,
      "outputs": [
        {
          "output_type": "stream",
          "text": [
            "Found 457388 unique tokens.\n"
          ],
          "name": "stdout"
        }
      ]
    },
    {
      "cell_type": "code",
      "metadata": {
        "id": "IKLxm70Vv9wW",
        "colab_type": "code",
        "colab": {
          "base_uri": "https://localhost:8080/",
          "height": 50
        },
        "outputId": "35afc972-d543-4136-ca6f-f7a1df6454a3"
      },
      "source": [
        "data = pad_sequences(sequences, maxlen=maxlen)\n",
        "labels = np.asarray(labels)\n",
        "print(\"Shape of data tensor: \", len(data))\n",
        "print(\"Shape of label tensor: \", len(labels))"
      ],
      "execution_count": 35,
      "outputs": [
        {
          "output_type": "stream",
          "text": [
            "Shape of data tensor:  1600000\n",
            "Shape of label tensor:  1600000\n"
          ],
          "name": "stdout"
        }
      ]
    },
    {
      "cell_type": "code",
      "metadata": {
        "id": "Dhx8SWhLwhEW",
        "colab_type": "code",
        "colab": {
          "base_uri": "https://localhost:8080/",
          "height": 67
        },
        "outputId": "e52441de-7027-4096-fd1f-60e8bd18ee8d"
      },
      "source": [
        "indices = np.arange(data.shape[0])\n",
        "np.random.shuffle(indices)\n",
        "data = data[indices]\n",
        "labels = labels[indices]\n",
        "\n",
        "x_train = data[:training_samples]\n",
        "y_train = labels[:training_samples]\n",
        "x_val = data[training_samples:training_samples+validation_samples]\n",
        "y_val = labels[training_samples:training_samples+validation_samples]\n",
        "x_test = data[training_samples+validation_samples:]\n",
        "y_test = labels[training_samples+validation_samples:]\n",
        "\n",
        "print(\"Shape train data \", x_train.shape, y_train.shape)\n",
        "print(\"Shape validation data \", x_val.shape, y_val.shape)\n",
        "print(\"Shape test data \", x_test.shape, y_test.shape)"
      ],
      "execution_count": 36,
      "outputs": [
        {
          "output_type": "stream",
          "text": [
            "Shape train data  (1280000, 349) (1280000,)\n",
            "Shape validation data  (160000, 349) (160000,)\n",
            "Shape test data  (160000, 349) (160000,)\n"
          ],
          "name": "stdout"
        }
      ]
    },
    {
      "cell_type": "markdown",
      "metadata": {
        "id": "_XGzO5HJ0WbP",
        "colab_type": "text"
      },
      "source": [
        "## 1. Baseline\n"
      ]
    },
    {
      "cell_type": "code",
      "metadata": {
        "id": "IrwnoZu_yyGA",
        "colab_type": "code",
        "colab": {
          "base_uri": "https://localhost:8080/",
          "height": 252
        },
        "outputId": "903763e3-5cea-431c-8132-c071924831d9"
      },
      "source": [
        "embedding_dim = 100\n",
        "\n",
        "from tensorflow.keras.layers import Embedding, Flatten, Dense\n",
        "\n",
        "model_RNN = keras.models.Sequential()\n",
        "model_RNN.add(Embedding(max_words,embedding_dim , input_length=maxlen))\n",
        "model_RNN.add(Flatten())\n",
        "model_RNN.add(Dense(1, activation='sigmoid'))\n",
        "model_RNN.compile(optimizer='adam', loss='binary_crossentropy', metrics=['acc'])\n",
        "model_RNN.summary()"
      ],
      "execution_count": 37,
      "outputs": [
        {
          "output_type": "stream",
          "text": [
            "Model: \"sequential\"\n",
            "_________________________________________________________________\n",
            "Layer (type)                 Output Shape              Param #   \n",
            "=================================================================\n",
            "embedding (Embedding)        (None, 349, 100)          1000000   \n",
            "_________________________________________________________________\n",
            "flatten (Flatten)            (None, 34900)             0         \n",
            "_________________________________________________________________\n",
            "dense (Dense)                (None, 1)                 34901     \n",
            "=================================================================\n",
            "Total params: 1,034,901\n",
            "Trainable params: 1,034,901\n",
            "Non-trainable params: 0\n",
            "_________________________________________________________________\n"
          ],
          "name": "stdout"
        }
      ]
    },
    {
      "cell_type": "code",
      "metadata": {
        "id": "LAJD1MQ1yyiH",
        "colab_type": "code",
        "colab": {
          "base_uri": "https://localhost:8080/",
          "height": 322
        },
        "outputId": "3cc0ec3c-c9a9-43e8-cd90-4f0a719b6001"
      },
      "source": [
        "history_rnn = model_RNN.fit(x_train, y_train,\n",
        "                    epochs=5,\n",
        "                    batch_size=32,\n",
        "                    validation_data=(x_val, y_val))"
      ],
      "execution_count": 38,
      "outputs": [
        {
          "output_type": "stream",
          "text": [
            "Train on 1280000 samples, validate on 160000 samples\n",
            "Epoch 1/5\n",
            " 838720/1280000 [==================>...........] - ETA: 3:09 - loss: 0.4963 - acc: 0.7626Train on 1280000 samples, validate on 160000 samples\n",
            "Epoch 1/5\n",
            "1280000/1280000 [==============================] - 607s 474us/sample - loss: 0.4927 - acc: 0.7654 - val_loss: 0.4831 - val_acc: 0.7736\n",
            "1280000/1280000 [==============================] - 607s 474us/sample - loss: 0.4927 - acc: 0.7654 - val_loss: 0.4831 - val_acc: 0.7736\n",
            "Epoch 2/5\n",
            "     32/1280000 [..............................] - ETA: 11:01 - loss: 0.3278 - acc: 0.9375Epoch 2/5\n",
            "1280000/1280000 [==============================] - 1573s 1ms/sample - loss: 0.4761 - acc: 0.7771 - val_loss: 0.4835 - val_acc: 0.7736\n",
            "1280000/1280000 [==============================] - 1573s 1ms/sample - loss: 0.4761 - acc: 0.7771 - val_loss: 0.4835 - val_acc: 0.7736\n",
            "Epoch 3/5\n",
            "     32/1280000 [..............................] - ETA: 25:19 - loss: 0.4316 - acc: 0.7500Epoch 3/5\n",
            "1280000/1280000 [==============================] - 1200s 938us/sample - loss: 0.4663 - acc: 0.7831 - val_loss: 0.4911 - val_acc: 0.7706\n",
            "1280000/1280000 [==============================] - 1200s 938us/sample - loss: 0.4663 - acc: 0.7831 - val_loss: 0.4911 - val_acc: 0.7706\n",
            "Epoch 4/5\n",
            "     32/1280000 [..............................] - ETA: 34:44 - loss: 0.4087 - acc: 0.8438Epoch 4/5\n",
            " 432480/1280000 [=========>....................] - ETA: 17:25 - loss: 0.4514 - acc: 0.7916Buffered data was truncated after reaching the output size limit.Buffered data was truncated after reaching the output size limit."
          ],
          "name": "stdout"
        }
      ]
    },
    {
      "cell_type": "code",
      "metadata": {
        "id": "FFXJy4igyyp7",
        "colab_type": "code",
        "colab": {}
      },
      "source": [
        "def plot_history(history, loss=\"loss\"):\n",
        "  acc = history.history['acc']\n",
        "  val_acc = history.history['val_acc']\n",
        "  loss = history.history['loss']\n",
        "  val_loss = history.history['val_loss']\n",
        "\n",
        "  epochs = range(len(acc))\n",
        "\n",
        "  plt.plot(epochs, acc, 'bo', label='Training acc')\n",
        "  plt.plot(epochs, val_acc, 'b', label='Validation acc')\n",
        "  plt.title('Training and validation accuracy')\n",
        "  plt.legend()\n",
        "\n",
        "  plt.figure()\n",
        " \n",
        "  plt.plot(epochs, loss, 'bo', label='Training loss')\n",
        "  plt.plot(epochs, val_loss, 'b', label='Validation loss')\n",
        "  plt.title('Training and validation loss')\n",
        "  plt.legend()\n",
        "\n",
        "  plt.show()"
      ],
      "execution_count": 0,
      "outputs": []
    },
    {
      "cell_type": "code",
      "metadata": {
        "id": "82MHsW2lyy3N",
        "colab_type": "code",
        "colab": {
          "base_uri": "https://localhost:8080/",
          "height": 1000
        },
        "outputId": "bfbb0a46-bb98-48c9-f661-4382065b6487"
      },
      "source": [
        "plot_history(history_rnn)"
      ],
      "execution_count": 40,
      "outputs": [
        {
          "output_type": "display_data",
          "data": {
            "image/png": "[encoded data removed]",
            "text/plain": [
              "<Figure size 432x288 with 1 Axes>"
            ]
          },
          "metadata": {
            "tags": []
          }
        },
        {
          "output_type": "display_data",
          "data": {
            "image/png": "[encoded data removed]",
            "text/plain": [
              "<Figure size 432x288 with 1 Axes>"
            ]
          },
          "metadata": {
            "tags": []
          }
        },
        {
          "output_type": "display_data",
          "data": {
            "image/png": "[encoded data removed]",
            "text/plain": [
              "<Figure size 432x288 with 1 Axes>"
            ]
          },
          "metadata": {
            "tags": []
          }
        },
        {
          "output_type": "display_data",
          "data": {
            "image/png": "[encoded data removed]",
            "text/plain": [
              "<Figure size 432x288 with 1 Axes>"
            ]
          },
          "metadata": {
            "tags": []
          }
        }
      ]
    },
    {
      "cell_type": "markdown",
      "metadata": {
        "id": "2F_7RGYaHdok",
        "colab_type": "text"
      },
      "source": [
        "## 2. LSTM model"
      ]
    },
    {
      "cell_type": "code",
      "metadata": {
        "id": "jws3w1JQHcw5",
        "colab_type": "code",
        "colab": {
          "base_uri": "https://localhost:8080/",
          "height": 487
        },
        "outputId": "efa29568-9085-4689-b286-222ff31e5b1b"
      },
      "source": [
        "from tensorflow.keras.layers import LSTM\n",
        "\n",
        "model_LSTM = keras.models.Sequential()\n",
        "model_LSTM.add(Embedding(max_words,embedding_dim , input_length=maxlen))\n",
        "model_LSTM.add(LSTM(100, dropout=0.2, recurrent_dropout=0.2))\n",
        "model_LSTM.add(Dense(1, activation='sigmoid'))\n",
        "\n",
        "model_LSTM.compile(optimizer='adam', loss='binary_crossentropy', metrics=['acc'])\n",
        "\n",
        "model_LSTM.summary()"
      ],
      "execution_count": 41,
      "outputs": [
        {
          "output_type": "stream",
          "text": [
            "Model: \"sequential_1\"\n",
            "_________________________________________________________________\n",
            "Layer (type)                 Output Shape              Param #   \n",
            "=================================================================\n",
            "embedding_1 (Embedding)      (None, 349, 100)          1000000   \n",
            "_________________________________________________________________\n",
            "lstm (LSTM)                  (None, 100)               80400     \n",
            "_________________________________________________________________\n",
            "dense_1 (Dense)              (None, 1)                 101       \n",
            "=================================================================\n",
            "Total params: 1,080,501\n",
            "Trainable params: 1,080,501\n",
            "Non-trainable params: 0\n",
            "_________________________________________________________________\n",
            "Model: \"sequential_1\"\n",
            "_________________________________________________________________\n",
            "Layer (type)                 Output Shape              Param #   \n",
            "=================================================================\n",
            "embedding_1 (Embedding)      (None, 349, 100)          1000000   \n",
            "_________________________________________________________________\n",
            "lstm (LSTM)                  (None, 100)               80400     \n",
            "_________________________________________________________________\n",
            "dense_1 (Dense)              (None, 1)                 101       \n",
            "=================================================================\n",
            "Total params: 1,080,501\n",
            "Trainable params: 1,080,501\n",
            "Non-trainable params: 0\n",
            "_________________________________________________________________\n"
          ],
          "name": "stdout"
        }
      ]
    },
    {
      "cell_type": "code",
      "metadata": {
        "id": "WRHlasfGyy_R",
        "colab_type": "code",
        "colab": {
          "base_uri": "https://localhost:8080/",
          "height": 67
        },
        "outputId": "a29c4807-d53e-4924-fd41-03ee4aa1e34c"
      },
      "source": [
        "model_LSTM.compile(optimizer='adam',\n",
        "              loss='binary_crossentropy',\n",
        "              metrics=['acc'])\n",
        "history_LSTM = model_LSTM.fit(x_train[:300_000], y_train[:300_000],\n",
        "                    epochs=3,\n",
        "                    batch_size=128,\n",
        "                    validation_data=(x_val, y_val))"
      ],
      "execution_count": 0,
      "outputs": [
        {
          "output_type": "stream",
          "text": [
            "Train on 300000 samples, validate on 160000 samples\n",
            "Epoch 1/3\n",
            "107136/300000 [=========>....................] - ETA: 32:23 - loss: 0.4869 - acc: 0.7651"
          ],
          "name": "stdout"
        }
      ]
    },
    {
      "cell_type": "markdown",
      "metadata": {
        "id": "I2LaaZWMWqZh",
        "colab_type": "text"
      },
      "source": [
        "## Next steps:\n",
        "\n",
        "\n",
        "1.   Try Naive Bayes as a simple ML baseline\n",
        "2.   Try using only those samples which are labeled equally in the dataset and by VADER, hoping to remove the ambiguous/poorly labeled samples.\n",
        "3. Try Conv1D network, then Conv1D + LSTM\n",
        "\n"
      ]
    },
    {
      "cell_type": "code",
      "metadata": {
        "id": "mSF_bGoGyzDr",
        "colab_type": "code",
        "colab": {}
      },
      "source": [
        ""
      ],
      "execution_count": 0,
      "outputs": []
    },
    {
      "cell_type": "code",
      "metadata": {
        "id": "x1g651dmyy9V",
        "colab_type": "code",
        "colab": {}
      },
      "source": [
        ""
      ],
      "execution_count": 0,
      "outputs": []
    },
    {
      "cell_type": "code",
      "metadata": {
        "id": "qHKot4jOyytm",
        "colab_type": "code",
        "colab": {}
      },
      "source": [
        ""
      ],
      "execution_count": 0,
      "outputs": []
    },
    {
      "cell_type": "code",
      "metadata": {
        "id": "xsKbst1ayymb",
        "colab_type": "code",
        "colab": {}
      },
      "source": [
        ""
      ],
      "execution_count": 0,
      "outputs": []
    },
    {
      "cell_type": "code",
      "metadata": {
        "id": "8U1t2QSyyygi",
        "colab_type": "code",
        "colab": {}
      },
      "source": [
        ""
      ],
      "execution_count": 0,
      "outputs": []
    },
    {
      "cell_type": "code",
      "metadata": {
        "id": "LrC7ouuXyyfI",
        "colab_type": "code",
        "colab": {}
      },
      "source": [
        ""
      ],
      "execution_count": 0,
      "outputs": []
    },
    {
      "cell_type": "code",
      "metadata": {
        "id": "8PA7_2-Myydd",
        "colab_type": "code",
        "colab": {}
      },
      "source": [
        ""
      ],
      "execution_count": 0,
      "outputs": []
    },
    {
      "cell_type": "code",
      "metadata": {
        "id": "I_4lXxlSyyYt",
        "colab_type": "code",
        "colab": {}
      },
      "source": [
        ""
      ],
      "execution_count": 0,
      "outputs": []
    },
    {
      "cell_type": "code",
      "metadata": {
        "id": "yQjJngkGyyV4",
        "colab_type": "code",
        "colab": {}
      },
      "source": [
        ""
      ],
      "execution_count": 0,
      "outputs": []
    },
    {
      "cell_type": "code",
      "metadata": {
        "id": "z2E9I2rwyyTa",
        "colab_type": "code",
        "colab": {}
      },
      "source": [
        ""
      ],
      "execution_count": 0,
      "outputs": []
    },
    {
      "cell_type": "code",
      "metadata": {
        "id": "9ntW3OrryyRG",
        "colab_type": "code",
        "colab": {}
      },
      "source": [
        ""
      ],
      "execution_count": 0,
      "outputs": []
    },
    {
      "cell_type": "code",
      "metadata": {
        "id": "EVx3CItPc32A",
        "colab_type": "code",
        "colab": {}
      },
      "source": [
        "df_after_preprocessing['text']"
      ],
      "execution_count": 0,
      "outputs": []
    },
    {
      "cell_type": "code",
      "metadata": {
        "id": "7Pl6VOIp5pS4",
        "colab_type": "code",
        "colab": {}
      },
      "source": [
        "original_dataset = df[['target', 'text']]\n",
        "vader_dataset = df[['alternative_target', 'text']]"
      ],
      "execution_count": 0,
      "outputs": []
    },
    {
      "cell_type": "code",
      "metadata": {
        "id": "TvXUW9sL5pWz",
        "colab_type": "code",
        "colab": {}
      },
      "source": [
        "original_dataset['text']"
      ],
      "execution_count": 0,
      "outputs": []
    },
    {
      "cell_type": "code",
      "metadata": {
        "id": "wbpuFaoh5pae",
        "colab_type": "code",
        "colab": {}
      },
      "source": [
        ""
      ],
      "execution_count": 0,
      "outputs": []
    },
    {
      "cell_type": "code",
      "metadata": {
        "id": "AJfaUNhS5pGc",
        "colab_type": "code",
        "colab": {}
      },
      "source": [
        ""
      ],
      "execution_count": 0,
      "outputs": []
    },
    {
      "cell_type": "code",
      "metadata": {
        "id": "n2ye4T6UvmFd",
        "colab_type": "code",
        "colab": {}
      },
      "source": [
        ""
      ],
      "execution_count": 0,
      "outputs": []
    },
    {
      "cell_type": "markdown",
      "metadata": {
        "id": "PJwE-nMzvn1C",
        "colab_type": "text"
      },
      "source": [
        "Citation: Go, A., Bhayani, R. and Huang, L., 2009. Twitter sentiment \n",
        "classification using distant supervision. CS224N Project Report, Stanford, 1(2009), p.12.\n",
        "\n",
        "\n",
        "1.   Citation: Go, A., Bhayani, R. and Huang, L., 2009. Twitter sentiment \n",
        "classification using distant supervision. CS224N Project Report, Stanford, 1(2009), p.12.\n",
        "2.   http://comp.social.gatech.edu/papers/icwsm14.vader.hutto.pdf\n",
        "\n"
      ]
    }
  ]
}