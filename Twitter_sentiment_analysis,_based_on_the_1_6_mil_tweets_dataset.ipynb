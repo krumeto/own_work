{
  "nbformat": 4,
  "nbformat_minor": 0,
  "metadata": {
    "colab": {
      "name": "Twitter sentiment analysis, based on the 1.6 mil tweets dataset.ipynb",
      "provenance": [],
      "collapsed_sections": [],
      "include_colab_link": true
    },
    "kernelspec": {
      "name": "python3",
      "display_name": "Python 3"
    },
    "accelerator": "GPU"
  },
  "cells": [
    {
      "cell_type": "markdown",
      "metadata": {
        "id": "view-in-github",
        "colab_type": "text"
      },
      "source": [
        "<a href=\"https://colab.research.google.com/github/krumeto/own_work/blob/master/Twitter_sentiment_analysis%2C_based_on_the_1_6_mil_tweets_dataset.ipynb\" target=\"_parent\"><img src=\"https://colab.research.google.com/assets/colab-badge.svg\" alt=\"Open In Colab\"/></a>"
      ]
    },
    {
      "cell_type": "markdown",
      "metadata": {
        "id": "tepxU6lRHc-1",
        "colab_type": "text"
      },
      "source": [
        "This is an exercise in Sentiment Analysis with a rarely used dataset - 1.6 mil tweets from 2009 with a negative/positive label. \n",
        "\n",
        "I will explore the dataset and compare a couple of model architectures to a rule-based sentiment model - VADER."
      ]
    },
    {
      "cell_type": "code",
      "metadata": {
        "id": "MBDad8ElDcTD",
        "colab_type": "code",
        "colab": {
          "base_uri": "https://localhost:8080/",
          "height": 1000
        },
        "outputId": "3880f5f1-4b5c-4ca7-f20c-307c8009364c"
      },
      "source": [
        "!pip install tensorflow==2.0.0\n",
        "!pip install vaderSentiment"
      ],
      "execution_count": 3,
      "outputs": [
        {
          "output_type": "stream",
          "text": [
            "Collecting tensorflow==2.0.0\n",
            "\u001b[?25l  Downloading https://files.pythonhosted.org/packages/46/0f/7bd55361168bb32796b360ad15a25de6966c9c1beb58a8e30c01c8279862/tensorflow-2.0.0-cp36-cp36m-manylinux2010_x86_64.whl (86.3MB)\n",
            "\u001b[K     |████████████████████████████████| 86.3MB 129kB/s \n",
            "\u001b[?25hRequirement already satisfied: keras-preprocessing>=1.0.5 in /usr/local/lib/python3.6/dist-packages (from tensorflow==2.0.0) (1.1.0)\n",
            "Requirement already satisfied: keras-applications>=1.0.8 in /usr/local/lib/python3.6/dist-packages (from tensorflow==2.0.0) (1.0.8)\n",
            "Requirement already satisfied: numpy<2.0,>=1.16.0 in /usr/local/lib/python3.6/dist-packages (from tensorflow==2.0.0) (1.17.4)\n",
            "Requirement already satisfied: termcolor>=1.1.0 in /usr/local/lib/python3.6/dist-packages (from tensorflow==2.0.0) (1.1.0)\n",
            "Requirement already satisfied: absl-py>=0.7.0 in /usr/local/lib/python3.6/dist-packages (from tensorflow==2.0.0) (0.8.1)\n",
            "Requirement already satisfied: wrapt>=1.11.1 in /usr/local/lib/python3.6/dist-packages (from tensorflow==2.0.0) (1.11.2)\n",
            "Requirement already satisfied: opt-einsum>=2.3.2 in /usr/local/lib/python3.6/dist-packages (from tensorflow==2.0.0) (3.1.0)\n",
            "Requirement already satisfied: six>=1.10.0 in /usr/local/lib/python3.6/dist-packages (from tensorflow==2.0.0) (1.12.0)\n",
            "Requirement already satisfied: google-pasta>=0.1.6 in /usr/local/lib/python3.6/dist-packages (from tensorflow==2.0.0) (0.1.8)\n",
            "Collecting tensorflow-estimator<2.1.0,>=2.0.0\n",
            "\u001b[?25l  Downloading https://files.pythonhosted.org/packages/fc/08/8b927337b7019c374719145d1dceba21a8bb909b93b1ad6f8fb7d22c1ca1/tensorflow_estimator-2.0.1-py2.py3-none-any.whl (449kB)\n",
            "\u001b[K     |████████████████████████████████| 450kB 44.5MB/s \n",
            "\u001b[?25hRequirement already satisfied: grpcio>=1.8.6 in /usr/local/lib/python3.6/dist-packages (from tensorflow==2.0.0) (1.15.0)\n",
            "Requirement already satisfied: wheel>=0.26 in /usr/local/lib/python3.6/dist-packages (from tensorflow==2.0.0) (0.33.6)\n",
            "Requirement already satisfied: astor>=0.6.0 in /usr/local/lib/python3.6/dist-packages (from tensorflow==2.0.0) (0.8.0)\n",
            "Collecting tensorboard<2.1.0,>=2.0.0\n",
            "\u001b[?25l  Downloading https://files.pythonhosted.org/packages/76/54/99b9d5d52d5cb732f099baaaf7740403e83fe6b0cedde940fabd2b13d75a/tensorboard-2.0.2-py3-none-any.whl (3.8MB)\n",
            "\u001b[K     |████████████████████████████████| 3.8MB 37.7MB/s \n",
            "\u001b[?25hRequirement already satisfied: gast==0.2.2 in /usr/local/lib/python3.6/dist-packages (from tensorflow==2.0.0) (0.2.2)\n",
            "Requirement already satisfied: protobuf>=3.6.1 in /usr/local/lib/python3.6/dist-packages (from tensorflow==2.0.0) (3.10.0)\n",
            "Requirement already satisfied: h5py in /usr/local/lib/python3.6/dist-packages (from keras-applications>=1.0.8->tensorflow==2.0.0) (2.8.0)\n",
            "Requirement already satisfied: setuptools>=41.0.0 in /usr/local/lib/python3.6/dist-packages (from tensorboard<2.1.0,>=2.0.0->tensorflow==2.0.0) (41.6.0)\n",
            "Collecting google-auth<2,>=1.6.3\n",
            "\u001b[?25l  Downloading https://files.pythonhosted.org/packages/7b/cb/786dc53d93494784935a62947643b48250b84a882474e714f9af5e1a1928/google_auth-1.7.1-py2.py3-none-any.whl (74kB)\n",
            "\u001b[K     |████████████████████████████████| 81kB 10.3MB/s \n",
            "\u001b[?25hRequirement already satisfied: markdown>=2.6.8 in /usr/local/lib/python3.6/dist-packages (from tensorboard<2.1.0,>=2.0.0->tensorflow==2.0.0) (3.1.1)\n",
            "Requirement already satisfied: google-auth-oauthlib<0.5,>=0.4.1 in /usr/local/lib/python3.6/dist-packages (from tensorboard<2.1.0,>=2.0.0->tensorflow==2.0.0) (0.4.1)\n",
            "Requirement already satisfied: werkzeug>=0.11.15 in /usr/local/lib/python3.6/dist-packages (from tensorboard<2.1.0,>=2.0.0->tensorflow==2.0.0) (0.16.0)\n",
            "Requirement already satisfied: requests<3,>=2.21.0 in /usr/local/lib/python3.6/dist-packages (from tensorboard<2.1.0,>=2.0.0->tensorflow==2.0.0) (2.21.0)\n",
            "Requirement already satisfied: pyasn1-modules>=0.2.1 in /usr/local/lib/python3.6/dist-packages (from google-auth<2,>=1.6.3->tensorboard<2.1.0,>=2.0.0->tensorflow==2.0.0) (0.2.7)\n",
            "Requirement already satisfied: rsa<4.1,>=3.1.4 in /usr/local/lib/python3.6/dist-packages (from google-auth<2,>=1.6.3->tensorboard<2.1.0,>=2.0.0->tensorflow==2.0.0) (4.0)\n",
            "Requirement already satisfied: cachetools<3.2,>=2.0.0 in /usr/local/lib/python3.6/dist-packages (from google-auth<2,>=1.6.3->tensorboard<2.1.0,>=2.0.0->tensorflow==2.0.0) (3.1.1)\n",
            "Requirement already satisfied: requests-oauthlib>=0.7.0 in /usr/local/lib/python3.6/dist-packages (from google-auth-oauthlib<0.5,>=0.4.1->tensorboard<2.1.0,>=2.0.0->tensorflow==2.0.0) (1.3.0)\n",
            "Requirement already satisfied: idna<2.9,>=2.5 in /usr/local/lib/python3.6/dist-packages (from requests<3,>=2.21.0->tensorboard<2.1.0,>=2.0.0->tensorflow==2.0.0) (2.8)\n",
            "Requirement already satisfied: chardet<3.1.0,>=3.0.2 in /usr/local/lib/python3.6/dist-packages (from requests<3,>=2.21.0->tensorboard<2.1.0,>=2.0.0->tensorflow==2.0.0) (3.0.4)\n",
            "Requirement already satisfied: certifi>=2017.4.17 in /usr/local/lib/python3.6/dist-packages (from requests<3,>=2.21.0->tensorboard<2.1.0,>=2.0.0->tensorflow==2.0.0) (2019.9.11)\n",
            "Requirement already satisfied: urllib3<1.25,>=1.21.1 in /usr/local/lib/python3.6/dist-packages (from requests<3,>=2.21.0->tensorboard<2.1.0,>=2.0.0->tensorflow==2.0.0) (1.24.3)\n",
            "Requirement already satisfied: pyasn1<0.5.0,>=0.4.6 in /usr/local/lib/python3.6/dist-packages (from pyasn1-modules>=0.2.1->google-auth<2,>=1.6.3->tensorboard<2.1.0,>=2.0.0->tensorflow==2.0.0) (0.4.7)\n",
            "Requirement already satisfied: oauthlib>=3.0.0 in /usr/local/lib/python3.6/dist-packages (from requests-oauthlib>=0.7.0->google-auth-oauthlib<0.5,>=0.4.1->tensorboard<2.1.0,>=2.0.0->tensorflow==2.0.0) (3.1.0)\n",
            "\u001b[31mERROR: tensorboard 2.0.2 has requirement grpcio>=1.24.3, but you'll have grpcio 1.15.0 which is incompatible.\u001b[0m\n",
            "\u001b[31mERROR: google-colab 1.0.0 has requirement google-auth~=1.4.0, but you'll have google-auth 1.7.1 which is incompatible.\u001b[0m\n",
            "Installing collected packages: tensorflow-estimator, google-auth, tensorboard, tensorflow\n",
            "  Found existing installation: tensorflow-estimator 1.15.1\n",
            "    Uninstalling tensorflow-estimator-1.15.1:\n",
            "      Successfully uninstalled tensorflow-estimator-1.15.1\n",
            "  Found existing installation: google-auth 1.4.2\n",
            "    Uninstalling google-auth-1.4.2:\n",
            "      Successfully uninstalled google-auth-1.4.2\n",
            "  Found existing installation: tensorboard 1.15.0\n",
            "    Uninstalling tensorboard-1.15.0:\n",
            "      Successfully uninstalled tensorboard-1.15.0\n",
            "  Found existing installation: tensorflow 1.15.0\n",
            "    Uninstalling tensorflow-1.15.0:\n",
            "      Successfully uninstalled tensorflow-1.15.0\n",
            "Successfully installed google-auth-1.7.1 tensorboard-2.0.2 tensorflow-2.0.0 tensorflow-estimator-2.0.1\n"
          ],
          "name": "stdout"
        },
        {
          "output_type": "display_data",
          "data": {
            "application/vnd.colab-display-data+json": {
              "pip_warning": {
                "packages": [
                  "google"
                ]
              }
            }
          },
          "metadata": {
            "tags": []
          }
        },
        {
          "output_type": "stream",
          "text": [
            "Collecting vaderSentiment\n",
            "\u001b[?25l  Downloading https://files.pythonhosted.org/packages/86/9e/c53e1fc61aac5ee490a6ac5e21b1ac04e55a7c2aba647bb8411c9aadf24e/vaderSentiment-3.2.1-py2.py3-none-any.whl (125kB)\n",
            "\r\u001b[K     |██▋                             | 10kB 23.1MB/s eta 0:00:01\r\u001b[K     |█████▏                          | 20kB 4.4MB/s eta 0:00:01\r\u001b[K     |███████▉                        | 30kB 6.2MB/s eta 0:00:01\r\u001b[K     |██████████▍                     | 40kB 7.9MB/s eta 0:00:01\r\u001b[K     |█████████████                   | 51kB 5.1MB/s eta 0:00:01\r\u001b[K     |███████████████▋                | 61kB 6.0MB/s eta 0:00:01\r\u001b[K     |██████████████████▎             | 71kB 6.8MB/s eta 0:00:01\r\u001b[K     |████████████████████▉           | 81kB 7.6MB/s eta 0:00:01\r\u001b[K     |███████████████████████▍        | 92kB 8.4MB/s eta 0:00:01\r\u001b[K     |██████████████████████████      | 102kB 6.7MB/s eta 0:00:01\r\u001b[K     |████████████████████████████▋   | 112kB 6.7MB/s eta 0:00:01\r\u001b[K     |███████████████████████████████▎| 122kB 6.7MB/s eta 0:00:01\r\u001b[K     |████████████████████████████████| 133kB 6.7MB/s \n",
            "\u001b[?25hInstalling collected packages: vaderSentiment\n",
            "Successfully installed vaderSentiment-3.2.1\n"
          ],
          "name": "stdout"
        }
      ]
    },
    {
      "cell_type": "code",
      "metadata": {
        "id": "eam7Xm9RYWyA",
        "colab_type": "code",
        "colab": {
          "base_uri": "https://localhost:8080/",
          "height": 138
        },
        "outputId": "e73e62b6-99fc-4120-f1b5-fe984d41fa68"
      },
      "source": [
        "import pandas as pd\n",
        "import numpy as np\n",
        "import matplotlib.pyplot as plt\n",
        "from google.colab import drive\n",
        "from pathlib import Path\n",
        "from nltk.sentiment.vader import SentimentIntensityAnalyzer\n",
        "import nltk\n",
        "nltk.download('vader_lexicon')\n",
        "nltk.download('stopwords')\n",
        "from nltk.corpus import stopwords\n",
        "from nltk.stem.wordnet import WordNetLemmatizer\n",
        "import re\n",
        "import string\n",
        "\n",
        "import tensorflow as tf\n",
        "print(\"Tensorflow version: \", tf.__version__)\n",
        "from tensorflow.keras.preprocessing.text import Tokenizer\n",
        "from tensorflow.keras.preprocessing.sequence import pad_sequences\n",
        "from tensorflow.keras.models import Sequential\n",
        "from tensorflow import keras\n",
        "from tensorflow.keras.optimizers import Adam"
      ],
      "execution_count": 4,
      "outputs": [
        {
          "output_type": "stream",
          "text": [
            "/usr/local/lib/python3.6/dist-packages/nltk/twitter/__init__.py:20: UserWarning: The twython library has not been installed. Some functionality from the twitter package will not be available.\n",
            "  warnings.warn(\"The twython library has not been installed. \"\n"
          ],
          "name": "stderr"
        },
        {
          "output_type": "stream",
          "text": [
            "[nltk_data] Downloading package vader_lexicon to /root/nltk_data...\n",
            "[nltk_data] Downloading package stopwords to /root/nltk_data...\n",
            "[nltk_data]   Unzipping corpora/stopwords.zip.\n",
            "Tensorflow version:  2.0.0\n"
          ],
          "name": "stdout"
        }
      ]
    },
    {
      "cell_type": "code",
      "metadata": {
        "id": "Y_-fjwfpvlqv",
        "colab_type": "code",
        "colab": {
          "base_uri": "https://localhost:8080/",
          "height": 121
        },
        "outputId": "ecc60e1a-cb11-405e-aad0-fde98f75689d"
      },
      "source": [
        "drive.mount('/content/gdrive')"
      ],
      "execution_count": 5,
      "outputs": [
        {
          "output_type": "stream",
          "text": [
            "Go to this URL in a browser: https://accounts.google.com/o/oauth2/auth?client_id=947318989803-6bn6qk8qdgf4n4g3pfee6491hc0brc4i.apps.googleusercontent.com&redirect_uri=urn%3aietf%3awg%3aoauth%3a2.0%3aoob&response_type=code&scope=email%20https%3a%2f%2fwww.googleapis.com%2fauth%2fdocs.test%20https%3a%2f%2fwww.googleapis.com%2fauth%2fdrive%20https%3a%2f%2fwww.googleapis.com%2fauth%2fdrive.photos.readonly%20https%3a%2f%2fwww.googleapis.com%2fauth%2fpeopleapi.readonly\n",
            "\n",
            "Enter your authorization code:\n",
            "··········\n",
            "Mounted at /content/gdrive\n"
          ],
          "name": "stdout"
        }
      ]
    },
    {
      "cell_type": "code",
      "metadata": {
        "id": "TimmXPO6vmKW",
        "colab_type": "code",
        "colab": {}
      },
      "source": [
        "# The path to the base directory\n",
        "base_dir = Path(\"/content/gdrive/My Drive/Twitter dataset\")\n",
        "file_path = base_dir / 'training.1600000.processed.noemoticon.csv'"
      ],
      "execution_count": 0,
      "outputs": []
    },
    {
      "cell_type": "code",
      "metadata": {
        "id": "910cZp3FvmXU",
        "colab_type": "code",
        "colab": {}
      },
      "source": [
        "columns = [\"target\", \"ids\", \"date\", \"flag\", \"user\", \"text\"]\n",
        "df = pd.read_csv(file_path, encoding=\"ISO-8859-1\", names=columns)"
      ],
      "execution_count": 0,
      "outputs": []
    },
    {
      "cell_type": "markdown",
      "metadata": {
        "id": "yaSy_RwmLWdM",
        "colab_type": "text"
      },
      "source": [
        "## Data exploration"
      ]
    },
    {
      "cell_type": "code",
      "metadata": {
        "id": "AGPIAdC5vmaV",
        "colab_type": "code",
        "colab": {
          "base_uri": "https://localhost:8080/",
          "height": 202
        },
        "outputId": "bb14257e-e8fe-465a-fec4-6801fa645f43"
      },
      "source": [
        "df.info()"
      ],
      "execution_count": 8,
      "outputs": [
        {
          "output_type": "stream",
          "text": [
            "<class 'pandas.core.frame.DataFrame'>\n",
            "RangeIndex: 1600000 entries, 0 to 1599999\n",
            "Data columns (total 6 columns):\n",
            "target    1600000 non-null int64\n",
            "ids       1600000 non-null int64\n",
            "date      1600000 non-null object\n",
            "flag      1600000 non-null object\n",
            "user      1600000 non-null object\n",
            "text      1600000 non-null object\n",
            "dtypes: int64(2), object(4)\n",
            "memory usage: 73.2+ MB\n"
          ],
          "name": "stdout"
        }
      ]
    },
    {
      "cell_type": "code",
      "metadata": {
        "id": "kdTY3DY1vmVd",
        "colab_type": "code",
        "colab": {
          "base_uri": "https://localhost:8080/",
          "height": 343
        },
        "outputId": "45ed5dcf-4113-4fd5-e254-d92c00540a54"
      },
      "source": [
        "df.sample(10)"
      ],
      "execution_count": 9,
      "outputs": [
        {
          "output_type": "execute_result",
          "data": {
            "text/html": [
              "<div>\n",
              "<style scoped>\n",
              "    .dataframe tbody tr th:only-of-type {\n",
              "        vertical-align: middle;\n",
              "    }\n",
              "\n",
              "    .dataframe tbody tr th {\n",
              "        vertical-align: top;\n",
              "    }\n",
              "\n",
              "    .dataframe thead th {\n",
              "        text-align: right;\n",
              "    }\n",
              "</style>\n",
              "<table border=\"1\" class=\"dataframe\">\n",
              "  <thead>\n",
              "    <tr style=\"text-align: right;\">\n",
              "      <th></th>\n",
              "      <th>target</th>\n",
              "      <th>ids</th>\n",
              "      <th>date</th>\n",
              "      <th>flag</th>\n",
              "      <th>user</th>\n",
              "      <th>text</th>\n",
              "    </tr>\n",
              "  </thead>\n",
              "  <tbody>\n",
              "    <tr>\n",
              "      <th>858705</th>\n",
              "      <td>4</td>\n",
              "      <td>1675826492</td>\n",
              "      <td>Fri May 01 20:25:19 PDT 2009</td>\n",
              "      <td>NO_QUERY</td>\n",
              "      <td>samanthaoxox</td>\n",
              "      <td>Soo tired but goingg to jazminss housee. Excit...</td>\n",
              "    </tr>\n",
              "    <tr>\n",
              "      <th>1223934</th>\n",
              "      <td>4</td>\n",
              "      <td>1990474226</td>\n",
              "      <td>Mon Jun 01 04:58:09 PDT 2009</td>\n",
              "      <td>NO_QUERY</td>\n",
              "      <td>grrlonthacouch</td>\n",
              "      <td>@bstegosarusrex - it's cool here in da mitten!...</td>\n",
              "    </tr>\n",
              "    <tr>\n",
              "      <th>661550</th>\n",
              "      <td>0</td>\n",
              "      <td>2243232921</td>\n",
              "      <td>Fri Jun 19 13:11:22 PDT 2009</td>\n",
              "      <td>NO_QUERY</td>\n",
              "      <td>midwestguest</td>\n",
              "      <td>@ShamanDrum Le sigh is right...I'm sure I'll b...</td>\n",
              "    </tr>\n",
              "    <tr>\n",
              "      <th>920021</th>\n",
              "      <td>4</td>\n",
              "      <td>1753919906</td>\n",
              "      <td>Sun May 10 04:07:50 PDT 2009</td>\n",
              "      <td>NO_QUERY</td>\n",
              "      <td>shonias</td>\n",
              "      <td>@mimbles  Two stayers can be a lethal combinat...</td>\n",
              "    </tr>\n",
              "    <tr>\n",
              "      <th>638042</th>\n",
              "      <td>0</td>\n",
              "      <td>2234344555</td>\n",
              "      <td>Thu Jun 18 22:52:50 PDT 2009</td>\n",
              "      <td>NO_QUERY</td>\n",
              "      <td>gabrielarolim</td>\n",
              "      <td>@sarahbrunot @theblondegirl Ã©Ã©Ã©Ã©Ã©Ã©!!!! Ã...</td>\n",
              "    </tr>\n",
              "    <tr>\n",
              "      <th>309567</th>\n",
              "      <td>0</td>\n",
              "      <td>2000934206</td>\n",
              "      <td>Mon Jun 01 23:21:46 PDT 2009</td>\n",
              "      <td>NO_QUERY</td>\n",
              "      <td>latinaf234</td>\n",
              "      <td>Time for bed falling asleep long day tomorrow....</td>\n",
              "    </tr>\n",
              "    <tr>\n",
              "      <th>808277</th>\n",
              "      <td>4</td>\n",
              "      <td>1469174341</td>\n",
              "      <td>Tue Apr 07 05:29:21 PDT 2009</td>\n",
              "      <td>NO_QUERY</td>\n",
              "      <td>dan723</td>\n",
              "      <td>@rajeshjagasia nythng fr u  also d mirror has ...</td>\n",
              "    </tr>\n",
              "    <tr>\n",
              "      <th>914735</th>\n",
              "      <td>4</td>\n",
              "      <td>1752942543</td>\n",
              "      <td>Sat May 09 23:31:58 PDT 2009</td>\n",
              "      <td>NO_QUERY</td>\n",
              "      <td>dreamcatweaver</td>\n",
              "      <td>whohoo!  Erin just got accepted to Ottawa U nu...</td>\n",
              "    </tr>\n",
              "    <tr>\n",
              "      <th>441498</th>\n",
              "      <td>0</td>\n",
              "      <td>2067025863</td>\n",
              "      <td>Sun Jun 07 11:36:45 PDT 2009</td>\n",
              "      <td>NO_QUERY</td>\n",
              "      <td>LeeComeau</td>\n",
              "      <td>Crashing</td>\n",
              "    </tr>\n",
              "    <tr>\n",
              "      <th>188007</th>\n",
              "      <td>0</td>\n",
              "      <td>1968789381</td>\n",
              "      <td>Fri May 29 22:13:18 PDT 2009</td>\n",
              "      <td>NO_QUERY</td>\n",
              "      <td>CoryScheuer_CCG</td>\n",
              "      <td>@ninja_says ohhhh ouch!!!  Wow... I don't know...</td>\n",
              "    </tr>\n",
              "  </tbody>\n",
              "</table>\n",
              "</div>"
            ],
            "text/plain": [
              "         target  ...                                               text\n",
              "858705        4  ...  Soo tired but goingg to jazminss housee. Excit...\n",
              "1223934       4  ...  @bstegosarusrex - it's cool here in da mitten!...\n",
              "661550        0  ...  @ShamanDrum Le sigh is right...I'm sure I'll b...\n",
              "920021        4  ...  @mimbles  Two stayers can be a lethal combinat...\n",
              "638042        0  ...  @sarahbrunot @theblondegirl Ã©Ã©Ã©Ã©Ã©Ã©!!!! Ã...\n",
              "309567        0  ...  Time for bed falling asleep long day tomorrow....\n",
              "808277        4  ...  @rajeshjagasia nythng fr u  also d mirror has ...\n",
              "914735        4  ...  whohoo!  Erin just got accepted to Ottawa U nu...\n",
              "441498        0  ...                                          Crashing \n",
              "188007        0  ...  @ninja_says ohhhh ouch!!!  Wow... I don't know...\n",
              "\n",
              "[10 rows x 6 columns]"
            ]
          },
          "metadata": {
            "tags": []
          },
          "execution_count": 9
        }
      ]
    },
    {
      "cell_type": "code",
      "metadata": {
        "id": "vsOy_VDNvmSL",
        "colab_type": "code",
        "colab": {
          "base_uri": "https://localhost:8080/",
          "height": 67
        },
        "outputId": "c2492587-abd6-4614-8d7f-3500418c634c"
      },
      "source": [
        "df['target'].value_counts()"
      ],
      "execution_count": 10,
      "outputs": [
        {
          "output_type": "execute_result",
          "data": {
            "text/plain": [
              "4    800000\n",
              "0    800000\n",
              "Name: target, dtype: int64"
            ]
          },
          "metadata": {
            "tags": []
          },
          "execution_count": 10
        }
      ]
    },
    {
      "cell_type": "markdown",
      "metadata": {
        "id": "iw6Gw5PVLjjX",
        "colab_type": "text"
      },
      "source": [
        "There are equal number of positive and negative labels."
      ]
    },
    {
      "cell_type": "code",
      "metadata": {
        "id": "J4WGytC8vmP3",
        "colab_type": "code",
        "colab": {
          "base_uri": "https://localhost:8080/",
          "height": 50
        },
        "outputId": "e0a170cd-d5c2-4c13-8038-d1f13ec9fab4"
      },
      "source": [
        "df['flag'].value_counts()"
      ],
      "execution_count": 11,
      "outputs": [
        {
          "output_type": "execute_result",
          "data": {
            "text/plain": [
              "NO_QUERY    1600000\n",
              "Name: flag, dtype: int64"
            ]
          },
          "metadata": {
            "tags": []
          },
          "execution_count": 11
        }
      ]
    },
    {
      "cell_type": "markdown",
      "metadata": {
        "id": "emmWBhIwL0Mm",
        "colab_type": "text"
      },
      "source": [
        "It appears that the 'flag' column brings no information."
      ]
    },
    {
      "cell_type": "code",
      "metadata": {
        "id": "d-ogX0zGvmOH",
        "colab_type": "code",
        "colab": {
          "base_uri": "https://localhost:8080/",
          "height": 269
        },
        "outputId": "a6d25039-0985-4471-bed5-663bdc624b0d"
      },
      "source": [
        "subset = df.sample(5)[['target', 'text']]\n",
        "for i in range(5):\n",
        "  print(\"Tweet:\", subset.iloc[i]['text'], \"...\")\n",
        "  print(\"Label:\",  \" Positive\" if subset.iloc[i]['target'] == 4 else \" Negative\")\n",
        "  print()"
      ],
      "execution_count": 12,
      "outputs": [
        {
          "output_type": "stream",
          "text": [
            "Tweet: @ajwoodwpg but can you squeeze me and THIS in? http://soulpad.com/sanctuary/ I am 90% sure I am purchasing one  ...\n",
            "Label:  Positive\n",
            "\n",
            "Tweet: fire in the south Tower...now i'm stuck in Riddel!  ...\n",
            "Label:  Negative\n",
            "\n",
            "Tweet: says good (or should i say bad?) afternoon!  http://plurk.com/p/wxpdj ...\n",
            "Label:  Negative\n",
            "\n",
            "Tweet: @audaciousaudrey I floss out of necessity and I don't dislike it at all   Healthy gingiva is muy importante ...\n",
            "Label:  Positive\n",
            "\n",
            "Tweet: this epidsode of 16 &amp; pregnant isnt half as good as last weeks  idk why, prob partly bcus ryan was sooo cute. ...\n",
            "Label:  Negative\n",
            "\n"
          ],
          "name": "stdout"
        }
      ]
    },
    {
      "cell_type": "markdown",
      "metadata": {
        "id": "JgunaADJMGQp",
        "colab_type": "text"
      },
      "source": [
        "While the positive examples are , well, positive, the negative examples seem less convincingly negative. I will compare them later to the VADER sentiment assessment.\n",
        "\n",
        "Just for fun, lets see if people tweet more positively on the weekends and negatively throughout the week. If I can, same can be tried with the months (hypothesis is that the people are slightly happier when is warmer and sunny).\n"
      ]
    },
    {
      "cell_type": "code",
      "metadata": {
        "id": "I9bW7cmyvmIc",
        "colab_type": "code",
        "colab": {}
      },
      "source": [
        "df['weekday'] = df['date'].str.split(\" \", expand=True)[0]\n",
        "df['month'] = df['date'].str.split(\" \", expand=True)[1]"
      ],
      "execution_count": 0,
      "outputs": []
    },
    {
      "cell_type": "code",
      "metadata": {
        "id": "obHOGobk5pCe",
        "colab_type": "code",
        "colab": {
          "base_uri": "https://localhost:8080/",
          "height": 50
        },
        "outputId": "671534a3-6822-4527-ce1f-527b01f9a5dc"
      },
      "source": [
        "print(df['weekday'].unique())\n",
        "print(df['month'].unique())"
      ],
      "execution_count": 14,
      "outputs": [
        {
          "output_type": "stream",
          "text": [
            "['Mon' 'Tue' 'Fri' 'Sat' 'Sun' 'Wed' 'Thu']\n",
            "['Apr' 'May' 'Jun']\n"
          ],
          "name": "stdout"
        }
      ]
    },
    {
      "cell_type": "markdown",
      "metadata": {
        "id": "BtKboyPXNgg5",
        "colab_type": "text"
      },
      "source": [
        "OK, I will be able to test the weekdays hypothesis but not \"happy months\" one."
      ]
    },
    {
      "cell_type": "code",
      "metadata": {
        "id": "U8ySwdrL5pJr",
        "colab_type": "code",
        "colab": {
          "base_uri": "https://localhost:8080/",
          "height": 168
        },
        "outputId": "8a780a67-1b59-40f7-912a-dc3ca633ec1a"
      },
      "source": [
        "df.groupby('weekday').mean()['target'].sort_values()"
      ],
      "execution_count": 15,
      "outputs": [
        {
          "output_type": "execute_result",
          "data": {
            "text/plain": [
              "weekday\n",
              "Thu    0.977149\n",
              "Wed    1.170713\n",
              "Tue    1.825106\n",
              "Fri    1.968031\n",
              "Sat    2.093590\n",
              "Mon    2.290950\n",
              "Sun    2.311201\n",
              "Name: target, dtype: float64"
            ]
          },
          "metadata": {
            "tags": []
          },
          "execution_count": 15
        }
      ]
    },
    {
      "cell_type": "markdown",
      "metadata": {
        "id": "RklQ4ovJOGpb",
        "colab_type": "text"
      },
      "source": [
        "The average sentiment is 2 (labels for positive is 0 and for negative is 4). People seem to be significantly grumpier on Thursdays and Wednesday and happiest on Sundays. That seems about right. I did not expect the Monday to pop-up in second place.\n",
        "\n",
        "One possible explanation of the results is that people charge Friday night through Sunday, still draw from that on Mondays and get exhausted throughout the week.\n",
        "\n",
        "OK, lets add VADER to the dataset. VADER is a rule-based model created by Eric Gilbert and CJ Hutto from Georgia Institute of Technology, created specially for Social Media Sentiment Analysis. More on VADER here: https://medium.com/analytics-vidhya/simplifying-social-media-sentiment-analysis-using-vader-in-python-f9e6ec6fc52f"
      ]
    },
    {
      "cell_type": "code",
      "metadata": {
        "id": "Yt-598NWFjm7",
        "colab_type": "code",
        "colab": {}
      },
      "source": [
        "sid = SentimentIntensityAnalyzer()\n",
        "df['naive_sentiment'] = df['text'].apply(lambda x: sid.polarity_scores(x))"
      ],
      "execution_count": 0,
      "outputs": []
    },
    {
      "cell_type": "markdown",
      "metadata": {
        "id": "oIz7v-UKQqf4",
        "colab_type": "text"
      },
      "source": [
        "VADER's analyzer outputs 4 scores - negative, neutral and positive score, as well as a compound one.\n",
        "Example: {'neg': 0.0, 'neu': 0.326, 'pos': 0.674, 'compound': 0.7351}\n",
        "\n",
        "The Positive, Negative and Neutral scores represent the proportion of text that falls in these categories. This means our sentence was rated as 67% Positive, 33% Neutral and 0% Negative. Hence all these add up to 1.\n",
        "\n",
        "The Compound score is a metric that calculates the sum of all the lexicon ratings which have been normalized between -1(most extreme negative) and +1 (most extreme positive). In the case above, lexicon ratings for andsupercool are 2.9and respectively1.3. The compound score turns out to be 0.75 , denoting a very high positive sentiment."
      ]
    },
    {
      "cell_type": "code",
      "metadata": {
        "id": "fT-Ts0ggF2u8",
        "colab_type": "code",
        "colab": {}
      },
      "source": [
        "df['vader_compound'] = df['naive_sentiment'].apply(lambda x: x['compound'])"
      ],
      "execution_count": 0,
      "outputs": []
    },
    {
      "cell_type": "code",
      "metadata": {
        "id": "8AHFlrBbF_Cv",
        "colab_type": "code",
        "colab": {
          "base_uri": "https://localhost:8080/",
          "height": 84
        },
        "outputId": "4cbf1369-f191-4e55-a7a1-41e62ed81f7e"
      },
      "source": [
        "df.groupby('target').mean()['vader_compound']"
      ],
      "execution_count": 18,
      "outputs": [
        {
          "output_type": "execute_result",
          "data": {
            "text/plain": [
              "target\n",
              "0   -0.044132\n",
              "4    0.326535\n",
              "Name: vader_compound, dtype: float64"
            ]
          },
          "metadata": {
            "tags": []
          },
          "execution_count": 18
        }
      ]
    },
    {
      "cell_type": "code",
      "metadata": {
        "id": "eoiuYIKCKBeZ",
        "colab_type": "code",
        "colab": {
          "base_uri": "https://localhost:8080/",
          "height": 84
        },
        "outputId": "d776da69-17b6-4b15-f70c-796cc6468522"
      },
      "source": [
        "df.groupby('target').std()['vader_compound']"
      ],
      "execution_count": 19,
      "outputs": [
        {
          "output_type": "execute_result",
          "data": {
            "text/plain": [
              "target\n",
              "0    0.436708\n",
              "4    0.397785\n",
              "Name: vader_compound, dtype: float64"
            ]
          },
          "metadata": {
            "tags": []
          },
          "execution_count": 19
        }
      ]
    },
    {
      "cell_type": "markdown",
      "metadata": {
        "id": "V8QqSlbkTJ1d",
        "colab_type": "text"
      },
      "source": [
        "**As observed, the positive tweets are assessed as really positive by VADER as well, but the ones labeled as negative seem incosistently labeled.** The negative examples have a mean VADER compound score of just -0.04 which as per VADER's autors is rated as neutral with 0.437 standard deviation. \n",
        "\n",
        "This is important to have in mind as the models can be only as good as the data we are training them on.\n",
        "\n",
        "Lets plot the data to gain more intuition. "
      ]
    },
    {
      "cell_type": "code",
      "metadata": {
        "id": "ekG83M27KcT9",
        "colab_type": "code",
        "colab": {
          "base_uri": "https://localhost:8080/",
          "height": 281
        },
        "outputId": "f73c0d46-5df5-4c57-b0a0-34243fd35c76"
      },
      "source": [
        "df.groupby('target')['vader_compound'].hist(bins=30, alpha=0.5)\n",
        "plt.title('Vader compound sentiment')\n",
        "plt.legend(('Flagged as Negative','Flagged as Positive'))\n",
        "plt.show()"
      ],
      "execution_count": 20,
      "outputs": [
        {
          "output_type": "display_data",
          "data": {
            "image/png": "[encoded data removed]",
            "text/plain": [
              "<Figure size 432x288 with 1 Axes>"
            ]
          },
          "metadata": {
            "tags": []
          }
        }
      ]
    },
    {
      "cell_type": "code",
      "metadata": {
        "id": "qZUjplSBN3cM",
        "colab_type": "code",
        "colab": {}
      },
      "source": [
        "df['alternative_target'] = pd.cut(df['vader_compound'], bins=[-1.00, -0.25, 0.25, 1], labels=['negative', 'neutral', 'positive'])"
      ],
      "execution_count": 0,
      "outputs": []
    },
    {
      "cell_type": "code",
      "metadata": {
        "id": "rkmSl5U0Pl7N",
        "colab_type": "code",
        "colab": {
          "base_uri": "https://localhost:8080/",
          "height": 87
        },
        "outputId": "525579b5-c341-49c3-b66b-a9ce753d0fab"
      },
      "source": [
        "len(df[(df['target']=='negative') & (df['alternative_target']=='positive')])"
      ],
      "execution_count": 22,
      "outputs": [
        {
          "output_type": "stream",
          "text": [
            "/usr/local/lib/python3.6/dist-packages/pandas/core/ops/__init__.py:1115: FutureWarning: elementwise comparison failed; returning scalar instead, but in the future will perform elementwise comparison\n",
            "  result = method(y)\n"
          ],
          "name": "stderr"
        },
        {
          "output_type": "execute_result",
          "data": {
            "text/plain": [
              "0"
            ]
          },
          "metadata": {
            "tags": []
          },
          "execution_count": 22
        }
      ]
    },
    {
      "cell_type": "code",
      "metadata": {
        "id": "_Eif9jVSQD1J",
        "colab_type": "code",
        "colab": {
          "base_uri": "https://localhost:8080/",
          "height": 87
        },
        "outputId": "8ac88939-ff25-4111-b449-4a95353ce849"
      },
      "source": [
        "len(df[(df['target']=='positive') & (df['alternative_target']=='negative')])"
      ],
      "execution_count": 23,
      "outputs": [
        {
          "output_type": "stream",
          "text": [
            "/usr/local/lib/python3.6/dist-packages/pandas/core/ops/__init__.py:1115: FutureWarning: elementwise comparison failed; returning scalar instead, but in the future will perform elementwise comparison\n",
            "  result = method(y)\n"
          ],
          "name": "stderr"
        },
        {
          "output_type": "execute_result",
          "data": {
            "text/plain": [
              "0"
            ]
          },
          "metadata": {
            "tags": []
          },
          "execution_count": 23
        }
      ]
    },
    {
      "cell_type": "markdown",
      "metadata": {
        "id": "g4VPI5TuUYIg",
        "colab_type": "text"
      },
      "source": [
        "There are more than 200 000 tweets labeled as negative, which are assessed by VADER as positive (not even neutral, positive). That's 25% of all samples labeled as negative. The oposite is true for ca. 6% of the samples labeled as positive."
      ]
    },
    {
      "cell_type": "markdown",
      "metadata": {
        "id": "3dA5MCGqU8Qv",
        "colab_type": "text"
      },
      "source": [
        "## Preprocessing"
      ]
    },
    {
      "cell_type": "code",
      "metadata": {
        "id": "tVrUrEe4O0tQ",
        "colab_type": "code",
        "colab": {}
      },
      "source": [
        "df['target'] = df['target'].replace({4: 1})"
      ],
      "execution_count": 0,
      "outputs": []
    },
    {
      "cell_type": "code",
      "metadata": {
        "id": "LAV_e778Rsxv",
        "colab_type": "code",
        "colab": {}
      },
      "source": [
        "df_after_preprocessing = df.copy()"
      ],
      "execution_count": 0,
      "outputs": []
    },
    {
      "cell_type": "code",
      "metadata": {
        "id": "0FQOZZYPYbnp",
        "colab_type": "code",
        "colab": {}
      },
      "source": [
        "def remove_pattern(input_txt, pattern):\n",
        "    r = re.findall(pattern, input_txt)\n",
        "    for i in r:\n",
        "        input_txt = re.sub(i, '', input_txt)\n",
        "        \n",
        "    return input_txt"
      ],
      "execution_count": 0,
      "outputs": []
    },
    {
      "cell_type": "code",
      "metadata": {
        "id": "UWPSxiI6YmyK",
        "colab_type": "code",
        "colab": {}
      },
      "source": [
        "df_after_preprocessing['text'] = np.vectorize(remove_pattern)(df_after_preprocessing['text'], \"@[\\w]*\") "
      ],
      "execution_count": 0,
      "outputs": []
    },
    {
      "cell_type": "code",
      "metadata": {
        "id": "XHKMw4XpY9Ks",
        "colab_type": "code",
        "colab": {}
      },
      "source": [
        "df_after_preprocessing['text'] = df_after_preprocessing['text'].str.replace(\"\\d+\", \" \")\n",
        "df_after_preprocessing['text'] = df_after_preprocessing['text'].str.lower()\n",
        "df_after_preprocessing['text'] = df_after_preprocessing['text'].apply(lambda x: ' '.join([w for w in x.split() if len(w)>3]))"
      ],
      "execution_count": 0,
      "outputs": []
    },
    {
      "cell_type": "code",
      "metadata": {
        "id": "JKuaINoGRzuG",
        "colab_type": "code",
        "colab": {}
      },
      "source": [
        "remove = string.punctuation\n",
        "remove = remove.replace(\"!\", \"\") # don't remove !\n",
        "pattern = r\"[{}]\".format(remove) # create the pattern\n",
        "df_after_preprocessing['text'] = df_after_preprocessing['text'].str.replace(pattern, \"\")"
      ],
      "execution_count": 0,
      "outputs": []
    },
    {
      "cell_type": "code",
      "metadata": {
        "id": "0ib-C4dKcyuj",
        "colab_type": "code",
        "colab": {}
      },
      "source": [
        "tokenized_text = df_after_preprocessing['text'].apply(lambda x: x.split())"
      ],
      "execution_count": 0,
      "outputs": []
    },
    {
      "cell_type": "code",
      "metadata": {
        "id": "aZnGt47J6bks",
        "colab_type": "code",
        "colab": {}
      },
      "source": [
        "#df_after_preprocessing['target'] = df_after_preprocessing['target'].replace({'negative':0, 'positive':1})"
      ],
      "execution_count": 0,
      "outputs": []
    },
    {
      "cell_type": "code",
      "metadata": {
        "id": "1KZK0d1ifG3H",
        "colab_type": "code",
        "colab": {
          "base_uri": "https://localhost:8080/",
          "height": 50
        },
        "outputId": "e5f85ec4-88f0-4042-d5e1-06e506d9af30"
      },
      "source": [
        "texts = list(df_after_preprocessing['text'])\n",
        "labels = list(df_after_preprocessing['target'])\n",
        "print(\"Number of tweets: \", len(texts))\n",
        "print(\"Number of targets: \", len(labels))"
      ],
      "execution_count": 32,
      "outputs": [
        {
          "output_type": "stream",
          "text": [
            "Number of tweets:  1600000\n",
            "Number of targets:  1600000\n"
          ],
          "name": "stdout"
        }
      ]
    },
    {
      "cell_type": "code",
      "metadata": {
        "id": "WhKpSlgmuEQB",
        "colab_type": "code",
        "colab": {}
      },
      "source": [
        "maxlen = max(df_after_preprocessing['text'].str.len())\n",
        "training_samples = int(0.8*len(texts))\n",
        "validation_samples = int(0.1*len(texts))\n",
        "test_samples = int(0.1*len(texts))\n",
        "max_words = 10000 "
      ],
      "execution_count": 0,
      "outputs": []
    },
    {
      "cell_type": "code",
      "metadata": {
        "id": "WmYfJR54vS54",
        "colab_type": "code",
        "colab": {
          "base_uri": "https://localhost:8080/",
          "height": 34
        },
        "outputId": "8d737e04-a053-4bb9-b88d-9eb102c3b0d4"
      },
      "source": [
        "tokenizer = Tokenizer(num_words=max_words)\n",
        "tokenizer.fit_on_texts(texts)\n",
        "sequences = tokenizer.texts_to_sequences(texts)\n",
        "word_index = tokenizer.word_index\n",
        "print('Found %s unique tokens.' % len(word_index))"
      ],
      "execution_count": 34,
      "outputs": [
        {
          "output_type": "stream",
          "text": [
            "Found 457388 unique tokens.\n"
          ],
          "name": "stdout"
        }
      ]
    },
    {
      "cell_type": "code",
      "metadata": {
        "id": "IKLxm70Vv9wW",
        "colab_type": "code",
        "colab": {
          "base_uri": "https://localhost:8080/",
          "height": 50
        },
        "outputId": "71b3a0d0-7d93-4f74-d9a0-43985e9c3d14"
      },
      "source": [
        "data = pad_sequences(sequences, maxlen=maxlen)\n",
        "labels = np.asarray(labels)\n",
        "print(\"Shape of data tensor: \", len(data))\n",
        "print(\"Shape of label tensor: \", len(labels))"
      ],
      "execution_count": 35,
      "outputs": [
        {
          "output_type": "stream",
          "text": [
            "Shape of data tensor:  1600000\n",
            "Shape of label tensor:  1600000\n"
          ],
          "name": "stdout"
        }
      ]
    },
    {
      "cell_type": "code",
      "metadata": {
        "id": "Dhx8SWhLwhEW",
        "colab_type": "code",
        "colab": {
          "base_uri": "https://localhost:8080/",
          "height": 67
        },
        "outputId": "883cd3f9-e8e3-4968-ad45-b812035dcb1c"
      },
      "source": [
        "indices = np.arange(data.shape[0])\n",
        "np.random.shuffle(indices)\n",
        "data = data[indices]\n",
        "labels = labels[indices]\n",
        "\n",
        "x_train = data[:training_samples]\n",
        "y_train = labels[:training_samples]\n",
        "x_val = data[training_samples:training_samples+validation_samples]\n",
        "y_val = labels[training_samples:training_samples+validation_samples]\n",
        "x_test = data[training_samples+validation_samples:]\n",
        "y_test = labels[training_samples+validation_samples:]\n",
        "\n",
        "print(\"Shape train data \", x_train.shape, y_train.shape)\n",
        "print(\"Shape validation data \", x_val.shape, y_val.shape)\n",
        "print(\"Shape test data \", x_test.shape, y_test.shape)"
      ],
      "execution_count": 36,
      "outputs": [
        {
          "output_type": "stream",
          "text": [
            "Shape train data  (1280000, 349) (1280000,)\n",
            "Shape validation data  (160000, 349) (160000,)\n",
            "Shape test data  (160000, 349) (160000,)\n"
          ],
          "name": "stdout"
        }
      ]
    },
    {
      "cell_type": "markdown",
      "metadata": {
        "id": "_XGzO5HJ0WbP",
        "colab_type": "text"
      },
      "source": [
        "## 1. Baseline\n"
      ]
    },
    {
      "cell_type": "code",
      "metadata": {
        "id": "IrwnoZu_yyGA",
        "colab_type": "code",
        "colab": {
          "base_uri": "https://localhost:8080/",
          "height": 252
        },
        "outputId": "903763e3-5cea-431c-8132-c071924831d9"
      },
      "source": [
        "embedding_dim = 100\n",
        "\n",
        "from tensorflow.keras.layers import Embedding, Flatten, Dense\n",
        "\n",
        "model_RNN = keras.models.Sequential()\n",
        "model_RNN.add(Embedding(max_words,embedding_dim , input_length=maxlen))\n",
        "model_RNN.add(Flatten())\n",
        "model_RNN.add(Dense(1, activation='sigmoid'))\n",
        "model_RNN.compile(optimizer='adam', loss='binary_crossentropy', metrics=['acc'])\n",
        "model_RNN.summary()"
      ],
      "execution_count": 37,
      "outputs": [
        {
          "output_type": "stream",
          "text": [
            "Model: \"sequential\"\n",
            "_________________________________________________________________\n",
            "Layer (type)                 Output Shape              Param #   \n",
            "=================================================================\n",
            "embedding (Embedding)        (None, 349, 100)          1000000   \n",
            "_________________________________________________________________\n",
            "flatten (Flatten)            (None, 34900)             0         \n",
            "_________________________________________________________________\n",
            "dense (Dense)                (None, 1)                 34901     \n",
            "=================================================================\n",
            "Total params: 1,034,901\n",
            "Trainable params: 1,034,901\n",
            "Non-trainable params: 0\n",
            "_________________________________________________________________\n"
          ],
          "name": "stdout"
        }
      ]
    },
    {
      "cell_type": "code",
      "metadata": {
        "id": "LAJD1MQ1yyiH",
        "colab_type": "code",
        "colab": {
          "base_uri": "https://localhost:8080/",
          "height": 322
        },
        "outputId": "3cc0ec3c-c9a9-43e8-cd90-4f0a719b6001"
      },
      "source": [
        "history_rnn = model_RNN.fit(x_train, y_train,\n",
        "                    epochs=5,\n",
        "                    batch_size=32,\n",
        "                    validation_data=(x_val, y_val))"
      ],
      "execution_count": 38,
      "outputs": [
        {
          "output_type": "stream",
          "text": [
            "Train on 1280000 samples, validate on 160000 samples\n",
            "Epoch 1/5\n",
            " 838720/1280000 [==================>...........] - ETA: 3:09 - loss: 0.4963 - acc: 0.7626Train on 1280000 samples, validate on 160000 samples\n",
            "Epoch 1/5\n",
            "1280000/1280000 [==============================] - 607s 474us/sample - loss: 0.4927 - acc: 0.7654 - val_loss: 0.4831 - val_acc: 0.7736\n",
            "1280000/1280000 [==============================] - 607s 474us/sample - loss: 0.4927 - acc: 0.7654 - val_loss: 0.4831 - val_acc: 0.7736\n",
            "Epoch 2/5\n",
            "     32/1280000 [..............................] - ETA: 11:01 - loss: 0.3278 - acc: 0.9375Epoch 2/5\n",
            "1280000/1280000 [==============================] - 1573s 1ms/sample - loss: 0.4761 - acc: 0.7771 - val_loss: 0.4835 - val_acc: 0.7736\n",
            "1280000/1280000 [==============================] - 1573s 1ms/sample - loss: 0.4761 - acc: 0.7771 - val_loss: 0.4835 - val_acc: 0.7736\n",
            "Epoch 3/5\n",
            "     32/1280000 [..............................] - ETA: 25:19 - loss: 0.4316 - acc: 0.7500Epoch 3/5\n",
            "1280000/1280000 [==============================] - 1200s 938us/sample - loss: 0.4663 - acc: 0.7831 - val_loss: 0.4911 - val_acc: 0.7706\n",
            "1280000/1280000 [==============================] - 1200s 938us/sample - loss: 0.4663 - acc: 0.7831 - val_loss: 0.4911 - val_acc: 0.7706\n",
            "Epoch 4/5\n",
            "     32/1280000 [..............................] - ETA: 34:44 - loss: 0.4087 - acc: 0.8438Epoch 4/5\n",
            " 432480/1280000 [=========>....................] - ETA: 17:25 - loss: 0.4514 - acc: 0.7916Buffered data was truncated after reaching the output size limit.Buffered data was truncated after reaching the output size limit."
          ],
          "name": "stdout"
        }
      ]
    },
    {
      "cell_type": "code",
      "metadata": {
        "id": "FFXJy4igyyp7",
        "colab_type": "code",
        "colab": {}
      },
      "source": [
        "def plot_history(history, loss=\"loss\"):\n",
        "  acc = history.history['acc']\n",
        "  val_acc = history.history['val_acc']\n",
        "  loss = history.history['loss']\n",
        "  val_loss = history.history['val_loss']\n",
        "\n",
        "  epochs = range(len(acc))\n",
        "\n",
        "  plt.plot(epochs, acc, 'bo', label='Training acc')\n",
        "  plt.plot(epochs, val_acc, 'b', label='Validation acc')\n",
        "  plt.title('Training and validation accuracy')\n",
        "  plt.legend()\n",
        "\n",
        "  plt.figure()\n",
        " \n",
        "  plt.plot(epochs, loss, 'bo', label='Training loss')\n",
        "  plt.plot(epochs, val_loss, 'b', label='Validation loss')\n",
        "  plt.title('Training and validation loss')\n",
        "  plt.legend()\n",
        "\n",
        "  plt.show()"
      ],
      "execution_count": 0,
      "outputs": []
    },
    {
      "cell_type": "code",
      "metadata": {
        "id": "82MHsW2lyy3N",
        "colab_type": "code",
        "colab": {
          "base_uri": "https://localhost:8080/",
          "height": 1000
        },
        "outputId": "bfbb0a46-bb98-48c9-f661-4382065b6487"
      },
      "source": [
        "plot_history(history_rnn)"
      ],
      "execution_count": 40,
      "outputs": [
        {
          "output_type": "display_data",
          "data": {
            "image/png": "[encoded data removed]",
            "text/plain": [
              "<Figure size 432x288 with 1 Axes>"
            ]
          },
          "metadata": {
            "tags": []
          }
        },
        {
          "output_type": "display_data",
          "data": {
            "image/png": "[encoded data removed]",
            "text/plain": [
              "<Figure size 432x288 with 1 Axes>"
            ]
          },
          "metadata": {
            "tags": []
          }
        },
        {
          "output_type": "display_data",
          "data": {
            "image/png": "[encoded data removed]",
            "text/plain": [
              "<Figure size 432x288 with 1 Axes>"
            ]
          },
          "metadata": {
            "tags": []
          }
        },
        {
          "output_type": "display_data",
          "data": {
            "image/png": "[encoded data removed]",
            "text/plain": [
              "<Figure size 432x288 with 1 Axes>"
            ]
          },
          "metadata": {
            "tags": []
          }
        }
      ]
    },
    {
      "cell_type": "markdown",
      "metadata": {
        "id": "2F_7RGYaHdok",
        "colab_type": "text"
      },
      "source": [
        "## 2. LSTM model"
      ]
    },
    {
      "cell_type": "code",
      "metadata": {
        "id": "jws3w1JQHcw5",
        "colab_type": "code",
        "colab": {
          "base_uri": "https://localhost:8080/",
          "height": 487
        },
        "outputId": "efa29568-9085-4689-b286-222ff31e5b1b"
      },
      "source": [
        "from tensorflow.keras.layers import LSTM\n",
        "\n",
        "model_LSTM = keras.models.Sequential()\n",
        "model_LSTM.add(Embedding(max_words,embedding_dim , input_length=maxlen))\n",
        "model_LSTM.add(LSTM(100, dropout=0.2, recurrent_dropout=0.2))\n",
        "model_LSTM.add(Dense(1, activation='sigmoid'))\n",
        "\n",
        "model_LSTM.compile(optimizer='adam', loss='binary_crossentropy', metrics=['acc'])\n",
        "\n",
        "model_LSTM.summary()"
      ],
      "execution_count": 41,
      "outputs": [
        {
          "output_type": "stream",
          "text": [
            "Model: \"sequential_1\"\n",
            "_________________________________________________________________\n",
            "Layer (type)                 Output Shape              Param #   \n",
            "=================================================================\n",
            "embedding_1 (Embedding)      (None, 349, 100)          1000000   \n",
            "_________________________________________________________________\n",
            "lstm (LSTM)                  (None, 100)               80400     \n",
            "_________________________________________________________________\n",
            "dense_1 (Dense)              (None, 1)                 101       \n",
            "=================================================================\n",
            "Total params: 1,080,501\n",
            "Trainable params: 1,080,501\n",
            "Non-trainable params: 0\n",
            "_________________________________________________________________\n",
            "Model: \"sequential_1\"\n",
            "_________________________________________________________________\n",
            "Layer (type)                 Output Shape              Param #   \n",
            "=================================================================\n",
            "embedding_1 (Embedding)      (None, 349, 100)          1000000   \n",
            "_________________________________________________________________\n",
            "lstm (LSTM)                  (None, 100)               80400     \n",
            "_________________________________________________________________\n",
            "dense_1 (Dense)              (None, 1)                 101       \n",
            "=================================================================\n",
            "Total params: 1,080,501\n",
            "Trainable params: 1,080,501\n",
            "Non-trainable params: 0\n",
            "_________________________________________________________________\n"
          ],
          "name": "stdout"
        }
      ]
    },
    {
      "cell_type": "code",
      "metadata": {
        "id": "WRHlasfGyy_R",
        "colab_type": "code",
        "colab": {
          "base_uri": "https://localhost:8080/",
          "height": 134
        },
        "outputId": "a29c4807-d53e-4924-fd41-03ee4aa1e34c"
      },
      "source": [
        "model_LSTM.compile(optimizer='adam',\n",
        "              loss='binary_crossentropy',\n",
        "              metrics=['acc'])\n",
        "history_LSTM = model_LSTM.fit(x_train[:300_000], y_train[:300_000],\n",
        "                    epochs=3,\n",
        "                    batch_size=128,\n",
        "                    validation_data=(x_val, y_val))"
      ],
      "execution_count": 43,
      "outputs": [
        {
          "output_type": "stream",
          "text": [
            "Train on 300000 samples, validate on 160000 samples\n",
            "Epoch 1/3\n",
            "300000/300000 [==============================] - 3335s 11ms/sample - loss: 0.4795 - acc: 0.7690 - val_loss: 0.4689 - val_acc: 0.7764\n",
            "Epoch 2/3\n",
            "300000/300000 [==============================] - 3184s 11ms/sample - loss: 0.4529 - acc: 0.7849 - val_loss: 0.4677 - val_acc: 0.7770\n",
            "Epoch 3/3\n",
            "300000/300000 [==============================] - 3178s 11ms/sample - loss: 0.4349 - acc: 0.7947 - val_loss: 0.4715 - val_acc: 0.7749\n"
          ],
          "name": "stdout"
        }
      ]
    },
    {
      "cell_type": "code",
      "metadata": {
        "id": "MyJ6klWjfMPq",
        "colab_type": "code",
        "colab": {
          "base_uri": "https://localhost:8080/",
          "height": 545
        },
        "outputId": "a9543ac0-1a2e-4648-bd75-7df212151820"
      },
      "source": [
        "plot_history(history_LSTM)"
      ],
      "execution_count": 44,
      "outputs": [
        {
          "output_type": "display_data",
          "data": {
            "image/png": "[encoded data removed]",
            "text/plain": [
              "<Figure size 432x288 with 1 Axes>"
            ]
          },
          "metadata": {
            "tags": []
          }
        },
        {
          "output_type": "display_data",
          "data": {
            "image/png": "[encoded data removed]",
            "text/plain": [
              "<Figure size 432x288 with 1 Axes>"
            ]
          },
          "metadata": {
            "tags": []
          }
        }
      ]
    },
    {
      "cell_type": "code",
      "metadata": {
        "id": "nDs6QiVCUSew",
        "colab_type": "code",
        "colab": {}
      },
      "source": [
        "from sklearn.naive_bayes import GaussianNB\n",
        "gnb = GaussianNB()"
      ],
      "execution_count": 0,
      "outputs": []
    },
    {
      "cell_type": "code",
      "metadata": {
        "id": "fJLU3AtNVTb3",
        "colab_type": "code",
        "colab": {
          "base_uri": "https://localhost:8080/",
          "height": 34
        },
        "outputId": "c05ad859-2de1-4228-a6f2-b3db2f10aec5"
      },
      "source": [
        "gnb.fit(x_train, y_train)"
      ],
      "execution_count": 37,
      "outputs": [
        {
          "output_type": "execute_result",
          "data": {
            "text/plain": [
              "GaussianNB(priors=None, var_smoothing=1e-09)"
            ]
          },
          "metadata": {
            "tags": []
          },
          "execution_count": 37
        }
      ]
    },
    {
      "cell_type": "code",
      "metadata": {
        "id": "bj4WIwPcYhGh",
        "colab_type": "code",
        "colab": {}
      },
      "source": [
        "predictions = gnb.predict(x_val)"
      ],
      "execution_count": 0,
      "outputs": []
    },
    {
      "cell_type": "code",
      "metadata": {
        "id": "xO8CzfjDZqbk",
        "colab_type": "code",
        "colab": {
          "base_uri": "https://localhost:8080/",
          "height": 34
        },
        "outputId": "a6de548e-9004-4ad6-8885-f30b72afffb1"
      },
      "source": [
        "from sklearn.metrics import accuracy_score\n",
        "accuracy_score(y_val, predictions)"
      ],
      "execution_count": 39,
      "outputs": [
        {
          "output_type": "execute_result",
          "data": {
            "text/plain": [
              "0.50005625"
            ]
          },
          "metadata": {
            "tags": []
          },
          "execution_count": 39
        }
      ]
    },
    {
      "cell_type": "code",
      "metadata": {
        "id": "FGd4WNVeaevd",
        "colab_type": "code",
        "colab": {
          "base_uri": "https://localhost:8080/",
          "height": 34
        },
        "outputId": "b4f4c6e5-7807-4d42-b617-35603043c461"
      },
      "source": [
        "df_after_preprocessing['alternative_target'] = df_after_preprocessing['alternative_target'].replace({'positive': 1, 'negative':0})\n",
        "df_after_preprocessing_clean = df_after_preprocessing[(df_after_preprocessing['alternative_target'])==(df_after_preprocessing['target'])]\n",
        "df_after_preprocessing_clean.shape"
      ],
      "execution_count": 46,
      "outputs": [
        {
          "output_type": "execute_result",
          "data": {
            "text/plain": [
              "(740096, 11)"
            ]
          },
          "metadata": {
            "tags": []
          },
          "execution_count": 46
        }
      ]
    },
    {
      "cell_type": "code",
      "metadata": {
        "id": "MWioNWRscEeu",
        "colab_type": "code",
        "colab": {
          "base_uri": "https://localhost:8080/",
          "height": 50
        },
        "outputId": "6a7b8904-986c-4923-82b4-8e697496a347"
      },
      "source": [
        "texts_clean = list(df_after_preprocessing_clean['text'])\n",
        "labels_clean = list(df_after_preprocessing_clean['target'])\n",
        "print(\"Number of tweets: \", len(texts_clean))\n",
        "print(\"Number of targets: \", len(labels_clean))"
      ],
      "execution_count": 47,
      "outputs": [
        {
          "output_type": "stream",
          "text": [
            "Number of tweets:  740096\n",
            "Number of targets:  740096\n"
          ],
          "name": "stdout"
        }
      ]
    },
    {
      "cell_type": "code",
      "metadata": {
        "id": "49PxIQ2kcc6V",
        "colab_type": "code",
        "colab": {}
      },
      "source": [
        "maxlen_clean = max(df_after_preprocessing_clean['text'].str.len())\n",
        "training_samples_clean = int(0.8*len(texts_clean))\n",
        "validation_samples_clean = int(0.1*len(texts_clean))\n",
        "test_samples_clean = int(0.1*len(texts_clean))"
      ],
      "execution_count": 0,
      "outputs": []
    },
    {
      "cell_type": "code",
      "metadata": {
        "id": "RSJVw_BpczdW",
        "colab_type": "code",
        "colab": {
          "base_uri": "https://localhost:8080/",
          "height": 34
        },
        "outputId": "daff62c1-f7c0-4fce-bb2d-d39b66db613f"
      },
      "source": [
        "tokenizer = Tokenizer(num_words=max_words)\n",
        "tokenizer.fit_on_texts(texts_clean)\n",
        "sequences_clean = tokenizer.texts_to_sequences(texts_clean)\n",
        "word_index_clean = tokenizer.word_index\n",
        "print('Found %s unique tokens.' % len(word_index_clean))"
      ],
      "execution_count": 49,
      "outputs": [
        {
          "output_type": "stream",
          "text": [
            "Found 250140 unique tokens.\n"
          ],
          "name": "stdout"
        }
      ]
    },
    {
      "cell_type": "code",
      "metadata": {
        "id": "m7WI4Z6LdQp4",
        "colab_type": "code",
        "colab": {
          "base_uri": "https://localhost:8080/",
          "height": 50
        },
        "outputId": "361e236e-9eff-477c-e99f-4051b331522b"
      },
      "source": [
        "data_clean = pad_sequences(sequences_clean, maxlen=maxlen_clean)\n",
        "labels_clean = np.asarray(labels_clean)\n",
        "print(\"Shape of data tensor: \", len(data_clean))\n",
        "print(\"Shape of label tensor: \", len(labels_clean))"
      ],
      "execution_count": 50,
      "outputs": [
        {
          "output_type": "stream",
          "text": [
            "Shape of data tensor:  740096\n",
            "Shape of label tensor:  740096\n"
          ],
          "name": "stdout"
        }
      ]
    },
    {
      "cell_type": "code",
      "metadata": {
        "id": "a8-nbYCfdeql",
        "colab_type": "code",
        "colab": {
          "base_uri": "https://localhost:8080/",
          "height": 67
        },
        "outputId": "4af8b12e-ce97-430b-d744-de3aacb9f082"
      },
      "source": [
        "indices_clean = np.arange(data_clean.shape[0])\n",
        "np.random.shuffle(indices_clean)\n",
        "data_clean = data_clean[indices_clean]\n",
        "labels_clean = labels_clean[indices_clean]\n",
        "\n",
        "x_train_clean = data_clean[:training_samples_clean]\n",
        "y_train_clean = labels_clean[:training_samples_clean]\n",
        "x_val_clean = data_clean[training_samples_clean:training_samples_clean+validation_samples_clean]\n",
        "y_val_clean = labels_clean[training_samples_clean:training_samples_clean+validation_samples_clean]\n",
        "x_test_clean = data_clean[training_samples_clean+validation_samples_clean:]\n",
        "y_test_clean = labels_clean[training_samples_clean+validation_samples_clean  :]\n",
        "\n",
        "print(\"Shape train data \", x_train_clean.shape, y_train_clean.shape)\n",
        "print(\"Shape validation data \", x_val_clean.shape, y_val_clean.shape)\n",
        "print(\"Shape test data \", x_test_clean.shape, y_test_clean.shape)"
      ],
      "execution_count": 54,
      "outputs": [
        {
          "output_type": "stream",
          "text": [
            "Shape train data  (592076, 237) (592076,)\n",
            "Shape validation data  (74009, 237) (74009,)\n",
            "Shape test data  (74011, 237) (74011,)\n"
          ],
          "name": "stdout"
        }
      ]
    },
    {
      "cell_type": "code",
      "metadata": {
        "id": "yMmTfqeflza8",
        "colab_type": "code",
        "colab": {}
      },
      "source": [
        ""
      ],
      "execution_count": 0,
      "outputs": []
    },
    {
      "cell_type": "code",
      "metadata": {
        "id": "mC0KFSYDl5F9",
        "colab_type": "code",
        "colab": {
          "base_uri": "https://localhost:8080/",
          "height": 34
        },
        "outputId": "3d2f9161-5dca-49a2-b6e4-09c76cbe50bb"
      },
      "source": [
        "gnb_clean = GaussianNB()\n",
        "gnb_clean.fit(x_train_clean, y_train_clean)\n",
        "predictions_clean = gnb_clean.predict(x_val_clean)\n",
        "accuracy_score(y_val_clean, predictions_clean)"
      ],
      "execution_count": 55,
      "outputs": [
        {
          "output_type": "execute_result",
          "data": {
            "text/plain": [
              "0.6268021456849843"
            ]
          },
          "metadata": {
            "tags": []
          },
          "execution_count": 55
        }
      ]
    },
    {
      "cell_type": "code",
      "metadata": {
        "id": "Fmptrd-Amd8e",
        "colab_type": "code",
        "colab": {
          "base_uri": "https://localhost:8080/",
          "height": 252
        },
        "outputId": "0d2be3d4-89c1-44c8-bb44-4bcf2a386157"
      },
      "source": [
        "from tensorflow.keras.layers import Embedding, Flatten, Dense, LSTM\n",
        "embedding_dim = 100\n",
        "\n",
        "model_LSTM_clean = keras.models.Sequential()\n",
        "model_LSTM_clean.add(Embedding(max_words,embedding_dim , input_length=maxlen_clean))\n",
        "model_LSTM_clean.add(LSTM(100, dropout=0.2, recurrent_dropout=0.2))\n",
        "model_LSTM_clean.add(Dense(1, activation='sigmoid'))\n",
        "\n",
        "model_LSTM_clean.compile(optimizer='adam', loss='binary_crossentropy', metrics=['acc'])\n",
        "\n",
        "model_LSTM_clean.summary()"
      ],
      "execution_count": 58,
      "outputs": [
        {
          "output_type": "stream",
          "text": [
            "Model: \"sequential_2\"\n",
            "_________________________________________________________________\n",
            "Layer (type)                 Output Shape              Param #   \n",
            "=================================================================\n",
            "embedding (Embedding)        (None, 237, 100)          1000000   \n",
            "_________________________________________________________________\n",
            "lstm (LSTM)                  (None, 100)               80400     \n",
            "_________________________________________________________________\n",
            "dense (Dense)                (None, 1)                 101       \n",
            "=================================================================\n",
            "Total params: 1,080,501\n",
            "Trainable params: 1,080,501\n",
            "Non-trainable params: 0\n",
            "_________________________________________________________________\n"
          ],
          "name": "stdout"
        }
      ]
    },
    {
      "cell_type": "code",
      "metadata": {
        "id": "LSaFtt_2nB4g",
        "colab_type": "code",
        "colab": {
          "base_uri": "https://localhost:8080/",
          "height": 134
        },
        "outputId": "d847d7eb-ed34-4036-a5d1-b5b09faf894b"
      },
      "source": [
        "model_LSTM_clean.compile(optimizer='adam',\n",
        "              loss='binary_crossentropy',\n",
        "              metrics=['acc'])\n",
        "history_LSTM_clean = model_LSTM_clean.fit(x_train_clean, y_train_clean,\n",
        "                    epochs=3,\n",
        "                    batch_size=128,\n",
        "                    validation_data=(x_val_clean, y_val_clean))"
      ],
      "execution_count": 60,
      "outputs": [
        {
          "output_type": "stream",
          "text": [
            "Train on 592076 samples, validate on 74009 samples\n",
            "Epoch 1/3\n",
            "592076/592076 [==============================] - 4200s 7ms/sample - loss: 0.1962 - acc: 0.9203 - val_loss: 0.1661 - val_acc: 0.9346\n",
            "Epoch 2/3\n",
            "592076/592076 [==============================] - 4228s 7ms/sample - loss: 0.1580 - acc: 0.9376 - val_loss: 0.1617 - val_acc: 0.9360\n",
            "Epoch 3/3\n",
            "592076/592076 [==============================] - 4079s 7ms/sample - loss: 0.1474 - acc: 0.9419 - val_loss: 0.1621 - val_acc: 0.9361\n"
          ],
          "name": "stdout"
        }
      ]
    },
    {
      "cell_type": "code",
      "metadata": {
        "id": "ck34oCYDnTtO",
        "colab_type": "code",
        "colab": {
          "base_uri": "https://localhost:8080/",
          "height": 545
        },
        "outputId": "7fa3bf72-13e7-413b-a700-8a4cce23007b"
      },
      "source": [
        "plot_history(history_LSTM_clean)"
      ],
      "execution_count": 63,
      "outputs": [
        {
          "output_type": "display_data",
          "data": {
            "image/png": "[encoded data removed]",
            "text/plain": [
              "<Figure size 432x288 with 1 Axes>"
            ]
          },
          "metadata": {
            "tags": []
          }
        },
        {
          "output_type": "display_data",
          "data": {
            "image/png": "[encoded data removed]",
            "text/plain": [
              "<Figure size 432x288 with 1 Axes>"
            ]
          },
          "metadata": {
            "tags": []
          }
        }
      ]
    },
    {
      "cell_type": "markdown",
      "metadata": {
        "id": "I2LaaZWMWqZh",
        "colab_type": "text"
      },
      "source": [
        "## Next steps:\n",
        "\n",
        "\n",
        "1.   Try Naive Bayes as a simple ML baseline\n",
        "2.   Try using only those samples which are labeled equally in the dataset and by VADER, hoping to remove the ambiguous/poorly labeled samples.\n",
        "3. Try Conv1D network, then Conv1D + LSTM\n",
        "\n",
        "Lesson Learned - you probably need less than 1.6 mil tweets to train a NN on such a trivial task like Sentiment Analysis :)\n",
        "\n"
      ]
    },
    {
      "cell_type": "code",
      "metadata": {
        "id": "mSF_bGoGyzDr",
        "colab_type": "code",
        "colab": {}
      },
      "source": [
        ""
      ],
      "execution_count": 0,
      "outputs": []
    },
    {
      "cell_type": "code",
      "metadata": {
        "id": "x1g651dmyy9V",
        "colab_type": "code",
        "colab": {}
      },
      "source": [
        ""
      ],
      "execution_count": 0,
      "outputs": []
    },
    {
      "cell_type": "code",
      "metadata": {
        "id": "qHKot4jOyytm",
        "colab_type": "code",
        "colab": {}
      },
      "source": [
        ""
      ],
      "execution_count": 0,
      "outputs": []
    },
    {
      "cell_type": "code",
      "metadata": {
        "id": "xsKbst1ayymb",
        "colab_type": "code",
        "colab": {}
      },
      "source": [
        ""
      ],
      "execution_count": 0,
      "outputs": []
    },
    {
      "cell_type": "code",
      "metadata": {
        "id": "8U1t2QSyyygi",
        "colab_type": "code",
        "colab": {}
      },
      "source": [
        ""
      ],
      "execution_count": 0,
      "outputs": []
    },
    {
      "cell_type": "code",
      "metadata": {
        "id": "LrC7ouuXyyfI",
        "colab_type": "code",
        "colab": {}
      },
      "source": [
        ""
      ],
      "execution_count": 0,
      "outputs": []
    },
    {
      "cell_type": "code",
      "metadata": {
        "id": "8PA7_2-Myydd",
        "colab_type": "code",
        "colab": {}
      },
      "source": [
        ""
      ],
      "execution_count": 0,
      "outputs": []
    },
    {
      "cell_type": "code",
      "metadata": {
        "id": "I_4lXxlSyyYt",
        "colab_type": "code",
        "colab": {}
      },
      "source": [
        ""
      ],
      "execution_count": 0,
      "outputs": []
    },
    {
      "cell_type": "code",
      "metadata": {
        "id": "yQjJngkGyyV4",
        "colab_type": "code",
        "colab": {}
      },
      "source": [
        ""
      ],
      "execution_count": 0,
      "outputs": []
    },
    {
      "cell_type": "code",
      "metadata": {
        "id": "z2E9I2rwyyTa",
        "colab_type": "code",
        "colab": {}
      },
      "source": [
        ""
      ],
      "execution_count": 0,
      "outputs": []
    },
    {
      "cell_type": "code",
      "metadata": {
        "id": "9ntW3OrryyRG",
        "colab_type": "code",
        "colab": {}
      },
      "source": [
        ""
      ],
      "execution_count": 0,
      "outputs": []
    },
    {
      "cell_type": "code",
      "metadata": {
        "id": "EVx3CItPc32A",
        "colab_type": "code",
        "colab": {}
      },
      "source": [
        "df_after_preprocessing['text']"
      ],
      "execution_count": 0,
      "outputs": []
    },
    {
      "cell_type": "code",
      "metadata": {
        "id": "7Pl6VOIp5pS4",
        "colab_type": "code",
        "colab": {}
      },
      "source": [
        "original_dataset = df[['target', 'text']]\n",
        "vader_dataset = df[['alternative_target', 'text']]"
      ],
      "execution_count": 0,
      "outputs": []
    },
    {
      "cell_type": "code",
      "metadata": {
        "id": "TvXUW9sL5pWz",
        "colab_type": "code",
        "colab": {}
      },
      "source": [
        "original_dataset['text']"
      ],
      "execution_count": 0,
      "outputs": []
    },
    {
      "cell_type": "code",
      "metadata": {
        "id": "wbpuFaoh5pae",
        "colab_type": "code",
        "colab": {}
      },
      "source": [
        ""
      ],
      "execution_count": 0,
      "outputs": []
    },
    {
      "cell_type": "code",
      "metadata": {
        "id": "AJfaUNhS5pGc",
        "colab_type": "code",
        "colab": {}
      },
      "source": [
        ""
      ],
      "execution_count": 0,
      "outputs": []
    },
    {
      "cell_type": "code",
      "metadata": {
        "id": "n2ye4T6UvmFd",
        "colab_type": "code",
        "colab": {}
      },
      "source": [
        ""
      ],
      "execution_count": 0,
      "outputs": []
    },
    {
      "cell_type": "markdown",
      "metadata": {
        "id": "PJwE-nMzvn1C",
        "colab_type": "text"
      },
      "source": [
        "Citation: Go, A., Bhayani, R. and Huang, L., 2009. Twitter sentiment \n",
        "classification using distant supervision. CS224N Project Report, Stanford, 1(2009), p.12.\n",
        "\n",
        "\n",
        "1.   Citation: Go, A., Bhayani, R. and Huang, L., 2009. Twitter sentiment \n",
        "classification using distant supervision. CS224N Project Report, Stanford, 1(2009), p.12.\n",
        "2.   http://comp.social.gatech.edu/papers/icwsm14.vader.hutto.pdf\n",
        "\n"
      ]
    }
  ]
}